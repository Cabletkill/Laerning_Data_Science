{
 "cells": [
  {
   "cell_type": "markdown",
   "metadata": {},
   "source": [
    "# Projeto de Análise de Vendas "
   ]
  },
  {
   "cell_type": "markdown",
   "metadata": {},
   "source": [
    "\n",
    "### Introdução\n",
    "\n",
    "Essa análise apresenta um estudo detalhado dos dados de vendas, buscando identificar tendências e padrões que possam apoiar decisões estratégicas. Foram investigados aspectos como a distribuição de categorias de produtos, tipos de clientes, tendências temporais de vendas, desempenho por localidade e a eficiência dos gerentes de conta. Além disso, a análise abrangeu o impacto de descontos, modos de envio e a comparação entre preços de custo e varejo. Os insights obtidos oferecem uma base sólida para otimizar operações e aumentar a lucratividade da empresa."
   ]
  },
  {
   "cell_type": "markdown",
   "metadata": {},
   "source": [
    "## Instalando e Carregando os Pacotes"
   ]
  },
  {
   "cell_type": "code",
   "execution_count": 1,
   "metadata": {},
   "outputs": [
    {
     "name": "stdout",
     "output_type": "stream",
     "text": [
      "Versão da Linguagem Python Usada Neste Jupyter Notebook: 3.12.2\n"
     ]
    }
   ],
   "source": [
    "# Versão da Linguagem Python\n",
    "from platform import python_version\n",
    "print('Versão da Linguagem Python Usada Neste Jupyter Notebook:', python_version())"
   ]
  },
  {
   "cell_type": "code",
   "execution_count": 2,
   "metadata": {},
   "outputs": [],
   "source": [
    "# Imports\n",
    "import pandas as pd                 # Importa a biblioteca pandas e a renomeia como pd\n",
    "import numpy as np                  # Importa a biblioteca numpy e a renomeia como np\n",
    "import math                         # Importa o módulo math para operações matemáticas\n",
    "import sys, os                      # Importa os módulos sys e os para funcionalidades relacionadas ao sistema operacional\n",
    "import matplotlib.pyplot as plt     # Importa a biblioteca de visualização matplotlib e renomeia o módulo pyplot como plt\n",
    "import seaborn as sns               # Importa a biblioteca de visualização seaborn e a renomeia como sns\n",
    "import warnings                     # Importa o módulo warnings para gerenciar avisos durante a execução do código\n",
    "import locale                       # Importa o módulo locale que é usada para formatar o valor como uma string de moeda\n",
    "import scipy                                                                # Biblioteca para cálculos científicos e estatísticos\n",
    "import numpy as np                                                          # Biblioteca para manipulação de arrays e operações matemáticas\n",
    "import pandas as pd                                                         # Biblioteca para manipulação e análise de dados em formato de DataFrame\n",
    "import statsmodels.api as sm                                                # Biblioteca para modelagem estatística, incluindo regressão linear\n",
    "from scipy.stats import shapiro, ttest_ind, levene, bartlett, f_oneway      # Funções estatísticas específicas\n",
    "from statsmodels.formula.api import ols                                     # Função para criação de modelos de regressão linear através de fórmulas\n",
    "\n",
    "\n",
    "warnings.filterwarnings(\"ignore\")   # Configuração para ignorar avisos durante a execução do código"
   ]
  },
  {
   "cell_type": "markdown",
   "metadata": {},
   "source": [
    "## Carregando os Dados"
   ]
  },
  {
   "cell_type": "code",
   "execution_count": 3,
   "metadata": {},
   "outputs": [],
   "source": [
    "# Lista para identificar os valores ausentes\n",
    "lista_labels_valores_ausentes = [\"n/a,\", \"na\", \"undefined\"]"
   ]
  },
  {
   "cell_type": "code",
   "execution_count": 4,
   "metadata": {},
   "outputs": [],
   "source": [
    "#dataset = pd.read_csv('dados/dataset.csv', lista_labels_valores_ausentes) barra estava errada\n",
    "dataset = pd.read_excel('dados\\dataset_vendas.xlsx', na_values= lista_labels_valores_ausentes)"
   ]
  },
  {
   "cell_type": "code",
   "execution_count": 5,
   "metadata": {},
   "outputs": [
    {
     "data": {
      "text/plain": [
       "(1039, 23)"
      ]
     },
     "execution_count": 5,
     "metadata": {},
     "output_type": "execute_result"
    }
   ],
   "source": [
    "# Verificando quantidade de linhas e colunas com a função shape\n",
    "dataset.shape"
   ]
  },
  {
   "cell_type": "code",
   "execution_count": 6,
   "metadata": {},
   "outputs": [
    {
     "data": {
      "text/html": [
       "<div>\n",
       "<style scoped>\n",
       "    .dataframe tbody tr th:only-of-type {\n",
       "        vertical-align: middle;\n",
       "    }\n",
       "\n",
       "    .dataframe tbody tr th {\n",
       "        vertical-align: top;\n",
       "    }\n",
       "\n",
       "    .dataframe thead th {\n",
       "        text-align: right;\n",
       "    }\n",
       "</style>\n",
       "<table border=\"1\" class=\"dataframe\">\n",
       "  <thead>\n",
       "    <tr style=\"text-align: right;\">\n",
       "      <th></th>\n",
       "      <th>Order No</th>\n",
       "      <th>Order Date</th>\n",
       "      <th>Customer Name</th>\n",
       "      <th>Address</th>\n",
       "      <th>City</th>\n",
       "      <th>State</th>\n",
       "      <th>Customer Type</th>\n",
       "      <th>Account Manager</th>\n",
       "      <th>Order Priority</th>\n",
       "      <th>Product Name</th>\n",
       "      <th>...</th>\n",
       "      <th>Ship Date</th>\n",
       "      <th>Cost Price</th>\n",
       "      <th>Retail Price</th>\n",
       "      <th>Order Quantity</th>\n",
       "      <th>Sub Total</th>\n",
       "      <th>Discount %</th>\n",
       "      <th>Discount $</th>\n",
       "      <th>Total After Discount</th>\n",
       "      <th>Shipping Cost</th>\n",
       "      <th>Order Total</th>\n",
       "    </tr>\n",
       "  </thead>\n",
       "  <tbody>\n",
       "    <tr>\n",
       "      <th>0</th>\n",
       "      <td>5014-1</td>\n",
       "      <td>2013-02-11</td>\n",
       "      <td>Patrick Jones</td>\n",
       "      <td>221 Barkly St,St Kilda</td>\n",
       "      <td>Melbourne</td>\n",
       "      <td>VIC</td>\n",
       "      <td>Home Office</td>\n",
       "      <td>Yvette Biti</td>\n",
       "      <td>High</td>\n",
       "      <td>Artisan Heavy-Duty EZD  Binder With Locking Rings</td>\n",
       "      <td>...</td>\n",
       "      <td>2013-02-12</td>\n",
       "      <td>3.52</td>\n",
       "      <td>5.58</td>\n",
       "      <td>29</td>\n",
       "      <td>161.82</td>\n",
       "      <td>0.03</td>\n",
       "      <td>4.8546</td>\n",
       "      <td>161.79</td>\n",
       "      <td>2.99</td>\n",
       "      <td>164.78</td>\n",
       "    </tr>\n",
       "    <tr>\n",
       "      <th>1</th>\n",
       "      <td>5016-1</td>\n",
       "      <td>2013-02-11</td>\n",
       "      <td>Alex Russell</td>\n",
       "      <td>99 Lygon Street,East Brunswick</td>\n",
       "      <td>Melbourne</td>\n",
       "      <td>VIC</td>\n",
       "      <td>Home Office</td>\n",
       "      <td>Connor Betts</td>\n",
       "      <td>High</td>\n",
       "      <td>DrawIt Pizazz Watercolor Pencils, 10-Color Set...</td>\n",
       "      <td>...</td>\n",
       "      <td>2013-02-12</td>\n",
       "      <td>2.39</td>\n",
       "      <td>4.26</td>\n",
       "      <td>29</td>\n",
       "      <td>123.54</td>\n",
       "      <td>0.03</td>\n",
       "      <td>3.7062</td>\n",
       "      <td>123.51</td>\n",
       "      <td>1.20</td>\n",
       "      <td>124.71</td>\n",
       "    </tr>\n",
       "    <tr>\n",
       "      <th>2</th>\n",
       "      <td>5018-1</td>\n",
       "      <td>2013-02-12</td>\n",
       "      <td>Tamara Dahlen</td>\n",
       "      <td>61 York St,Sydney</td>\n",
       "      <td>Sydney</td>\n",
       "      <td>NSW</td>\n",
       "      <td>Corporate</td>\n",
       "      <td>Leighton Forrest</td>\n",
       "      <td>Critical</td>\n",
       "      <td>Message Book, One Form per Page</td>\n",
       "      <td>...</td>\n",
       "      <td>2013-02-14</td>\n",
       "      <td>2.41</td>\n",
       "      <td>3.71</td>\n",
       "      <td>42</td>\n",
       "      <td>155.82</td>\n",
       "      <td>0.07</td>\n",
       "      <td>10.9074</td>\n",
       "      <td>155.75</td>\n",
       "      <td>1.93</td>\n",
       "      <td>157.68</td>\n",
       "    </tr>\n",
       "  </tbody>\n",
       "</table>\n",
       "<p>3 rows × 23 columns</p>\n",
       "</div>"
      ],
      "text/plain": [
       "  Order No Order Date  Customer Name                         Address  \\\n",
       "0   5014-1 2013-02-11  Patrick Jones          221 Barkly St,St Kilda   \n",
       "1   5016-1 2013-02-11   Alex Russell  99 Lygon Street,East Brunswick   \n",
       "2   5018-1 2013-02-12  Tamara Dahlen               61 York St,Sydney   \n",
       "\n",
       "        City State Customer Type   Account Manager Order Priority  \\\n",
       "0  Melbourne   VIC   Home Office       Yvette Biti           High   \n",
       "1  Melbourne   VIC   Home Office      Connor Betts           High   \n",
       "2     Sydney   NSW     Corporate  Leighton Forrest       Critical   \n",
       "\n",
       "                                        Product Name  ...  Ship Date  \\\n",
       "0  Artisan Heavy-Duty EZD  Binder With Locking Rings  ... 2013-02-12   \n",
       "1  DrawIt Pizazz Watercolor Pencils, 10-Color Set...  ... 2013-02-12   \n",
       "2                    Message Book, One Form per Page  ... 2013-02-14   \n",
       "\n",
       "  Cost Price Retail Price Order Quantity  Sub Total  Discount %  Discount $  \\\n",
       "0       3.52         5.58             29     161.82        0.03      4.8546   \n",
       "1       2.39         4.26             29     123.54        0.03      3.7062   \n",
       "2       2.41         3.71             42     155.82        0.07     10.9074   \n",
       "\n",
       "   Total After Discount  Shipping Cost  Order Total  \n",
       "0                161.79           2.99       164.78  \n",
       "1                123.51           1.20       124.71  \n",
       "2                155.75           1.93       157.68  \n",
       "\n",
       "[3 rows x 23 columns]"
      ]
     },
     "execution_count": 6,
     "metadata": {},
     "output_type": "execute_result"
    }
   ],
   "source": [
    "# Verificando uma amostra dos dados \n",
    "dataset.head(3)"
   ]
  },
  {
   "cell_type": "markdown",
   "metadata": {},
   "source": [
    "## Análise Exploratória"
   ]
  },
  {
   "cell_type": "code",
   "execution_count": 7,
   "metadata": {},
   "outputs": [
    {
     "name": "stdout",
     "output_type": "stream",
     "text": [
      "<class 'pandas.core.frame.DataFrame'>\n",
      "RangeIndex: 1039 entries, 0 to 1038\n",
      "Data columns (total 23 columns):\n",
      " #   Column                Non-Null Count  Dtype         \n",
      "---  ------                --------------  -----         \n",
      " 0   Order No              1039 non-null   object        \n",
      " 1   Order Date            1039 non-null   datetime64[ns]\n",
      " 2   Customer Name         1039 non-null   object        \n",
      " 3   Address               1039 non-null   object        \n",
      " 4   City                  1039 non-null   object        \n",
      " 5   State                 1039 non-null   object        \n",
      " 6   Customer Type         1039 non-null   object        \n",
      " 7   Account Manager       1039 non-null   object        \n",
      " 8   Order Priority        1039 non-null   object        \n",
      " 9   Product Name          1039 non-null   object        \n",
      " 10  Product Category      1039 non-null   object        \n",
      " 11  Product Container     1039 non-null   object        \n",
      " 12  Ship Mode             1039 non-null   object        \n",
      " 13  Ship Date             1039 non-null   datetime64[ns]\n",
      " 14  Cost Price            1039 non-null   float64       \n",
      " 15  Retail Price          1039 non-null   float64       \n",
      " 16  Order Quantity        1039 non-null   int64         \n",
      " 17  Sub Total             1039 non-null   float64       \n",
      " 18  Discount %            1039 non-null   float64       \n",
      " 19  Discount $            1039 non-null   float64       \n",
      " 20  Total After Discount  1039 non-null   float64       \n",
      " 21  Shipping Cost         1039 non-null   float64       \n",
      " 22  Order Total           1039 non-null   float64       \n",
      "dtypes: datetime64[ns](2), float64(8), int64(1), object(12)\n",
      "memory usage: 186.8+ KB\n"
     ]
    }
   ],
   "source": [
    "# info\n",
    "dataset.info()"
   ]
  },
  {
   "cell_type": "code",
   "execution_count": 8,
   "metadata": {},
   "outputs": [
    {
     "data": {
      "text/plain": [
       "Order No                0\n",
       "Order Date              0\n",
       "Customer Name           0\n",
       "Address                 0\n",
       "City                    0\n",
       "State                   0\n",
       "Customer Type           0\n",
       "Account Manager         0\n",
       "Order Priority          0\n",
       "Product Name            0\n",
       "Product Category        0\n",
       "Product Container       0\n",
       "Ship Mode               0\n",
       "Ship Date               0\n",
       "Cost Price              0\n",
       "Retail Price            0\n",
       "Order Quantity          0\n",
       "Sub Total               0\n",
       "Discount %              0\n",
       "Discount $              0\n",
       "Total After Discount    0\n",
       "Shipping Cost           0\n",
       "Order Total             0\n",
       "dtype: int64"
      ]
     },
     "execution_count": 8,
     "metadata": {},
     "output_type": "execute_result"
    }
   ],
   "source": [
    "# Temos valores nulos? Quantos?\n",
    "dataset.isna().sum()"
   ]
  },
  {
   "cell_type": "code",
   "execution_count": 9,
   "metadata": {},
   "outputs": [
    {
     "data": {
      "text/plain": [
       "0        Small Box\n",
       "1         Wrap Bag\n",
       "2         Wrap Bag\n",
       "3       Jumbo Drum\n",
       "4         Wrap Bag\n",
       "           ...    \n",
       "1034     Small Box\n",
       "1035     Small Box\n",
       "1036     Small Box\n",
       "1037     Small Box\n",
       "1038      Wrap Bag\n",
       "Name: Product Container, Length: 1039, dtype: object"
      ]
     },
     "execution_count": 9,
     "metadata": {},
     "output_type": "execute_result"
    }
   ],
   "source": [
    "dataset['Product Container']"
   ]
  },
  {
   "cell_type": "code",
   "execution_count": 10,
   "metadata": {},
   "outputs": [],
   "source": [
    "new_column_names = {\n",
    "    'Order No': 'nro_pedido',\n",
    "    'Order Date': 'data_pedido',\n",
    "    'Customer Name': 'nome_consumidor',\n",
    "    'Address': 'endereco',\n",
    "    'City': 'cidade',\n",
    "    'State': 'estado',\n",
    "    'Customer Type': 'tipo_consumidor',\n",
    "    'Account Manager': 'gerente_conta',\n",
    "    'Order Priority': 'prioridade_pedido',\n",
    "    'Product Name': 'nome_produto',\n",
    "    'Product Category': 'categoria_produto',\n",
    "    'Product Container': 'caixa_produto',\n",
    "    'Ship Mode': 'modo_envio',\n",
    "    'Ship Date': 'data_envio',\n",
    "    'Cost Price': 'preco_custo',\n",
    "    'Retail Price': 'preco_varejo',\n",
    "    'Order Quantity': 'quantidade_pedido',\n",
    "    'Sub Total': 'sub_total',\n",
    "    'Discount %': 'desconto_porcentagem',\n",
    "    'Discount $': 'desconto_dinheiro',\n",
    "    'Total After Discount': 'total_apos_desconto',\n",
    "    'Shipping Cost': 'custo_transporte',\n",
    "    'Order Total': 'total_pedido'\n",
    "}\n",
    "# Renomear as colunas do DataFrame\n",
    "dataset.rename(columns=new_column_names, inplace=True)"
   ]
  },
  {
   "cell_type": "markdown",
   "metadata": {},
   "source": [
    "Como não encountrei dados nulos ou ausentes, já posso continuar com a análise e responder as perguntas."
   ]
  },
  {
   "cell_type": "code",
   "execution_count": 11,
   "metadata": {},
   "outputs": [
    {
     "data": {
      "text/html": [
       "<div>\n",
       "<style scoped>\n",
       "    .dataframe tbody tr th:only-of-type {\n",
       "        vertical-align: middle;\n",
       "    }\n",
       "\n",
       "    .dataframe tbody tr th {\n",
       "        vertical-align: top;\n",
       "    }\n",
       "\n",
       "    .dataframe thead th {\n",
       "        text-align: right;\n",
       "    }\n",
       "</style>\n",
       "<table border=\"1\" class=\"dataframe\">\n",
       "  <thead>\n",
       "    <tr style=\"text-align: right;\">\n",
       "      <th></th>\n",
       "      <th>nro_pedido</th>\n",
       "      <th>data_pedido</th>\n",
       "      <th>nome_consumidor</th>\n",
       "      <th>endereco</th>\n",
       "      <th>cidade</th>\n",
       "      <th>estado</th>\n",
       "      <th>tipo_consumidor</th>\n",
       "      <th>gerente_conta</th>\n",
       "      <th>prioridade_pedido</th>\n",
       "      <th>nome_produto</th>\n",
       "      <th>...</th>\n",
       "      <th>data_envio</th>\n",
       "      <th>preco_custo</th>\n",
       "      <th>preco_varejo</th>\n",
       "      <th>quantidade_pedido</th>\n",
       "      <th>sub_total</th>\n",
       "      <th>desconto_porcentagem</th>\n",
       "      <th>desconto_dinheiro</th>\n",
       "      <th>total_apos_desconto</th>\n",
       "      <th>custo_transporte</th>\n",
       "      <th>total_pedido</th>\n",
       "    </tr>\n",
       "  </thead>\n",
       "  <tbody>\n",
       "    <tr>\n",
       "      <th>0</th>\n",
       "      <td>5014-1</td>\n",
       "      <td>2013-02-11</td>\n",
       "      <td>Patrick Jones</td>\n",
       "      <td>221 Barkly St,St Kilda</td>\n",
       "      <td>Melbourne</td>\n",
       "      <td>VIC</td>\n",
       "      <td>Home Office</td>\n",
       "      <td>Yvette Biti</td>\n",
       "      <td>High</td>\n",
       "      <td>Artisan Heavy-Duty EZD  Binder With Locking Rings</td>\n",
       "      <td>...</td>\n",
       "      <td>2013-02-12</td>\n",
       "      <td>3.52</td>\n",
       "      <td>5.58</td>\n",
       "      <td>29</td>\n",
       "      <td>161.82</td>\n",
       "      <td>0.03</td>\n",
       "      <td>4.8546</td>\n",
       "      <td>161.79</td>\n",
       "      <td>2.99</td>\n",
       "      <td>164.78</td>\n",
       "    </tr>\n",
       "    <tr>\n",
       "      <th>1</th>\n",
       "      <td>5016-1</td>\n",
       "      <td>2013-02-11</td>\n",
       "      <td>Alex Russell</td>\n",
       "      <td>99 Lygon Street,East Brunswick</td>\n",
       "      <td>Melbourne</td>\n",
       "      <td>VIC</td>\n",
       "      <td>Home Office</td>\n",
       "      <td>Connor Betts</td>\n",
       "      <td>High</td>\n",
       "      <td>DrawIt Pizazz Watercolor Pencils, 10-Color Set...</td>\n",
       "      <td>...</td>\n",
       "      <td>2013-02-12</td>\n",
       "      <td>2.39</td>\n",
       "      <td>4.26</td>\n",
       "      <td>29</td>\n",
       "      <td>123.54</td>\n",
       "      <td>0.03</td>\n",
       "      <td>3.7062</td>\n",
       "      <td>123.51</td>\n",
       "      <td>1.20</td>\n",
       "      <td>124.71</td>\n",
       "    </tr>\n",
       "    <tr>\n",
       "      <th>2</th>\n",
       "      <td>5018-1</td>\n",
       "      <td>2013-02-12</td>\n",
       "      <td>Tamara Dahlen</td>\n",
       "      <td>61 York St,Sydney</td>\n",
       "      <td>Sydney</td>\n",
       "      <td>NSW</td>\n",
       "      <td>Corporate</td>\n",
       "      <td>Leighton Forrest</td>\n",
       "      <td>Critical</td>\n",
       "      <td>Message Book, One Form per Page</td>\n",
       "      <td>...</td>\n",
       "      <td>2013-02-14</td>\n",
       "      <td>2.41</td>\n",
       "      <td>3.71</td>\n",
       "      <td>42</td>\n",
       "      <td>155.82</td>\n",
       "      <td>0.07</td>\n",
       "      <td>10.9074</td>\n",
       "      <td>155.75</td>\n",
       "      <td>1.93</td>\n",
       "      <td>157.68</td>\n",
       "    </tr>\n",
       "  </tbody>\n",
       "</table>\n",
       "<p>3 rows × 23 columns</p>\n",
       "</div>"
      ],
      "text/plain": [
       "  nro_pedido data_pedido nome_consumidor                        endereco  \\\n",
       "0     5014-1  2013-02-11   Patrick Jones          221 Barkly St,St Kilda   \n",
       "1     5016-1  2013-02-11    Alex Russell  99 Lygon Street,East Brunswick   \n",
       "2     5018-1  2013-02-12   Tamara Dahlen               61 York St,Sydney   \n",
       "\n",
       "      cidade estado tipo_consumidor     gerente_conta prioridade_pedido  \\\n",
       "0  Melbourne    VIC     Home Office       Yvette Biti              High   \n",
       "1  Melbourne    VIC     Home Office      Connor Betts              High   \n",
       "2     Sydney    NSW       Corporate  Leighton Forrest          Critical   \n",
       "\n",
       "                                        nome_produto  ... data_envio  \\\n",
       "0  Artisan Heavy-Duty EZD  Binder With Locking Rings  ... 2013-02-12   \n",
       "1  DrawIt Pizazz Watercolor Pencils, 10-Color Set...  ... 2013-02-12   \n",
       "2                    Message Book, One Form per Page  ... 2013-02-14   \n",
       "\n",
       "  preco_custo preco_varejo quantidade_pedido  sub_total  desconto_porcentagem  \\\n",
       "0        3.52         5.58                29     161.82                  0.03   \n",
       "1        2.39         4.26                29     123.54                  0.03   \n",
       "2        2.41         3.71                42     155.82                  0.07   \n",
       "\n",
       "   desconto_dinheiro  total_apos_desconto  custo_transporte  total_pedido  \n",
       "0             4.8546               161.79              2.99        164.78  \n",
       "1             3.7062               123.51              1.20        124.71  \n",
       "2            10.9074               155.75              1.93        157.68  \n",
       "\n",
       "[3 rows x 23 columns]"
      ]
     },
     "execution_count": 11,
     "metadata": {},
     "output_type": "execute_result"
    }
   ],
   "source": [
    "# Verificando uma amostra dos dados \n",
    "dataset.head(3)"
   ]
  },
  {
   "cell_type": "markdown",
   "metadata": {},
   "source": [
    "## **Distribuição de Frequências:**\n",
    "   - Qual é a distribuição de frequência das diferentes categorias de produtos (`categoria_produto`)?\n"
   ]
  },
  {
   "cell_type": "code",
   "execution_count": 12,
   "metadata": {},
   "outputs": [],
   "source": [
    "# Contagem de valores para cada categoria\n",
    "dist_product_cat = dataset['categoria_produto'].value_counts()"
   ]
  },
  {
   "cell_type": "code",
   "execution_count": 13,
   "metadata": {},
   "outputs": [
    {
     "data": {
      "image/png": "[encoded data removed]",
      "text/plain": [
       "<Figure size 800x400 with 1 Axes>"
      ]
     },
     "metadata": {},
     "output_type": "display_data"
    }
   ],
   "source": [
    "plt.figure(figsize=(8, 4))                             # Define o tamanho da figura do gráfico\n",
    "ax = dist_product_cat.plot(kind='bar')                  # Plota um gráfico de barras com a contagem das categorias de produtos\n",
    "plt.title(\"Distribuição das Categorias de Produtos\")    # Define o título do gráfico\n",
    "plt.xlabel(\"Categoria de Produto\")                      # Define o rótulo do eixo x\n",
    "plt.ylabel(\"Contagem\")                                  # Define o rótulo do eixo y\n",
    "plt.xticks(rotation=45)                                 # Rotaciona os rótulos do eixo x para 45 graus\n",
    "\n",
    "# Itera sobre cada barra (patch) no gráfico de barras\n",
    "for linha in ax.patches:\n",
    "    # Adiciona uma anotação (número total) acima de cada barra\n",
    "    ax.annotate(\n",
    "        f\"{linha.get_height():.0f}\",                                     # Texto formatado com a altura da barra como número inteiro\n",
    "        (linha.get_x() + linha.get_width() / 2., linha.get_height()),    # Coordenadas do texto (centro da barra)\n",
    "        ha='center',                                                     # Alinhamento horizontal: centralizado\n",
    "        va='center',                                                     # Alinhamento vertical: centralizado\n",
    "        xytext=(0, 6),                                                  # Deslocamento do texto (10 pontos acima)\n",
    "        textcoords='offset points'                                       # Coordenadas do deslocamento em pontos\n",
    "    )\n",
    "\n",
    "plt.show()"
   ]
  },
  {
   "cell_type": "markdown",
   "metadata": {},
   "source": [
    "   - Qual é a distribuição de frequência dos diferentes tipos de clientes (`tipo_consumidor`)?"
   ]
  },
  {
   "cell_type": "code",
   "execution_count": 14,
   "metadata": {},
   "outputs": [],
   "source": [
    "# Contagem de valores para cada categoria\n",
    "dist_customer_type = dataset['tipo_consumidor'].value_counts()"
   ]
  },
  {
   "cell_type": "code",
   "execution_count": 15,
   "metadata": {},
   "outputs": [
    {
     "data": {
      "image/png": "[encoded data removed]",
      "text/plain": [
       "<Figure size 1000x400 with 1 Axes>"
      ]
     },
     "metadata": {},
     "output_type": "display_data"
    }
   ],
   "source": [
    "# Gráfico para a distribuição dos tipos de clientes\n",
    "plt.figure(figsize=(10, 4))\n",
    "ax = dist_customer_type.plot(kind='bar')\n",
    "plt.title('Distribuição dos Tipos de Clientes')\n",
    "plt.xlabel('Tipo de Cliente')\n",
    "plt.ylabel('Contagem')\n",
    "plt.xticks(rotation=45)\n",
    "\n",
    "# Itera sobre cada barra (patch) no gráfico de barras\n",
    "for linha in ax.patches:\n",
    "    # Adiciona uma anotação (número total) acima de cada barra\n",
    "    ax.annotate(\n",
    "        f\"{linha.get_height():.0f}\",                                     # Texto formatado com a altura da barra como número inteiro\n",
    "        (linha.get_x() + linha.get_width() / 2., linha.get_height()),    # Coordenadas do texto (centro da barra)\n",
    "        ha='center',                                                     # Alinhamento horizontal: centralizado\n",
    "        va='center',                                                     # Alinhamento vertical: centralizado\n",
    "        xytext=(0, 6),                                                  # Deslocamento do texto (10 pontos acima)\n",
    "        textcoords='offset points'                                       # Coordenadas do deslocamento em pontos\n",
    "    )\n",
    "\n",
    "plt.show()"
   ]
  },
  {
   "cell_type": "code",
   "execution_count": 16,
   "metadata": {},
   "outputs": [
    {
     "data": {
      "text/html": [
       "<div>\n",
       "<style scoped>\n",
       "    .dataframe tbody tr th:only-of-type {\n",
       "        vertical-align: middle;\n",
       "    }\n",
       "\n",
       "    .dataframe tbody tr th {\n",
       "        vertical-align: top;\n",
       "    }\n",
       "\n",
       "    .dataframe thead th {\n",
       "        text-align: right;\n",
       "    }\n",
       "</style>\n",
       "<table border=\"1\" class=\"dataframe\">\n",
       "  <thead>\n",
       "    <tr style=\"text-align: right;\">\n",
       "      <th></th>\n",
       "      <th>nro_pedido</th>\n",
       "      <th>data_pedido</th>\n",
       "      <th>nome_consumidor</th>\n",
       "      <th>endereco</th>\n",
       "      <th>cidade</th>\n",
       "      <th>estado</th>\n",
       "      <th>tipo_consumidor</th>\n",
       "      <th>gerente_conta</th>\n",
       "      <th>prioridade_pedido</th>\n",
       "      <th>nome_produto</th>\n",
       "      <th>...</th>\n",
       "      <th>data_envio</th>\n",
       "      <th>preco_custo</th>\n",
       "      <th>preco_varejo</th>\n",
       "      <th>quantidade_pedido</th>\n",
       "      <th>sub_total</th>\n",
       "      <th>desconto_porcentagem</th>\n",
       "      <th>desconto_dinheiro</th>\n",
       "      <th>total_apos_desconto</th>\n",
       "      <th>custo_transporte</th>\n",
       "      <th>total_pedido</th>\n",
       "    </tr>\n",
       "  </thead>\n",
       "  <tbody>\n",
       "    <tr>\n",
       "      <th>0</th>\n",
       "      <td>5014-1</td>\n",
       "      <td>2013-02-11</td>\n",
       "      <td>Patrick Jones</td>\n",
       "      <td>221 Barkly St,St Kilda</td>\n",
       "      <td>Melbourne</td>\n",
       "      <td>VIC</td>\n",
       "      <td>Home Office</td>\n",
       "      <td>Yvette Biti</td>\n",
       "      <td>High</td>\n",
       "      <td>Artisan Heavy-Duty EZD  Binder With Locking Rings</td>\n",
       "      <td>...</td>\n",
       "      <td>2013-02-12</td>\n",
       "      <td>3.52</td>\n",
       "      <td>5.58</td>\n",
       "      <td>29</td>\n",
       "      <td>161.82</td>\n",
       "      <td>0.03</td>\n",
       "      <td>4.8546</td>\n",
       "      <td>161.79</td>\n",
       "      <td>2.99</td>\n",
       "      <td>164.78</td>\n",
       "    </tr>\n",
       "    <tr>\n",
       "      <th>1</th>\n",
       "      <td>5016-1</td>\n",
       "      <td>2013-02-11</td>\n",
       "      <td>Alex Russell</td>\n",
       "      <td>99 Lygon Street,East Brunswick</td>\n",
       "      <td>Melbourne</td>\n",
       "      <td>VIC</td>\n",
       "      <td>Home Office</td>\n",
       "      <td>Connor Betts</td>\n",
       "      <td>High</td>\n",
       "      <td>DrawIt Pizazz Watercolor Pencils, 10-Color Set...</td>\n",
       "      <td>...</td>\n",
       "      <td>2013-02-12</td>\n",
       "      <td>2.39</td>\n",
       "      <td>4.26</td>\n",
       "      <td>29</td>\n",
       "      <td>123.54</td>\n",
       "      <td>0.03</td>\n",
       "      <td>3.7062</td>\n",
       "      <td>123.51</td>\n",
       "      <td>1.20</td>\n",
       "      <td>124.71</td>\n",
       "    </tr>\n",
       "    <tr>\n",
       "      <th>2</th>\n",
       "      <td>5018-1</td>\n",
       "      <td>2013-02-12</td>\n",
       "      <td>Tamara Dahlen</td>\n",
       "      <td>61 York St,Sydney</td>\n",
       "      <td>Sydney</td>\n",
       "      <td>NSW</td>\n",
       "      <td>Corporate</td>\n",
       "      <td>Leighton Forrest</td>\n",
       "      <td>Critical</td>\n",
       "      <td>Message Book, One Form per Page</td>\n",
       "      <td>...</td>\n",
       "      <td>2013-02-14</td>\n",
       "      <td>2.41</td>\n",
       "      <td>3.71</td>\n",
       "      <td>42</td>\n",
       "      <td>155.82</td>\n",
       "      <td>0.07</td>\n",
       "      <td>10.9074</td>\n",
       "      <td>155.75</td>\n",
       "      <td>1.93</td>\n",
       "      <td>157.68</td>\n",
       "    </tr>\n",
       "  </tbody>\n",
       "</table>\n",
       "<p>3 rows × 23 columns</p>\n",
       "</div>"
      ],
      "text/plain": [
       "  nro_pedido data_pedido nome_consumidor                        endereco  \\\n",
       "0     5014-1  2013-02-11   Patrick Jones          221 Barkly St,St Kilda   \n",
       "1     5016-1  2013-02-11    Alex Russell  99 Lygon Street,East Brunswick   \n",
       "2     5018-1  2013-02-12   Tamara Dahlen               61 York St,Sydney   \n",
       "\n",
       "      cidade estado tipo_consumidor     gerente_conta prioridade_pedido  \\\n",
       "0  Melbourne    VIC     Home Office       Yvette Biti              High   \n",
       "1  Melbourne    VIC     Home Office      Connor Betts              High   \n",
       "2     Sydney    NSW       Corporate  Leighton Forrest          Critical   \n",
       "\n",
       "                                        nome_produto  ... data_envio  \\\n",
       "0  Artisan Heavy-Duty EZD  Binder With Locking Rings  ... 2013-02-12   \n",
       "1  DrawIt Pizazz Watercolor Pencils, 10-Color Set...  ... 2013-02-12   \n",
       "2                    Message Book, One Form per Page  ... 2013-02-14   \n",
       "\n",
       "  preco_custo preco_varejo quantidade_pedido  sub_total  desconto_porcentagem  \\\n",
       "0        3.52         5.58                29     161.82                  0.03   \n",
       "1        2.39         4.26                29     123.54                  0.03   \n",
       "2        2.41         3.71                42     155.82                  0.07   \n",
       "\n",
       "   desconto_dinheiro  total_apos_desconto  custo_transporte  total_pedido  \n",
       "0             4.8546               161.79              2.99        164.78  \n",
       "1             3.7062               123.51              1.20        124.71  \n",
       "2            10.9074               155.75              1.93        157.68  \n",
       "\n",
       "[3 rows x 23 columns]"
      ]
     },
     "execution_count": 16,
     "metadata": {},
     "output_type": "execute_result"
    }
   ],
   "source": [
    "dataset.head(3)"
   ]
  },
  {
   "cell_type": "markdown",
   "metadata": {},
   "source": [
    "#  **Tendências Temporais:**\n",
    "   - Qual é a tendência temporal das vendas ao longo do tempo (`Order Date`)?\n",
    "   - Há uma tendência sazonal nas vendas de produtos específicos?"
   ]
  },
  {
   "cell_type": "code",
   "execution_count": 17,
   "metadata": {},
   "outputs": [],
   "source": [
    "tendencia_temporal = dataset[['data_envio', 'total_pedido']]"
   ]
  },
  {
   "cell_type": "code",
   "execution_count": 18,
   "metadata": {},
   "outputs": [],
   "source": [
    "# Agregar os dados por bairro e mês\n",
    "tendencia_temporal['MES'] = dataset['data_envio'].dt.to_period('M')"
   ]
  },
  {
   "cell_type": "code",
   "execution_count": 19,
   "metadata": {},
   "outputs": [
    {
     "data": {
      "text/html": [
       "<div>\n",
       "<style scoped>\n",
       "    .dataframe tbody tr th:only-of-type {\n",
       "        vertical-align: middle;\n",
       "    }\n",
       "\n",
       "    .dataframe tbody tr th {\n",
       "        vertical-align: top;\n",
       "    }\n",
       "\n",
       "    .dataframe thead th {\n",
       "        text-align: right;\n",
       "    }\n",
       "</style>\n",
       "<table border=\"1\" class=\"dataframe\">\n",
       "  <thead>\n",
       "    <tr style=\"text-align: right;\">\n",
       "      <th></th>\n",
       "      <th>total_pedido</th>\n",
       "      <th>MES</th>\n",
       "    </tr>\n",
       "  </thead>\n",
       "  <tbody>\n",
       "    <tr>\n",
       "      <th>0</th>\n",
       "      <td>164.78</td>\n",
       "      <td>2013-02</td>\n",
       "    </tr>\n",
       "    <tr>\n",
       "      <th>1</th>\n",
       "      <td>124.71</td>\n",
       "      <td>2013-02</td>\n",
       "    </tr>\n",
       "    <tr>\n",
       "      <th>2</th>\n",
       "      <td>157.68</td>\n",
       "      <td>2013-02</td>\n",
       "    </tr>\n",
       "    <tr>\n",
       "      <th>3</th>\n",
       "      <td>752.04</td>\n",
       "      <td>2013-02</td>\n",
       "    </tr>\n",
       "    <tr>\n",
       "      <th>4</th>\n",
       "      <td>36.37</td>\n",
       "      <td>2013-02</td>\n",
       "    </tr>\n",
       "    <tr>\n",
       "      <th>...</th>\n",
       "      <td>...</td>\n",
       "      <td>...</td>\n",
       "    </tr>\n",
       "    <tr>\n",
       "      <th>1034</th>\n",
       "      <td>99.64</td>\n",
       "      <td>2017-02</td>\n",
       "    </tr>\n",
       "    <tr>\n",
       "      <th>1035</th>\n",
       "      <td>861.62</td>\n",
       "      <td>2017-02</td>\n",
       "    </tr>\n",
       "    <tr>\n",
       "      <th>1036</th>\n",
       "      <td>43.44</td>\n",
       "      <td>2017-02</td>\n",
       "    </tr>\n",
       "    <tr>\n",
       "      <th>1037</th>\n",
       "      <td>623.38</td>\n",
       "      <td>2017-02</td>\n",
       "    </tr>\n",
       "    <tr>\n",
       "      <th>1038</th>\n",
       "      <td>15.40</td>\n",
       "      <td>2017-02</td>\n",
       "    </tr>\n",
       "  </tbody>\n",
       "</table>\n",
       "<p>1039 rows × 2 columns</p>\n",
       "</div>"
      ],
      "text/plain": [
       "      total_pedido      MES\n",
       "0           164.78  2013-02\n",
       "1           124.71  2013-02\n",
       "2           157.68  2013-02\n",
       "3           752.04  2013-02\n",
       "4            36.37  2013-02\n",
       "...            ...      ...\n",
       "1034         99.64  2017-02\n",
       "1035        861.62  2017-02\n",
       "1036         43.44  2017-02\n",
       "1037        623.38  2017-02\n",
       "1038         15.40  2017-02\n",
       "\n",
       "[1039 rows x 2 columns]"
      ]
     },
     "execution_count": 19,
     "metadata": {},
     "output_type": "execute_result"
    }
   ],
   "source": [
    "tendencia_temporal.drop('data_envio', axis=True)"
   ]
  },
  {
   "cell_type": "code",
   "execution_count": 20,
   "metadata": {},
   "outputs": [],
   "source": [
    "# Agrupa os dados pelo mês e calcula a soma dos totais de pedidos\n",
    "soma_mensal = tendencia_temporal.groupby('MES')['total_pedido'].sum()"
   ]
  },
  {
   "cell_type": "code",
   "execution_count": 21,
   "metadata": {},
   "outputs": [
    {
     "data": {
      "image/png": "[encoded data removed]",
      "text/plain": [
       "<Figure size 2000x500 with 1 Axes>"
      ]
     },
     "metadata": {},
     "output_type": "display_data"
    }
   ],
   "source": [
    "# Gráfico para a distribuição dos tipos de clientes\n",
    "plt.figure(figsize=(20, 5))\n",
    "ax = soma_mensal.plot(kind='bar')\n",
    "plt.title('Vendas ao Longo do Tempo')\n",
    "plt.xlabel('Periodo')\n",
    "plt.ylabel('Valor de Vendas')\n",
    "plt.xticks(rotation=75)\n",
    "\n",
    "plt.show()"
   ]
  },
  {
   "cell_type": "markdown",
   "metadata": {},
   "source": [
    "# **Análise de Desempenho por Localidade:**\n",
    "\n",
    "   - Qual é a média de vendas por cidade (`cidade`) ou estado (`estado`)?"
   ]
  },
  {
   "cell_type": "code",
   "execution_count": 22,
   "metadata": {},
   "outputs": [
    {
     "data": {
      "text/html": [
       "<div>\n",
       "<style scoped>\n",
       "    .dataframe tbody tr th:only-of-type {\n",
       "        vertical-align: middle;\n",
       "    }\n",
       "\n",
       "    .dataframe tbody tr th {\n",
       "        vertical-align: top;\n",
       "    }\n",
       "\n",
       "    .dataframe thead th {\n",
       "        text-align: right;\n",
       "    }\n",
       "</style>\n",
       "<table border=\"1\" class=\"dataframe\">\n",
       "  <thead>\n",
       "    <tr style=\"text-align: right;\">\n",
       "      <th></th>\n",
       "      <th>total_pedido</th>\n",
       "    </tr>\n",
       "    <tr>\n",
       "      <th>cidade</th>\n",
       "      <th></th>\n",
       "    </tr>\n",
       "  </thead>\n",
       "  <tbody>\n",
       "    <tr>\n",
       "      <th>Melbourne</th>\n",
       "      <td>1034.860173</td>\n",
       "    </tr>\n",
       "    <tr>\n",
       "      <th>Sydney</th>\n",
       "      <td>1208.849947</td>\n",
       "    </tr>\n",
       "  </tbody>\n",
       "</table>\n",
       "</div>"
      ],
      "text/plain": [
       "           total_pedido\n",
       "cidade                 \n",
       "Melbourne   1034.860173\n",
       "Sydney      1208.849947"
      ]
     },
     "execution_count": 22,
     "metadata": {},
     "output_type": "execute_result"
    }
   ],
   "source": [
    "# Agrupa o dataset pela coluna 'cidade' e calcula a média da coluna 'total_pedido' para cada cidade\n",
    "dataset.groupby('cidade')[['total_pedido']].mean()"
   ]
  },
  {
   "cell_type": "code",
   "execution_count": 23,
   "metadata": {},
   "outputs": [
    {
     "data": {
      "text/html": [
       "<div>\n",
       "<style scoped>\n",
       "    .dataframe tbody tr th:only-of-type {\n",
       "        vertical-align: middle;\n",
       "    }\n",
       "\n",
       "    .dataframe tbody tr th {\n",
       "        vertical-align: top;\n",
       "    }\n",
       "\n",
       "    .dataframe thead th {\n",
       "        text-align: right;\n",
       "    }\n",
       "</style>\n",
       "<table border=\"1\" class=\"dataframe\">\n",
       "  <thead>\n",
       "    <tr style=\"text-align: right;\">\n",
       "      <th></th>\n",
       "      <th>total_pedido</th>\n",
       "    </tr>\n",
       "    <tr>\n",
       "      <th>estado</th>\n",
       "      <th></th>\n",
       "    </tr>\n",
       "  </thead>\n",
       "  <tbody>\n",
       "    <tr>\n",
       "      <th>NSW</th>\n",
       "      <td>1208.849947</td>\n",
       "    </tr>\n",
       "    <tr>\n",
       "      <th>VIC</th>\n",
       "      <td>1034.860173</td>\n",
       "    </tr>\n",
       "  </tbody>\n",
       "</table>\n",
       "</div>"
      ],
      "text/plain": [
       "        total_pedido\n",
       "estado              \n",
       "NSW      1208.849947\n",
       "VIC      1034.860173"
      ]
     },
     "execution_count": 23,
     "metadata": {},
     "output_type": "execute_result"
    }
   ],
   "source": [
    "# Agrupa o dataset pela coluna 'estado' e calcula a média da coluna 'total_pedido' para cada cidade\n",
    "dataset.groupby('estado')[['total_pedido']].mean()"
   ]
  },
  {
   "cell_type": "markdown",
   "metadata": {},
   "source": [
    "   - Quais cidades ou estados têm o maior volume de pedidos (`quantidade_pedido`)?"
   ]
  },
  {
   "cell_type": "code",
   "execution_count": 24,
   "metadata": {},
   "outputs": [
    {
     "data": {
      "text/html": [
       "<div>\n",
       "<style scoped>\n",
       "    .dataframe tbody tr th:only-of-type {\n",
       "        vertical-align: middle;\n",
       "    }\n",
       "\n",
       "    .dataframe tbody tr th {\n",
       "        vertical-align: top;\n",
       "    }\n",
       "\n",
       "    .dataframe thead th {\n",
       "        text-align: right;\n",
       "    }\n",
       "</style>\n",
       "<table border=\"1\" class=\"dataframe\">\n",
       "  <thead>\n",
       "    <tr style=\"text-align: right;\">\n",
       "      <th></th>\n",
       "      <th>quantidade_pedido</th>\n",
       "    </tr>\n",
       "    <tr>\n",
       "      <th>cidade</th>\n",
       "      <th></th>\n",
       "    </tr>\n",
       "  </thead>\n",
       "  <tbody>\n",
       "    <tr>\n",
       "      <th>Melbourne</th>\n",
       "      <td>7736</td>\n",
       "    </tr>\n",
       "    <tr>\n",
       "      <th>Sydney</th>\n",
       "      <td>19324</td>\n",
       "    </tr>\n",
       "  </tbody>\n",
       "</table>\n",
       "</div>"
      ],
      "text/plain": [
       "           quantidade_pedido\n",
       "cidade                      \n",
       "Melbourne               7736\n",
       "Sydney                 19324"
      ]
     },
     "execution_count": 24,
     "metadata": {},
     "output_type": "execute_result"
    }
   ],
   "source": [
    "# Agrupa o dataset pelas colunas 'cidade' e 'quantidade_pedido', contando as ocorrências de cada combinação\n",
    "dataset.groupby('cidade')[['quantidade_pedido']].sum()\n"
   ]
  },
  {
   "cell_type": "code",
   "execution_count": 25,
   "metadata": {},
   "outputs": [
    {
     "data": {
      "text/html": [
       "<div>\n",
       "<style scoped>\n",
       "    .dataframe tbody tr th:only-of-type {\n",
       "        vertical-align: middle;\n",
       "    }\n",
       "\n",
       "    .dataframe tbody tr th {\n",
       "        vertical-align: top;\n",
       "    }\n",
       "\n",
       "    .dataframe thead th {\n",
       "        text-align: right;\n",
       "    }\n",
       "</style>\n",
       "<table border=\"1\" class=\"dataframe\">\n",
       "  <thead>\n",
       "    <tr style=\"text-align: right;\">\n",
       "      <th></th>\n",
       "      <th>quantidade_pedido</th>\n",
       "    </tr>\n",
       "    <tr>\n",
       "      <th>estado</th>\n",
       "      <th></th>\n",
       "    </tr>\n",
       "  </thead>\n",
       "  <tbody>\n",
       "    <tr>\n",
       "      <th>NSW</th>\n",
       "      <td>19324</td>\n",
       "    </tr>\n",
       "    <tr>\n",
       "      <th>VIC</th>\n",
       "      <td>7736</td>\n",
       "    </tr>\n",
       "  </tbody>\n",
       "</table>\n",
       "</div>"
      ],
      "text/plain": [
       "        quantidade_pedido\n",
       "estado                   \n",
       "NSW                 19324\n",
       "VIC                  7736"
      ]
     },
     "execution_count": 25,
     "metadata": {},
     "output_type": "execute_result"
    }
   ],
   "source": [
    "# Agrupa o dataset pelas colunas 'estado' e 'quantidade_pedido', contando as ocorrências de cada combinação\n",
    "dataset.groupby('estado')[['quantidade_pedido']].sum()"
   ]
  },
  {
   "cell_type": "code",
   "execution_count": 26,
   "metadata": {},
   "outputs": [
    {
     "data": {
      "text/html": [
       "<div>\n",
       "<style scoped>\n",
       "    .dataframe tbody tr th:only-of-type {\n",
       "        vertical-align: middle;\n",
       "    }\n",
       "\n",
       "    .dataframe tbody tr th {\n",
       "        vertical-align: top;\n",
       "    }\n",
       "\n",
       "    .dataframe thead th {\n",
       "        text-align: right;\n",
       "    }\n",
       "</style>\n",
       "<table border=\"1\" class=\"dataframe\">\n",
       "  <thead>\n",
       "    <tr style=\"text-align: right;\">\n",
       "      <th></th>\n",
       "      <th>nro_pedido</th>\n",
       "      <th>data_pedido</th>\n",
       "      <th>nome_consumidor</th>\n",
       "      <th>endereco</th>\n",
       "      <th>cidade</th>\n",
       "      <th>estado</th>\n",
       "      <th>tipo_consumidor</th>\n",
       "      <th>gerente_conta</th>\n",
       "      <th>prioridade_pedido</th>\n",
       "      <th>nome_produto</th>\n",
       "      <th>...</th>\n",
       "      <th>data_envio</th>\n",
       "      <th>preco_custo</th>\n",
       "      <th>preco_varejo</th>\n",
       "      <th>quantidade_pedido</th>\n",
       "      <th>sub_total</th>\n",
       "      <th>desconto_porcentagem</th>\n",
       "      <th>desconto_dinheiro</th>\n",
       "      <th>total_apos_desconto</th>\n",
       "      <th>custo_transporte</th>\n",
       "      <th>total_pedido</th>\n",
       "    </tr>\n",
       "  </thead>\n",
       "  <tbody>\n",
       "    <tr>\n",
       "      <th>0</th>\n",
       "      <td>5014-1</td>\n",
       "      <td>2013-02-11</td>\n",
       "      <td>Patrick Jones</td>\n",
       "      <td>221 Barkly St,St Kilda</td>\n",
       "      <td>Melbourne</td>\n",
       "      <td>VIC</td>\n",
       "      <td>Home Office</td>\n",
       "      <td>Yvette Biti</td>\n",
       "      <td>High</td>\n",
       "      <td>Artisan Heavy-Duty EZD  Binder With Locking Rings</td>\n",
       "      <td>...</td>\n",
       "      <td>2013-02-12</td>\n",
       "      <td>3.52</td>\n",
       "      <td>5.58</td>\n",
       "      <td>29</td>\n",
       "      <td>161.82</td>\n",
       "      <td>0.03</td>\n",
       "      <td>4.8546</td>\n",
       "      <td>161.79</td>\n",
       "      <td>2.99</td>\n",
       "      <td>164.78</td>\n",
       "    </tr>\n",
       "    <tr>\n",
       "      <th>1</th>\n",
       "      <td>5016-1</td>\n",
       "      <td>2013-02-11</td>\n",
       "      <td>Alex Russell</td>\n",
       "      <td>99 Lygon Street,East Brunswick</td>\n",
       "      <td>Melbourne</td>\n",
       "      <td>VIC</td>\n",
       "      <td>Home Office</td>\n",
       "      <td>Connor Betts</td>\n",
       "      <td>High</td>\n",
       "      <td>DrawIt Pizazz Watercolor Pencils, 10-Color Set...</td>\n",
       "      <td>...</td>\n",
       "      <td>2013-02-12</td>\n",
       "      <td>2.39</td>\n",
       "      <td>4.26</td>\n",
       "      <td>29</td>\n",
       "      <td>123.54</td>\n",
       "      <td>0.03</td>\n",
       "      <td>3.7062</td>\n",
       "      <td>123.51</td>\n",
       "      <td>1.20</td>\n",
       "      <td>124.71</td>\n",
       "    </tr>\n",
       "    <tr>\n",
       "      <th>2</th>\n",
       "      <td>5018-1</td>\n",
       "      <td>2013-02-12</td>\n",
       "      <td>Tamara Dahlen</td>\n",
       "      <td>61 York St,Sydney</td>\n",
       "      <td>Sydney</td>\n",
       "      <td>NSW</td>\n",
       "      <td>Corporate</td>\n",
       "      <td>Leighton Forrest</td>\n",
       "      <td>Critical</td>\n",
       "      <td>Message Book, One Form per Page</td>\n",
       "      <td>...</td>\n",
       "      <td>2013-02-14</td>\n",
       "      <td>2.41</td>\n",
       "      <td>3.71</td>\n",
       "      <td>42</td>\n",
       "      <td>155.82</td>\n",
       "      <td>0.07</td>\n",
       "      <td>10.9074</td>\n",
       "      <td>155.75</td>\n",
       "      <td>1.93</td>\n",
       "      <td>157.68</td>\n",
       "    </tr>\n",
       "  </tbody>\n",
       "</table>\n",
       "<p>3 rows × 23 columns</p>\n",
       "</div>"
      ],
      "text/plain": [
       "  nro_pedido data_pedido nome_consumidor                        endereco  \\\n",
       "0     5014-1  2013-02-11   Patrick Jones          221 Barkly St,St Kilda   \n",
       "1     5016-1  2013-02-11    Alex Russell  99 Lygon Street,East Brunswick   \n",
       "2     5018-1  2013-02-12   Tamara Dahlen               61 York St,Sydney   \n",
       "\n",
       "      cidade estado tipo_consumidor     gerente_conta prioridade_pedido  \\\n",
       "0  Melbourne    VIC     Home Office       Yvette Biti              High   \n",
       "1  Melbourne    VIC     Home Office      Connor Betts              High   \n",
       "2     Sydney    NSW       Corporate  Leighton Forrest          Critical   \n",
       "\n",
       "                                        nome_produto  ... data_envio  \\\n",
       "0  Artisan Heavy-Duty EZD  Binder With Locking Rings  ... 2013-02-12   \n",
       "1  DrawIt Pizazz Watercolor Pencils, 10-Color Set...  ... 2013-02-12   \n",
       "2                    Message Book, One Form per Page  ... 2013-02-14   \n",
       "\n",
       "  preco_custo preco_varejo quantidade_pedido  sub_total  desconto_porcentagem  \\\n",
       "0        3.52         5.58                29     161.82                  0.03   \n",
       "1        2.39         4.26                29     123.54                  0.03   \n",
       "2        2.41         3.71                42     155.82                  0.07   \n",
       "\n",
       "   desconto_dinheiro  total_apos_desconto  custo_transporte  total_pedido  \n",
       "0             4.8546               161.79              2.99        164.78  \n",
       "1             3.7062               123.51              1.20        124.71  \n",
       "2            10.9074               155.75              1.93        157.68  \n",
       "\n",
       "[3 rows x 23 columns]"
      ]
     },
     "execution_count": 26,
     "metadata": {},
     "output_type": "execute_result"
    }
   ],
   "source": [
    "dataset.head(3)"
   ]
  },
  {
   "cell_type": "markdown",
   "metadata": {},
   "source": [
    "# **Desempenho dos Gerentes de Conta:**\n",
    "\n",
    "   - Qual é a média de vendas por gerente de conta (`gerente_conta`)?\n"
   ]
  },
  {
   "cell_type": "code",
   "execution_count": 27,
   "metadata": {},
   "outputs": [],
   "source": [
    "soma_mensal = dataset.groupby('gerente_conta')[['total_pedido']].mean().sort_index()"
   ]
  },
  {
   "cell_type": "code",
   "execution_count": 64,
   "metadata": {},
   "outputs": [
    {
     "data": {
      "text/plain": [
       "<Figure size 2000x700 with 0 Axes>"
      ]
     },
     "metadata": {},
     "output_type": "display_data"
    },
    {
     "data": {
      "image/png": "[encoded data removed]",
      "text/plain": [
       "<Figure size 640x480 with 1 Axes>"
      ]
     },
     "metadata": {},
     "output_type": "display_data"
    }
   ],
   "source": [
    "# Gráfico para a distribuição dos tipos de clientes\n",
    "plt.figure(figsize=(20, 7))\n",
    "ax = soma_mensal.plot(kind='bar')\n",
    "plt.title('Vendas Média por Gerentes')\n",
    "plt.xlabel('Gerentes')\n",
    "plt.ylabel('Valor de Vendas')\n",
    "plt.xticks(rotation=85)\n",
    "\n",
    "# Itera sobre cada barra (patch) no gráfico de barras\n",
    "for p in ax.patches:\n",
    "    # Adiciona uma anotação (número total) acima de cada barra\n",
    "    ax.annotate(\n",
    "        f\"{p.get_height():.0f}\",                            # Texto formatado com a altura da barra como número inteiro\n",
    "        (p.get_x() + p.get_width() / 2., p.get_height()),   # Coordenadas do texto (centro da barra)\n",
    "        ha='center',                                        # Alinhamento horizontal: centralizado\n",
    "        va='center',                                        # Alinhamento vertical: centralizado\n",
    "        xytext=(0, 10),                                     # Deslocamento do texto (10 pontos acima)\n",
    "        textcoords='offset points'                          # Coordenadas do deslocamento em pontos\n",
    "    )\n",
    "\n",
    "plt.show()"
   ]
  },
  {
   "cell_type": "markdown",
   "metadata": {},
   "source": [
    "   - Existe alguma correlação entre o tipo de cliente e o gerente de conta responsável?"
   ]
  },
  {
   "cell_type": "code",
   "execution_count": 29,
   "metadata": {},
   "outputs": [
    {
     "name": "stdout",
     "output_type": "stream",
     "text": [
      "gerente_conta    Aanya Zhang  Charlie Bui  Connor Betts  Leighton Forrest  \\\n",
      "tipo_consumidor                                                             \n",
      "Consumer                   8           11            26                12   \n",
      "Corporate                 22           15            53                28   \n",
      "Home Office               19           15            33                 8   \n",
      "Small Business            21            8            47                13   \n",
      "\n",
      "gerente_conta    Mihael Khan  Natasha Song  Nicholas Fernandes  Phoebe Gour  \\\n",
      "tipo_consumidor                                                               \n",
      "Consumer                  23             7                  11           25   \n",
      "Corporate                 20            34                  21           28   \n",
      "Home Office               11            21                  16           19   \n",
      "Small Business            21            13                  17           15   \n",
      "\n",
      "gerente_conta    Preston Senome  Radhya Staples  Samantha Chairs  \\\n",
      "tipo_consumidor                                                    \n",
      "Consumer                      9               6                5   \n",
      "Corporate                    14               4               28   \n",
      "Home Office                   4               8               25   \n",
      "Small Business               12               3                6   \n",
      "\n",
      "gerente_conta    Stevie Bacata  Tina Carlton  Yvette Biti  \n",
      "tipo_consumidor                                            \n",
      "Consumer                     1             9           24  \n",
      "Corporate                    1            65           44  \n",
      "Home Office                  5            39           41  \n",
      "Small Business               2            24           19  \n"
     ]
    }
   ],
   "source": [
    "# Criando a Matriz de Contingência (Tabela Cruzada)\n",
    "matriz_contingencia = pd.crosstab(dataset['tipo_consumidor'], dataset['gerente_conta'])\n",
    "# Exibindo a matriz\n",
    "print(matriz_contingencia)"
   ]
  },
  {
   "cell_type": "code",
   "execution_count": 30,
   "metadata": {},
   "outputs": [],
   "source": [
    "from scipy.stats import chi2_contingency"
   ]
  },
  {
   "cell_type": "code",
   "execution_count": 31,
   "metadata": {},
   "outputs": [
    {
     "name": "stdout",
     "output_type": "stream",
     "text": [
      "Qui-quadrado: 97.9839930156491\n",
      "p-valor: 5.567209580926501e-07\n",
      "Graus de liberdade: 39\n"
     ]
    }
   ],
   "source": [
    "# Indexando pelos tipos de consumidores\n",
    "tipos_consumidor = ['Consumer', 'Corporate', 'Home Office', 'Small Business']\n",
    "# Criando o DataFrame da tabela\n",
    "df_contingencia = pd.DataFrame(matriz_contingencia, index=tipos_consumidor)\n",
    "# Realizando o teste qui-quadrado\n",
    "chi2, p, dof, expected = chi2_contingency(df_contingencia)\n",
    "\n",
    "# Exibindo os resultados\n",
    "print(f\"Qui-quadrado: {chi2}\")\n",
    "print(f\"p-valor: {p}\")\n",
    "print(f\"Graus de liberdade: {dof}\")"
   ]
  },
  {
   "cell_type": "markdown",
   "metadata": {},
   "source": [
    "1. Valor do Qui-Quadrado: 97.98\n",
    "Esse valor mede a diferença entre os valores observados na tabela de contingência e os valores esperados se não houvesse relação entre o tipo de consumidor e o gerente de conta.\n",
    "Um valor mais alto sugere que há uma diferença significativa entre os dados observados e o que esperaríamos por acaso.\n",
    "\n",
    "2. p-valor: 5.57e-07 (0.000000557)\n",
    "Este é um valor extremamente pequeno, muito menor que o nível de significância padrão de 0.05.\n",
    "Interpretação: Podemos rejeitar a hipótese nula (que assume independência entre as variáveis) com muita confiança. Isso significa que existe uma associação significativa entre o tipo de consumidor e o gerente de conta responsável.\n",
    "\n",
    "3. Graus de Liberdade (dof): 39\n",
    "Isso é determinado pela fórmula \n",
    "(\n",
    "𝑟\n",
    "𝑜\n",
    "𝑤\n",
    "𝑠\n",
    "−\n",
    "1\n",
    ")\n",
    "×\n",
    "(\n",
    "𝑐\n",
    "𝑜\n",
    "𝑙\n",
    "𝑢\n",
    "𝑚\n",
    "𝑛\n",
    "𝑠\n",
    "−\n",
    "1\n",
    ")\n",
    "(rows−1)×(columns−1), e nos dá uma medida da complexidade do modelo. Com esse valor, a tabela é relativamente grande e complexa."
   ]
  },
  {
   "cell_type": "code",
   "execution_count": 32,
   "metadata": {},
   "outputs": [],
   "source": [
    "# Função corrigida para calcular o Cramér's V\n",
    "def cramers_v(chi2, n, rows, cols):\n",
    "    return np.sqrt(chi2 / (n * (min(rows - 1, cols - 1))))"
   ]
  },
  {
   "cell_type": "code",
   "execution_count": 33,
   "metadata": {},
   "outputs": [],
   "source": [
    "# Número total de observações na tabela\n",
    "n = df_contingencia.sum().sum()"
   ]
  },
  {
   "cell_type": "code",
   "execution_count": 34,
   "metadata": {},
   "outputs": [],
   "source": [
    "# Número de linhas e colunas na tabela de contingência\n",
    "rows, cols = df_contingencia.shape"
   ]
  },
  {
   "cell_type": "code",
   "execution_count": 35,
   "metadata": {},
   "outputs": [
    {
     "name": "stdout",
     "output_type": "stream",
     "text": [
      "Cramér's V: 0.17730017559723607\n"
     ]
    }
   ],
   "source": [
    "# Cálculo do Cramér's V\n",
    "cramers_v_value = cramers_v(chi2, n, rows, cols)\n",
    "print(f\"Cramér's V: {cramers_v_value}\")"
   ]
  },
  {
   "cell_type": "markdown",
   "metadata": {},
   "source": [
    "O valor do **Cramér's V** calculado é **0.177**. Vamos interpretar esse resultado:\n",
    "\n",
    "### Interpretação do Cramér's V:\n",
    "- O **Cramér's V** varia de 0 a 1:\n",
    "  - **0** indica **nenhuma associação**.\n",
    "  - **1** indica uma **associação perfeita**.\n",
    "  \n",
    "- O valor de **0.177** indica uma **associação fraca** entre o **tipo de consumidor** e o **gerente de conta responsável**.\n",
    "\n",
    "### Contexto:\n",
    "- Embora o teste qui-quadrado tenha mostrado que a relação entre o tipo de consumidor e o gerente de conta é **estatisticamente significativa** (p-valor muito baixo), o Cramér's V sugere que essa associação **não é forte**. Isso significa que, embora haja uma correlação, o gerente de conta **não é o principal fator** determinante no tipo de consumidor, e a relação entre essas variáveis é relativamente fraca.\n",
    "\n",
    "### Conclusão:\n",
    "- **Significância estatística**: Existe uma associação significativa entre os gerentes de conta e os tipos de consumidores.\n",
    "- **Força da associação**: No entanto, essa relação é **fraca**, ou seja, outros fatores podem estar influenciando a atribuição de gerentes aos tipos de consumidores, além daquelas que estamos vendo nos dados."
   ]
  },
  {
   "cell_type": "markdown",
   "metadata": {},
   "source": [
    "# **Prioridade dos Pedidos:**\n",
    "   - Qual é a média de preços de custo e venda para diferentes níveis de prioridade de pedido (`prioridade_pedido`)?\n"
   ]
  },
  {
   "cell_type": "code",
   "execution_count": 36,
   "metadata": {},
   "outputs": [],
   "source": [
    "media_custo_prioridade_pedido = dataset.groupby('prioridade_pedido')[['preco_custo','total_pedido']].mean().sort_index()"
   ]
  },
  {
   "cell_type": "code",
   "execution_count": 37,
   "metadata": {},
   "outputs": [
    {
     "data": {
      "text/html": [
       "<div>\n",
       "<style scoped>\n",
       "    .dataframe tbody tr th:only-of-type {\n",
       "        vertical-align: middle;\n",
       "    }\n",
       "\n",
       "    .dataframe tbody tr th {\n",
       "        vertical-align: top;\n",
       "    }\n",
       "\n",
       "    .dataframe thead th {\n",
       "        text-align: right;\n",
       "    }\n",
       "</style>\n",
       "<table border=\"1\" class=\"dataframe\">\n",
       "  <thead>\n",
       "    <tr style=\"text-align: right;\">\n",
       "      <th></th>\n",
       "      <th>preco_custo</th>\n",
       "      <th>total_pedido</th>\n",
       "    </tr>\n",
       "    <tr>\n",
       "      <th>prioridade_pedido</th>\n",
       "      <th></th>\n",
       "      <th></th>\n",
       "    </tr>\n",
       "  </thead>\n",
       "  <tbody>\n",
       "    <tr>\n",
       "      <th>Critical</th>\n",
       "      <td>16.983085</td>\n",
       "      <td>859.417979</td>\n",
       "    </tr>\n",
       "    <tr>\n",
       "      <th>High</th>\n",
       "      <td>29.903259</td>\n",
       "      <td>1468.487098</td>\n",
       "    </tr>\n",
       "    <tr>\n",
       "      <th>Low</th>\n",
       "      <td>26.265427</td>\n",
       "      <td>1424.036583</td>\n",
       "    </tr>\n",
       "    <tr>\n",
       "      <th>Medium</th>\n",
       "      <td>22.904742</td>\n",
       "      <td>1006.169108</td>\n",
       "    </tr>\n",
       "    <tr>\n",
       "      <th>Not Specified</th>\n",
       "      <td>22.390047</td>\n",
       "      <td>1011.642140</td>\n",
       "    </tr>\n",
       "  </tbody>\n",
       "</table>\n",
       "</div>"
      ],
      "text/plain": [
       "                   preco_custo  total_pedido\n",
       "prioridade_pedido                           \n",
       "Critical             16.983085    859.417979\n",
       "High                 29.903259   1468.487098\n",
       "Low                  26.265427   1424.036583\n",
       "Medium               22.904742   1006.169108\n",
       "Not Specified        22.390047   1011.642140"
      ]
     },
     "execution_count": 37,
     "metadata": {},
     "output_type": "execute_result"
    }
   ],
   "source": [
    "media_custo_prioridade_pedido"
   ]
  },
  {
   "cell_type": "markdown",
   "metadata": {},
   "source": [
    "   - Existe alguma relação entre a prioridade do pedido e o custo total do pedido (`total_pedido`)?"
   ]
  },
  {
   "cell_type": "code",
   "execution_count": 38,
   "metadata": {},
   "outputs": [
    {
     "name": "stdout",
     "output_type": "stream",
     "text": [
      "Correlação de Pearson: 0.8418027712397343\n"
     ]
    }
   ],
   "source": [
    "# Calculando a correlação de Pearson entre preço de custo e total de pedido\n",
    "correlacao = dataset['preco_custo'].corr(dataset['total_pedido'])\n",
    "print(f\"Correlação de Pearson: {correlacao}\")"
   ]
  },
  {
   "cell_type": "code",
   "execution_count": 39,
   "metadata": {},
   "outputs": [
    {
     "data": {
      "image/png": "[encoded data removed]",
      "text/plain": [
       "<Figure size 1000x500 with 1 Axes>"
      ]
     },
     "metadata": {},
     "output_type": "display_data"
    }
   ],
   "source": [
    "# Visualizando os dados com um gráfico de dispersão\n",
    "plt.figure(figsize=(10, 5))\n",
    "sns.scatterplot(x='preco_custo', y='total_pedido', hue='prioridade_pedido', data=dataset, s=100)\n",
    "plt.title('Relação entre Preço de Custo e Total de Pedido por Prioridade')\n",
    "plt.xlabel('Preço de Custo Médio')\n",
    "plt.ylabel('Total de Pedido')\n",
    "plt.grid(True)\n",
    "plt.show()"
   ]
  },
  {
   "cell_type": "markdown",
   "metadata": {},
   "source": [
    "### Analisando o Gráfico e o Valor da Correlação de Pearson:\n",
    "\n",
    "1. **Correlação de Pearson**: **0.8418**\n",
    "   - Esse valor mostra uma **forte correlação positiva** entre o **preço de custo médio** e o **total de pedido**.\n",
    "   - Isso significa que, à medida que o **preço de custo médio** aumenta, também tendemos a ver um aumento no **total de pedidos**. Essa é uma relação significativa.\n",
    "\n",
    "2. **Gráfico de Dispersão**:\n",
    "   - No gráfico, vemos pontos coloridos por prioridade, representando a relação entre o preço de custo e o total de pedido para cada prioridade de pedido.\n",
    "   - Há **grande concentração de pedidos com preços de custo mais baixos** (especialmente abaixo de 50) e totais de pedidos mais baixos, mas também vemos pontos mais dispersos com maiores preços de custo e altos totais de pedido.\n",
    "   - As diferentes prioridades (marcadas pelas cores) parecem estar distribuídas de maneira similar na parte inferior do gráfico, mas, conforme o preço de custo aumenta, vemos menos categorias de prioridade mais baixas (**High, Medium, Low**).\n",
    "\n",
    "### Interpretação Geral:\n",
    "- **Forte Correlação Positiva**: A relação entre preço de custo e total de pedido é clara — quanto maior o custo, maior o total de pedidos, o que é esperado, já que pedidos maiores tendem a ter custos médios mais elevados.\n",
    "- **Distribuição das Prioridades**: As diferentes prioridades de pedido parecem estar amplamente distribuídas nos intervalos de preço de custo mais baixos, o que pode indicar que a prioridade do pedido pode não estar diretamente relacionada ao custo médio dos itens."
   ]
  },
  {
   "cell_type": "code",
   "execution_count": 40,
   "metadata": {},
   "outputs": [
    {
     "data": {
      "text/html": [
       "<div>\n",
       "<style scoped>\n",
       "    .dataframe tbody tr th:only-of-type {\n",
       "        vertical-align: middle;\n",
       "    }\n",
       "\n",
       "    .dataframe tbody tr th {\n",
       "        vertical-align: top;\n",
       "    }\n",
       "\n",
       "    .dataframe thead th {\n",
       "        text-align: right;\n",
       "    }\n",
       "</style>\n",
       "<table border=\"1\" class=\"dataframe\">\n",
       "  <thead>\n",
       "    <tr style=\"text-align: right;\">\n",
       "      <th></th>\n",
       "      <th>nro_pedido</th>\n",
       "      <th>data_pedido</th>\n",
       "      <th>nome_consumidor</th>\n",
       "      <th>endereco</th>\n",
       "      <th>cidade</th>\n",
       "      <th>estado</th>\n",
       "      <th>tipo_consumidor</th>\n",
       "      <th>gerente_conta</th>\n",
       "      <th>prioridade_pedido</th>\n",
       "      <th>nome_produto</th>\n",
       "      <th>...</th>\n",
       "      <th>data_envio</th>\n",
       "      <th>preco_custo</th>\n",
       "      <th>preco_varejo</th>\n",
       "      <th>quantidade_pedido</th>\n",
       "      <th>sub_total</th>\n",
       "      <th>desconto_porcentagem</th>\n",
       "      <th>desconto_dinheiro</th>\n",
       "      <th>total_apos_desconto</th>\n",
       "      <th>custo_transporte</th>\n",
       "      <th>total_pedido</th>\n",
       "    </tr>\n",
       "  </thead>\n",
       "  <tbody>\n",
       "    <tr>\n",
       "      <th>0</th>\n",
       "      <td>5014-1</td>\n",
       "      <td>2013-02-11</td>\n",
       "      <td>Patrick Jones</td>\n",
       "      <td>221 Barkly St,St Kilda</td>\n",
       "      <td>Melbourne</td>\n",
       "      <td>VIC</td>\n",
       "      <td>Home Office</td>\n",
       "      <td>Yvette Biti</td>\n",
       "      <td>High</td>\n",
       "      <td>Artisan Heavy-Duty EZD  Binder With Locking Rings</td>\n",
       "      <td>...</td>\n",
       "      <td>2013-02-12</td>\n",
       "      <td>3.52</td>\n",
       "      <td>5.58</td>\n",
       "      <td>29</td>\n",
       "      <td>161.82</td>\n",
       "      <td>0.03</td>\n",
       "      <td>4.8546</td>\n",
       "      <td>161.79</td>\n",
       "      <td>2.99</td>\n",
       "      <td>164.78</td>\n",
       "    </tr>\n",
       "    <tr>\n",
       "      <th>1</th>\n",
       "      <td>5016-1</td>\n",
       "      <td>2013-02-11</td>\n",
       "      <td>Alex Russell</td>\n",
       "      <td>99 Lygon Street,East Brunswick</td>\n",
       "      <td>Melbourne</td>\n",
       "      <td>VIC</td>\n",
       "      <td>Home Office</td>\n",
       "      <td>Connor Betts</td>\n",
       "      <td>High</td>\n",
       "      <td>DrawIt Pizazz Watercolor Pencils, 10-Color Set...</td>\n",
       "      <td>...</td>\n",
       "      <td>2013-02-12</td>\n",
       "      <td>2.39</td>\n",
       "      <td>4.26</td>\n",
       "      <td>29</td>\n",
       "      <td>123.54</td>\n",
       "      <td>0.03</td>\n",
       "      <td>3.7062</td>\n",
       "      <td>123.51</td>\n",
       "      <td>1.20</td>\n",
       "      <td>124.71</td>\n",
       "    </tr>\n",
       "    <tr>\n",
       "      <th>2</th>\n",
       "      <td>5018-1</td>\n",
       "      <td>2013-02-12</td>\n",
       "      <td>Tamara Dahlen</td>\n",
       "      <td>61 York St,Sydney</td>\n",
       "      <td>Sydney</td>\n",
       "      <td>NSW</td>\n",
       "      <td>Corporate</td>\n",
       "      <td>Leighton Forrest</td>\n",
       "      <td>Critical</td>\n",
       "      <td>Message Book, One Form per Page</td>\n",
       "      <td>...</td>\n",
       "      <td>2013-02-14</td>\n",
       "      <td>2.41</td>\n",
       "      <td>3.71</td>\n",
       "      <td>42</td>\n",
       "      <td>155.82</td>\n",
       "      <td>0.07</td>\n",
       "      <td>10.9074</td>\n",
       "      <td>155.75</td>\n",
       "      <td>1.93</td>\n",
       "      <td>157.68</td>\n",
       "    </tr>\n",
       "  </tbody>\n",
       "</table>\n",
       "<p>3 rows × 23 columns</p>\n",
       "</div>"
      ],
      "text/plain": [
       "  nro_pedido data_pedido nome_consumidor                        endereco  \\\n",
       "0     5014-1  2013-02-11   Patrick Jones          221 Barkly St,St Kilda   \n",
       "1     5016-1  2013-02-11    Alex Russell  99 Lygon Street,East Brunswick   \n",
       "2     5018-1  2013-02-12   Tamara Dahlen               61 York St,Sydney   \n",
       "\n",
       "      cidade estado tipo_consumidor     gerente_conta prioridade_pedido  \\\n",
       "0  Melbourne    VIC     Home Office       Yvette Biti              High   \n",
       "1  Melbourne    VIC     Home Office      Connor Betts              High   \n",
       "2     Sydney    NSW       Corporate  Leighton Forrest          Critical   \n",
       "\n",
       "                                        nome_produto  ... data_envio  \\\n",
       "0  Artisan Heavy-Duty EZD  Binder With Locking Rings  ... 2013-02-12   \n",
       "1  DrawIt Pizazz Watercolor Pencils, 10-Color Set...  ... 2013-02-12   \n",
       "2                    Message Book, One Form per Page  ... 2013-02-14   \n",
       "\n",
       "  preco_custo preco_varejo quantidade_pedido  sub_total  desconto_porcentagem  \\\n",
       "0        3.52         5.58                29     161.82                  0.03   \n",
       "1        2.39         4.26                29     123.54                  0.03   \n",
       "2        2.41         3.71                42     155.82                  0.07   \n",
       "\n",
       "   desconto_dinheiro  total_apos_desconto  custo_transporte  total_pedido  \n",
       "0             4.8546               161.79              2.99        164.78  \n",
       "1             3.7062               123.51              1.20        124.71  \n",
       "2            10.9074               155.75              1.93        157.68  \n",
       "\n",
       "[3 rows x 23 columns]"
      ]
     },
     "execution_count": 40,
     "metadata": {},
     "output_type": "execute_result"
    }
   ],
   "source": [
    "dataset.head(3)"
   ]
  },
  {
   "cell_type": "markdown",
   "metadata": {},
   "source": [
    "# **Análise de Descontos:**\n",
    "   - Qual é a média e a distribuição percentual de descontos aplicados (`desconto_porcentagem`)?\n",
    "   "
   ]
  },
  {
   "cell_type": "code",
   "execution_count": 41,
   "metadata": {},
   "outputs": [
    {
     "data": {
      "text/plain": [
       "0.05135707410972089"
      ]
     },
     "execution_count": 41,
     "metadata": {},
     "output_type": "execute_result"
    }
   ],
   "source": [
    "media_desconto_porcentagem = dataset.desconto_porcentagem.mean()\n",
    "media_desconto_porcentagem"
   ]
  },
  {
   "cell_type": "code",
   "execution_count": 42,
   "metadata": {},
   "outputs": [
    {
     "data": {
      "text/plain": [
       "64.22646650625602"
      ]
     },
     "execution_count": 42,
     "metadata": {},
     "output_type": "execute_result"
    }
   ],
   "source": [
    "media_desconto_dinheiro = dataset.desconto_dinheiro.mean()\n",
    "media_desconto_dinheiro"
   ]
  },
  {
   "cell_type": "markdown",
   "metadata": {},
   "source": [
    "- Qual é o impacto do desconto no total após o desconto (`total_apos_desconto`)?"
   ]
  },
  {
   "cell_type": "code",
   "execution_count": 43,
   "metadata": {},
   "outputs": [
    {
     "data": {
      "text/html": [
       "<div>\n",
       "<style scoped>\n",
       "    .dataframe tbody tr th:only-of-type {\n",
       "        vertical-align: middle;\n",
       "    }\n",
       "\n",
       "    .dataframe tbody tr th {\n",
       "        vertical-align: top;\n",
       "    }\n",
       "\n",
       "    .dataframe thead th {\n",
       "        text-align: right;\n",
       "    }\n",
       "</style>\n",
       "<table border=\"1\" class=\"dataframe\">\n",
       "  <thead>\n",
       "    <tr style=\"text-align: right;\">\n",
       "      <th></th>\n",
       "      <th>total_apos_desconto</th>\n",
       "    </tr>\n",
       "    <tr>\n",
       "      <th>desconto_porcentagem</th>\n",
       "      <th></th>\n",
       "    </tr>\n",
       "  </thead>\n",
       "  <tbody>\n",
       "    <tr>\n",
       "      <th>0.00</th>\n",
       "      <td>1006.831829</td>\n",
       "    </tr>\n",
       "    <tr>\n",
       "      <th>0.01</th>\n",
       "      <td>780.235981</td>\n",
       "    </tr>\n",
       "    <tr>\n",
       "      <th>0.02</th>\n",
       "      <td>1247.874545</td>\n",
       "    </tr>\n",
       "    <tr>\n",
       "      <th>0.03</th>\n",
       "      <td>947.878286</td>\n",
       "    </tr>\n",
       "    <tr>\n",
       "      <th>0.04</th>\n",
       "      <td>1052.637835</td>\n",
       "    </tr>\n",
       "    <tr>\n",
       "      <th>0.05</th>\n",
       "      <td>902.882667</td>\n",
       "    </tr>\n",
       "    <tr>\n",
       "      <th>0.06</th>\n",
       "      <td>1202.015595</td>\n",
       "    </tr>\n",
       "    <tr>\n",
       "      <th>0.07</th>\n",
       "      <td>1655.511868</td>\n",
       "    </tr>\n",
       "    <tr>\n",
       "      <th>0.08</th>\n",
       "      <td>1263.239412</td>\n",
       "    </tr>\n",
       "    <tr>\n",
       "      <th>0.09</th>\n",
       "      <td>1737.066606</td>\n",
       "    </tr>\n",
       "    <tr>\n",
       "      <th>0.10</th>\n",
       "      <td>946.737857</td>\n",
       "    </tr>\n",
       "  </tbody>\n",
       "</table>\n",
       "</div>"
      ],
      "text/plain": [
       "                      total_apos_desconto\n",
       "desconto_porcentagem                     \n",
       "0.00                          1006.831829\n",
       "0.01                           780.235981\n",
       "0.02                          1247.874545\n",
       "0.03                           947.878286\n",
       "0.04                          1052.637835\n",
       "0.05                           902.882667\n",
       "0.06                          1202.015595\n",
       "0.07                          1655.511868\n",
       "0.08                          1263.239412\n",
       "0.09                          1737.066606\n",
       "0.10                           946.737857"
      ]
     },
     "execution_count": 43,
     "metadata": {},
     "output_type": "execute_result"
    }
   ],
   "source": [
    "impacto_desconto = dataset.groupby('desconto_porcentagem')[['total_apos_desconto']].mean().sort_index()\n",
    "impacto_desconto"
   ]
  },
  {
   "cell_type": "code",
   "execution_count": 44,
   "metadata": {},
   "outputs": [
    {
     "name": "stdout",
     "output_type": "stream",
     "text": [
      "Correlação de Pearson: 0.046639947239849565\n"
     ]
    }
   ],
   "source": [
    "# Calculando a correlação de Pearson entre desconto e total após desconto\n",
    "correlacao_desconto = dataset['desconto_porcentagem'].corr(dataset['total_apos_desconto'])\n",
    "print(f\"Correlação de Pearson: {correlacao_desconto}\")"
   ]
  },
  {
   "cell_type": "code",
   "execution_count": 45,
   "metadata": {},
   "outputs": [
    {
     "data": {
      "image/png": "[encoded data removed]",
      "text/plain": [
       "<Figure size 1000x400 with 1 Axes>"
      ]
     },
     "metadata": {},
     "output_type": "display_data"
    }
   ],
   "source": [
    "# Visualizando os dados com um gráfico de dispersão\n",
    "plt.figure(figsize=(10, 4))\n",
    "sns.lineplot(x='desconto_porcentagem', y='total_apos_desconto', data=impacto_desconto, marker=\"o\")\n",
    "plt.title('Relação entre Desconto e Total Após Desconto')\n",
    "plt.xlabel('Porcentagem de Desconto')\n",
    "plt.ylabel('Total Após Desconto')\n",
    "plt.grid(True)\n",
    "plt.show()"
   ]
  },
  {
   "cell_type": "markdown",
   "metadata": {},
   "source": [
    "A correlação de Pearson de aproximadamente **0,047** sugere que há uma relação muito fraca entre o `desconto_porcentagem` e o `total_apos_desconto`. Isso implica que mudanças em uma dessas variáveis não estão significativamente associadas a mudanças na outra, ou seja, o desconto aplicado não tem um impacto claro ou linear no total após o desconto.\n",
    "\n",
    "### Interpretação:\n",
    "- **0 a 0,1**: Correlação muito fraca.\n",
    "- **0,1 a 0,3**: Correlação fraca.\n",
    "- **0,3 a 0,5**: Correlação moderada.\n",
    "- **0,5 a 0,7**: Correlação forte.\n",
    "- **0,7 a 1**: Correlação muito forte.\n",
    "\n",
    "Neste caso, seria melhor considerar investigar outras variáveis que possam ter uma relação mais forte com o `total_apos_desconto` ou explorar a natureza da relação (por exemplo, se há um comportamento não linear). "
   ]
  },
  {
   "cell_type": "code",
   "execution_count": 46,
   "metadata": {},
   "outputs": [
    {
     "data": {
      "text/plain": [
       "Index(['nro_pedido', 'data_pedido', 'nome_consumidor', 'endereco', 'cidade',\n",
       "       'estado', 'tipo_consumidor', 'gerente_conta', 'prioridade_pedido',\n",
       "       'nome_produto', 'categoria_produto', 'caixa_produto', 'modo_envio',\n",
       "       'data_envio', 'preco_custo', 'preco_varejo', 'quantidade_pedido',\n",
       "       'sub_total', 'desconto_porcentagem', 'desconto_dinheiro',\n",
       "       'total_apos_desconto', 'custo_transporte', 'total_pedido'],\n",
       "      dtype='object')"
      ]
     },
     "execution_count": 46,
     "metadata": {},
     "output_type": "execute_result"
    }
   ],
   "source": [
    "dataset.columns"
   ]
  },
  {
   "cell_type": "markdown",
   "metadata": {},
   "source": [
    "# **Modos de Envio:**\n",
    "   - Qual é o modo de envio mais comum (`modo_envio`) e seu impacto no custo de envio (`custo_transporte`)?\n",
    "   - Existe alguma diferença significativa no custo total do pedido entre os diferentes modos de envio?\n"
   ]
  },
  {
   "cell_type": "code",
   "execution_count": 47,
   "metadata": {},
   "outputs": [],
   "source": [
    "dados_modo_envio = dataset.modo_envio.value_counts()"
   ]
  },
  {
   "cell_type": "code",
   "execution_count": 48,
   "metadata": {},
   "outputs": [
    {
     "data": {
      "image/png": "[encoded data removed]",
      "text/plain": [
       "<Figure size 800x600 with 1 Axes>"
      ]
     },
     "metadata": {},
     "output_type": "display_data"
    }
   ],
   "source": [
    "# Gráfico para a distribuição dos tipos de clientes\n",
    "plt.figure(figsize=(8, 6))\n",
    "ax = dados_modo_envio.plot(kind='bar')\n",
    "plt.title('Modo de Envio')\n",
    "plt.xlabel('Tipo de Entrega')\n",
    "plt.ylabel('Quantidade de Entregas')\n",
    "plt.xticks(rotation=70)\n",
    "# Itera sobre cada barra (patch) no gráfico de barras\n",
    "for p in ax.patches:\n",
    "    # Adiciona uma anotação (número total) acima de cada barra\n",
    "    ax.annotate(\n",
    "        f\"{p.get_height():.0f}\",                            # Texto formatado com a altura da barra como número inteiro\n",
    "        (p.get_x() + p.get_width() / 2., p.get_height()),   # Coordenadas do texto (centro da barra)\n",
    "        ha='center',                                        # Alinhamento horizontal: centralizado\n",
    "        va='center',                                        # Alinhamento vertical: centralizado\n",
    "        xytext=(0, 10),                                     # Deslocamento do texto (10 pontos acima)\n",
    "        textcoords='offset points'                          # Coordenadas do deslocamento em pontos\n",
    "    )\n",
    "\n",
    "plt.show()"
   ]
  },
  {
   "cell_type": "code",
   "execution_count": 49,
   "metadata": {},
   "outputs": [
    {
     "data": {
      "text/html": [
       "<div>\n",
       "<style scoped>\n",
       "    .dataframe tbody tr th:only-of-type {\n",
       "        vertical-align: middle;\n",
       "    }\n",
       "\n",
       "    .dataframe tbody tr th {\n",
       "        vertical-align: top;\n",
       "    }\n",
       "\n",
       "    .dataframe thead th {\n",
       "        text-align: right;\n",
       "    }\n",
       "</style>\n",
       "<table border=\"1\" class=\"dataframe\">\n",
       "  <thead>\n",
       "    <tr style=\"text-align: right;\">\n",
       "      <th></th>\n",
       "      <th>custo_transporte</th>\n",
       "      <th>total_pedido</th>\n",
       "    </tr>\n",
       "    <tr>\n",
       "      <th>modo_envio</th>\n",
       "      <th></th>\n",
       "      <th></th>\n",
       "    </tr>\n",
       "  </thead>\n",
       "  <tbody>\n",
       "    <tr>\n",
       "      <th>Delivery Truck</th>\n",
       "      <td>40.610345</td>\n",
       "      <td>9466.475517</td>\n",
       "    </tr>\n",
       "    <tr>\n",
       "      <th>Express Air</th>\n",
       "      <td>5.394013</td>\n",
       "      <td>913.492895</td>\n",
       "    </tr>\n",
       "    <tr>\n",
       "      <th>Regular Air</th>\n",
       "      <td>5.033788</td>\n",
       "      <td>923.465431</td>\n",
       "    </tr>\n",
       "  </tbody>\n",
       "</table>\n",
       "</div>"
      ],
      "text/plain": [
       "                custo_transporte  total_pedido\n",
       "modo_envio                                    \n",
       "Delivery Truck         40.610345   9466.475517\n",
       "Express Air             5.394013    913.492895\n",
       "Regular Air             5.033788    923.465431"
      ]
     },
     "execution_count": 49,
     "metadata": {},
     "output_type": "execute_result"
    }
   ],
   "source": [
    "dados_impacto_custo_medio_envio = dataset.groupby('modo_envio')[['custo_transporte', 'total_pedido']].mean().sort_index()\n",
    "dados_impacto_custo_medio_envio"
   ]
  },
  {
   "cell_type": "markdown",
   "metadata": {},
   "source": [
    "### Análise Descritiva:\n",
    "Aqui está a tabela formatada para maior clareza:\n",
    "\n",
    "| Modo de Envio    | Custo de Transporte (média) | Total do Pedido (média) |\n",
    "|------------------|-----------------------------|-------------------------|\n",
    "| Delivery Truck    | 40.61                       | 9466.48                 |\n",
    "| Express Air      | 5.39                         | 913.49                  |\n",
    "| Regular Air      | 5.03                         | 923.47                  |\n",
    "\n",
    "#### 1. **Média dos Custos de Transporte:**\n",
    "   - **Delivery Truck** tem o maior custo médio de transporte (40.61), significativamente maior que os custos médios dos modos aéreos (**Express Air** com 5.39 e **Regular Air** com 5.03).\n",
    "   - **Express Air** e **Regular Air** têm custos de transporte muito semelhantes, ambos em torno de 5, o que sugere que esses modos de envio têm um custo logístico semelhante, pelo menos na média.\n",
    "\n",
    "#### 2. **Média do Total do Pedido:**\n",
    "   - **Delivery Truck** está associado a pedidos de valor muito mais alto (média de 9466,48) em comparação com os outros dois modos de envio (**Express Air** com 913,49 e **Regular Air** com 923,47).\n",
    "   - Os pedidos enviados via **Express Air** e **Regular Air** são de valores bastante próximos (em torno de 913-923), indicando que esses modos de envio geralmente são usados para pedidos de valores semelhantes.\n",
    "\n",
    "### Análise Comparativa:\n",
    "1. **Relação entre Custo de Transporte e Total do Pedido:**\n",
    "   - Para o **Delivery Truck**, observamos que o custo de transporte é consideravelmente maior e está associado a pedidos de valor muito mais alto. Isso sugere que, para pedidos de maior valor, o transporte terrestre (caminhão) pode ser mais utilizado, apesar do maior custo logístico.\n",
    "   - Para o **Express Air** e o **Regular Air**, o custo de transporte é relativamente baixo, e o total do pedido também é baixo. Isso sugere que esses modos de envio aéreos são preferidos para pedidos menores e mais leves, onde o transporte aéreo oferece uma vantagem de custo.\n",
    "\n",
    "2. **Escolha do Modo de Envio:**\n",
    "   - O **Delivery Truck** parece ser a escolha para pedidos maiores, onde o volume ou o peso podem justificar o custo mais alto de transporte.\n",
    "   - **Express Air** e **Regular Air** são provavelmente escolhidos para produtos de menor volume ou peso, onde a rapidez é uma consideração, e o custo de transporte é muito mais baixo.\n",
    "\n",
    "### Conclusão:\n",
    "\n",
    "- **Delivery Truck** tem um custo de transporte bem mais alto, mas é usado para pedidos de valor significativamente maior.\n",
    "- **Express Air** e **Regular Air** têm custos de transporte e valores de pedidos semelhantes, sugerindo que são usados para o mesmo tipo de envio, provavelmente de produtos mais leves e de menor valor.\n",
    "\n",
    "Essa análise sugere que o **modo de envio** influencia diretamente o **custo de transporte**, e esse custo está relacionado ao valor do pedido."
   ]
  },
  {
   "cell_type": "code",
   "execution_count": 50,
   "metadata": {},
   "outputs": [
    {
     "data": {
      "text/html": [
       "<div>\n",
       "<style scoped>\n",
       "    .dataframe tbody tr th:only-of-type {\n",
       "        vertical-align: middle;\n",
       "    }\n",
       "\n",
       "    .dataframe tbody tr th {\n",
       "        vertical-align: top;\n",
       "    }\n",
       "\n",
       "    .dataframe thead th {\n",
       "        text-align: right;\n",
       "    }\n",
       "</style>\n",
       "<table border=\"1\" class=\"dataframe\">\n",
       "  <thead>\n",
       "    <tr style=\"text-align: right;\">\n",
       "      <th></th>\n",
       "      <th>custo_transporte</th>\n",
       "      <th>total_pedido</th>\n",
       "    </tr>\n",
       "    <tr>\n",
       "      <th>modo_envio</th>\n",
       "      <th></th>\n",
       "      <th></th>\n",
       "    </tr>\n",
       "  </thead>\n",
       "  <tbody>\n",
       "    <tr>\n",
       "      <th>Delivery Truck</th>\n",
       "      <td>1177.70</td>\n",
       "      <td>274527.79</td>\n",
       "    </tr>\n",
       "    <tr>\n",
       "      <th>Express Air</th>\n",
       "      <td>819.89</td>\n",
       "      <td>138850.92</td>\n",
       "    </tr>\n",
       "    <tr>\n",
       "      <th>Regular Air</th>\n",
       "      <td>4318.99</td>\n",
       "      <td>792333.34</td>\n",
       "    </tr>\n",
       "  </tbody>\n",
       "</table>\n",
       "</div>"
      ],
      "text/plain": [
       "                custo_transporte  total_pedido\n",
       "modo_envio                                    \n",
       "Delivery Truck           1177.70     274527.79\n",
       "Express Air               819.89     138850.92\n",
       "Regular Air              4318.99     792333.34"
      ]
     },
     "execution_count": 50,
     "metadata": {},
     "output_type": "execute_result"
    }
   ],
   "source": [
    "dados_impacto_custo_absoluto_envio = dataset.groupby('modo_envio')[['custo_transporte', 'total_pedido']].sum().sort_index()\n",
    "dados_impacto_custo_absoluto_envio"
   ]
  },
  {
   "cell_type": "markdown",
   "metadata": {},
   "source": [
    "Vamos analisar a nova métrica solicitada, que é o **custo por cada R$ 1 vendido**. Essa métrica nos ajuda a entender o quanto é gasto em transporte para cada real gerado em vendas para cada modo de envio.\n",
    "\n",
    "### Tabela com o custo por cada R$ 1 vendido:\n",
    "\n",
    "| Modo de Envio     | Custo de Transporte (absoluto) | Total do Pedido (absoluto) | Custo por R$1 vendido |\n",
    "|-------------------|-------------------------------|----------------------------|------------------------|\n",
    "| **Delivery Truck** | R$ 1.177,70                   | R$ 274.527,79              | **R$ 0,0043**          |\n",
    "| **Express Air**    | R$ 819,89                     | R$ 138.850,92              | **R$ 0,0059**          |\n",
    "| **Regular Air**    | R$ 4.318,99                   | R$ 792.333,34              | **R$ 0,0054**          |\n",
    "\n",
    "### Análise do Custo por R$ 1 Vendido:\n",
    "\n",
    "#### 1. **Delivery Truck (R$ 0,0043 por R$ 1 vendido)**:\n",
    "   - O transporte por caminhão (Delivery Truck) é o modo mais eficiente em termos de custo. Para cada R$ 1 vendido, o custo de transporte é de apenas **R$ 0,0043**. Isso significa que menos de meio centavo é gasto em transporte para cada real gerado em vendas, o que sugere que este modo de envio é muito econômico para pedidos de alto valor.\n",
    "\n",
    "#### 2. **Express Air (R$ 0,0059 por R$ 1 vendido)**:\n",
    "   - O transporte aéreo expresso (Express Air) é o modo mais caro por R$ 1 vendido. Para cada R$ 1 gerado em vendas, o custo de transporte é de **R$ 0,0059**. Esse valor reflete um uso mais intensivo de recursos para o envio rápido, tornando esse modo menos eficiente em termos de custo, especialmente para pedidos de valor relativamente menor.\n",
    "\n",
    "#### 3. **Regular Air (R$ 0,0054 por R$ 1 vendido)**:\n",
    "   - O transporte aéreo regular (Regular Air) apresenta um custo de **R$ 0,0054** por R$ 1 vendido, ligeiramente mais barato que o Express Air, mas ainda mais caro que o transporte terrestre. Esse custo está ligado ao envio de pedidos de maior valor absoluto, mas os custos operacionais do envio aéreo ainda o tornam menos eficiente em termos de custo por unidade vendida.\n",
    "\n",
    "### Conclusão:\n",
    "- **Delivery Truck** é o mais econômico, com **R$ 0,0043** gastos por R$ 1 vendido, sendo ideal para pedidos grandes e de alto valor.\n",
    "- **Express Air** é o mais caro, com **R$ 0,0059** por R$ 1 vendido, sendo mais adequado para envios urgentes, mas menos eficiente em termos de custo.\n",
    "- **Regular Air** está entre os dois, com **R$ 0,0054** por R$ 1 vendido, mostrando que é mais eficiente para envios aéreos de maior valor, mas ainda não tão econômico quanto o transporte terrestre.\n",
    "\n",
    "Essa análise mostra que, ao planejar o modo de envio, o **Delivery Truck** deve ser preferido para grandes volumes de vendas, enquanto os modos aéreos são menos eficientes, mas podem ser necessários para rapidez em pedidos menores."
   ]
  },
  {
   "cell_type": "code",
   "execution_count": 51,
   "metadata": {},
   "outputs": [
    {
     "data": {
      "text/plain": [
       "Index(['nro_pedido', 'data_pedido', 'nome_consumidor', 'endereco', 'cidade',\n",
       "       'estado', 'tipo_consumidor', 'gerente_conta', 'prioridade_pedido',\n",
       "       'nome_produto', 'categoria_produto', 'caixa_produto', 'modo_envio',\n",
       "       'data_envio', 'preco_custo', 'preco_varejo', 'quantidade_pedido',\n",
       "       'sub_total', 'desconto_porcentagem', 'desconto_dinheiro',\n",
       "       'total_apos_desconto', 'custo_transporte', 'total_pedido'],\n",
       "      dtype='object')"
      ]
     },
     "execution_count": 51,
     "metadata": {},
     "output_type": "execute_result"
    }
   ],
   "source": [
    "dataset.columns"
   ]
  },
  {
   "cell_type": "markdown",
   "metadata": {},
   "source": [
    "# **Comparação de Preços:**\n",
    "   - Qual é a diferença média entre o preço de custo (`Cost Price`) e o preço de varejo (`Retail Price`)?\n"
   ]
  },
  {
   "cell_type": "code",
   "execution_count": 87,
   "metadata": {},
   "outputs": [
    {
     "name": "stdout",
     "output_type": "stream",
     "text": [
      "A diferença média entre o preço de custo e o preço de varejo é: 21.795909528392684\n"
     ]
    }
   ],
   "source": [
    "# Subtrai a coluna 'preco_custo' da coluna 'preco_varejo' para calcular a diferença entre os dois preços para cada item\n",
    "diferenca = dataset['preco_varejo'] - dataset['preco_custo']\n",
    "# Calcula a média da diferença entre os preços para todos os itens no dataset\n",
    "diferenca_media = diferenca.mean()\n",
    "# Exibe a diferença média calculada entre o preço de custo e o preço de varejo\n",
    "print(f'A diferença média entre o preço de custo e o preço de varejo é: {diferenca_media}')"
   ]
  },
  {
   "cell_type": "markdown",
   "metadata": {},
   "source": [
    "   - Qual é a margem de lucro média por categoria de produto?"
   ]
  },
  {
   "cell_type": "code",
   "execution_count": 101,
   "metadata": {},
   "outputs": [
    {
     "data": {
      "text/plain": [
       "{'Office Supplies': 44.53167894074746,\n",
       " 'Technology': 53.475558412505585,\n",
       " 'Furniture': 54.10487742968946}"
      ]
     },
     "execution_count": 101,
     "metadata": {},
     "output_type": "execute_result"
    }
   ],
   "source": [
    "# Inicializa um dicionário para armazenar as margens de lucro por categoria de produto\n",
    "lucro_por_categoria = {}\n",
    "\n",
    "# Itera sobre as colunas 'preco_custo', 'preco_varejo' e 'categoria_produto' simultaneamente\n",
    "for preco_custo, preco_varejo, categoria_produto in zip(dataset['preco_custo'], dataset['preco_varejo'], dataset['categoria_produto']):\n",
    "    # Calcula a margem de lucro como porcentagem\n",
    "    lucro = ((preco_varejo - preco_custo) / preco_varejo) * 100\n",
    "    \n",
    "    # Se a categoria já existir no dicionário, adiciona o lucro à lista existente\n",
    "    if categoria_produto in lucro_por_categoria:\n",
    "        lucro_por_categoria[categoria_produto].append(lucro)\n",
    "    else:\n",
    "        # Se a categoria não existir, cria uma nova lista com o lucro\n",
    "        lucro_por_categoria[categoria_produto] = [lucro]\n",
    "\n",
    "# Calcula a média de lucro para cada categoria\n",
    "media_lucro_por_categoria = {categoria: sum(lucros) / len(lucros) for categoria, lucros in lucro_por_categoria.items()}\n",
    "\n",
    "# Exibe a média de lucro por categoria\n",
    "media_lucro_por_categoria"
   ]
  },
  {
   "cell_type": "markdown",
   "metadata": {},
   "source": [
    "# **Análise de Contêineres de Produto:**\n",
    "   - Qual é a distribuição dos diferentes tipos de contêineres de produtos (`Product Container`)?\n"
   ]
  },
  {
   "cell_type": "code",
   "execution_count": 54,
   "metadata": {},
   "outputs": [
    {
     "data": {
      "text/plain": [
       "caixa_produto\n",
       "Jumbo Drum     29\n",
       "Large Box      27\n",
       "Medium Box     23\n",
       "Small Box     530\n",
       "Small Pack    120\n",
       "Wrap Bag      310\n",
       "Name: count, dtype: int64"
      ]
     },
     "execution_count": 54,
     "metadata": {},
     "output_type": "execute_result"
    }
   ],
   "source": [
    "dados_caixa_produto = dataset.caixa_produto.value_counts().sort_index()\n",
    "dados_caixa_produto"
   ]
  },
  {
   "cell_type": "code",
   "execution_count": 108,
   "metadata": {},
   "outputs": [
    {
     "data": {
      "image/png": "[encoded data removed]",
      "text/plain": [
       "<Figure size 800x600 with 1 Axes>"
      ]
     },
     "metadata": {},
     "output_type": "display_data"
    }
   ],
   "source": [
    "plt.figure(figsize=(8,6))\n",
    "grafico = dados_caixa_produto.plot(kind='bar')\n",
    "plt.xlabel('Tipos de Contêineres')\n",
    "plt.ylabel('Quantidade')\n",
    "plt.title('Distribuição de Contêineres ')\n",
    "plt.xticks(rotation=70)\n",
    "# Itera sobre cada barra (patch) no gráfico de barras\n",
    "for p in grafico.patches:\n",
    "    # Adiciona uma anotação (número total) acima de cada barra\n",
    "    grafico.annotate(\n",
    "        f\"{p.get_height():.0f}\",                            # Texto formatado com a altura da barra como número inteiro\n",
    "        (p.get_x() + p.get_width() / 2., p.get_height()),   # Coordenadas do texto (centro da barra)\n",
    "        ha='center',                                        # Alinhamento horizontal: centralizado\n",
    "        va='center',                                        # Alinhamento vertical: centralizado\n",
    "        xytext=(0, 10),                                     # Deslocamento do texto (10 pontos acima)\n",
    "        textcoords='offset points'                          # Coordenadas do deslocamento em pontos\n",
    "    )\n",
    "\n",
    "plt.show()\n",
    "\n",
    "plt.show()"
   ]
  },
  {
   "cell_type": "markdown",
   "metadata": {},
   "source": [
    "   - Existe alguma correlação entre o tipo de contêiner e o custo total do pedido?"
   ]
  },
  {
   "cell_type": "code",
   "execution_count": 111,
   "metadata": {},
   "outputs": [
    {
     "data": {
      "text/html": [
       "<div>\n",
       "<style scoped>\n",
       "    .dataframe tbody tr th:only-of-type {\n",
       "        vertical-align: middle;\n",
       "    }\n",
       "\n",
       "    .dataframe tbody tr th {\n",
       "        vertical-align: top;\n",
       "    }\n",
       "\n",
       "    .dataframe thead th {\n",
       "        text-align: right;\n",
       "    }\n",
       "</style>\n",
       "<table border=\"1\" class=\"dataframe\">\n",
       "  <thead>\n",
       "    <tr style=\"text-align: right;\">\n",
       "      <th></th>\n",
       "      <th>total_pedido</th>\n",
       "    </tr>\n",
       "    <tr>\n",
       "      <th>caixa_produto</th>\n",
       "      <th></th>\n",
       "    </tr>\n",
       "  </thead>\n",
       "  <tbody>\n",
       "    <tr>\n",
       "      <th>Jumbo Drum</th>\n",
       "      <td>9466.475517</td>\n",
       "    </tr>\n",
       "    <tr>\n",
       "      <th>Large Box</th>\n",
       "      <td>10730.710000</td>\n",
       "    </tr>\n",
       "    <tr>\n",
       "      <th>Medium Box</th>\n",
       "      <td>467.648696</td>\n",
       "    </tr>\n",
       "    <tr>\n",
       "      <th>Small Box</th>\n",
       "      <td>1019.898396</td>\n",
       "    </tr>\n",
       "    <tr>\n",
       "      <th>Small Pack</th>\n",
       "      <td>399.899250</td>\n",
       "    </tr>\n",
       "    <tr>\n",
       "      <th>Wrap Bag</th>\n",
       "      <td>136.016484</td>\n",
       "    </tr>\n",
       "  </tbody>\n",
       "</table>\n",
       "</div>"
      ],
      "text/plain": [
       "               total_pedido\n",
       "caixa_produto              \n",
       "Jumbo Drum      9466.475517\n",
       "Large Box      10730.710000\n",
       "Medium Box       467.648696\n",
       "Small Box       1019.898396\n",
       "Small Pack       399.899250\n",
       "Wrap Bag         136.016484"
      ]
     },
     "execution_count": 111,
     "metadata": {},
     "output_type": "execute_result"
    }
   ],
   "source": [
    "relacao_conteinere_total_pedido = dataset.groupby('caixa_produto')[['total_pedido']].mean()\n",
    "relacao_conteinere_total_pedido"
   ]
  },
  {
   "cell_type": "code",
   "execution_count": 112,
   "metadata": {},
   "outputs": [
    {
     "name": "stdout",
     "output_type": "stream",
     "text": [
      "Correlação entre tipo de contêiner e custo total do pedido: -0.48389296030042017\n"
     ]
    }
   ],
   "source": [
    "# Codificando o tipo de contêiner\n",
    "dataset['caixa_produto_code'] = dataset['caixa_produto'].astype('category').cat.codes\n",
    "# Calculando a correlação\n",
    "correlation = dataset[['caixa_produto_code', 'total_pedido']].corr().iloc[0, 1]\n",
    "print(f\"Correlação entre tipo de contêiner e custo total do pedido: {correlation}\")"
   ]
  },
  {
   "cell_type": "markdown",
   "metadata": {},
   "source": [
    "A correlação de \\(-0.48\\) entre o tipo de contêiner e o custo total do pedido sugere uma **correlação negativa moderada**. Aqui está uma interpretação do que isso significa:\n",
    "\n",
    "### Interpretação da Correlação\n",
    "\n",
    "1. **Correlação Negativa**:\n",
    "   - Um valor de correlação negativo indica que, à medida que o tipo de contêiner aumenta em uma determinada ordem (se estiver codificado numericamente), o custo total do pedido tende a diminuir. Isso pode significar que contêineres maiores ou mais caros não necessariamente resultam em um custo total maior, ou que contêineres menores são mais baratos, mas com custo total mais alto em algumas situações.\n",
    "\n",
    "2. **Moderada**:\n",
    "   - O valor de \\(-0.48\\) indica uma correlação moderada. Isso significa que há uma relação entre os tipos de contêiner e os custos, mas não é uma relação forte. Outros fatores podem também estar influenciando o custo total do pedido."
   ]
  },
  {
   "cell_type": "code",
   "execution_count": 120,
   "metadata": {},
   "outputs": [
    {
     "data": {
      "text/plain": [
       "Index(['nro_pedido', 'data_pedido', 'nome_consumidor', 'endereco', 'cidade',\n",
       "       'estado', 'tipo_consumidor', 'gerente_conta', 'prioridade_pedido',\n",
       "       'nome_produto', 'categoria_produto', 'caixa_produto', 'modo_envio',\n",
       "       'data_envio', 'preco_custo', 'preco_varejo', 'quantidade_pedido',\n",
       "       'sub_total', 'desconto_porcentagem', 'desconto_dinheiro',\n",
       "       'total_apos_desconto', 'custo_transporte', 'total_pedido',\n",
       "       'caixa_produto_code', 'grupo'],\n",
       "      dtype='object')"
      ]
     },
     "execution_count": 120,
     "metadata": {},
     "output_type": "execute_result"
    }
   ],
   "source": [
    "dataset.columns"
   ]
  },
  {
   "cell_type": "markdown",
   "metadata": {},
   "source": [
    "# **Volume de Pedidos:**\n",
    "   - Qual é a média de quantidade de pedidos (`Order Quantity`) por categoria de produto?\n",
    "   "
   ]
  },
  {
   "cell_type": "code",
   "execution_count": 123,
   "metadata": {},
   "outputs": [
    {
     "data": {
      "text/html": [
       "<div>\n",
       "<style scoped>\n",
       "    .dataframe tbody tr th:only-of-type {\n",
       "        vertical-align: middle;\n",
       "    }\n",
       "\n",
       "    .dataframe tbody tr th {\n",
       "        vertical-align: top;\n",
       "    }\n",
       "\n",
       "    .dataframe thead th {\n",
       "        text-align: right;\n",
       "    }\n",
       "</style>\n",
       "<table border=\"1\" class=\"dataframe\">\n",
       "  <thead>\n",
       "    <tr style=\"text-align: right;\">\n",
       "      <th></th>\n",
       "      <th>quantidade_pedido</th>\n",
       "    </tr>\n",
       "    <tr>\n",
       "      <th>categoria_produto</th>\n",
       "      <th></th>\n",
       "    </tr>\n",
       "  </thead>\n",
       "  <tbody>\n",
       "    <tr>\n",
       "      <th>Furniture</th>\n",
       "      <td>20.777778</td>\n",
       "    </tr>\n",
       "    <tr>\n",
       "      <th>Office Supplies</th>\n",
       "      <td>26.544099</td>\n",
       "    </tr>\n",
       "    <tr>\n",
       "      <th>Technology</th>\n",
       "      <td>24.787440</td>\n",
       "    </tr>\n",
       "  </tbody>\n",
       "</table>\n",
       "</div>"
      ],
      "text/plain": [
       "                   quantidade_pedido\n",
       "categoria_produto                   \n",
       "Furniture                  20.777778\n",
       "Office Supplies            26.544099\n",
       "Technology                 24.787440"
      ]
     },
     "execution_count": 123,
     "metadata": {},
     "output_type": "execute_result"
    }
   ],
   "source": [
    "media_pedido = dataset.groupby('categoria_produto')[['quantidade_pedido']].mean()\n",
    "media_pedido"
   ]
  },
  {
   "cell_type": "markdown",
   "metadata": {},
   "source": [
    "- Quais produtos têm o maior volume de pedidos?"
   ]
  },
  {
   "cell_type": "code",
   "execution_count": 125,
   "metadata": {},
   "outputs": [
    {
     "data": {
      "text/html": [
       "<div>\n",
       "<style scoped>\n",
       "    .dataframe tbody tr th:only-of-type {\n",
       "        vertical-align: middle;\n",
       "    }\n",
       "\n",
       "    .dataframe tbody tr th {\n",
       "        vertical-align: top;\n",
       "    }\n",
       "\n",
       "    .dataframe thead th {\n",
       "        text-align: right;\n",
       "    }\n",
       "</style>\n",
       "<table border=\"1\" class=\"dataframe\">\n",
       "  <thead>\n",
       "    <tr style=\"text-align: right;\">\n",
       "      <th></th>\n",
       "      <th>quantidade_pedido</th>\n",
       "    </tr>\n",
       "    <tr>\n",
       "      <th>categoria_produto</th>\n",
       "      <th></th>\n",
       "    </tr>\n",
       "  </thead>\n",
       "  <tbody>\n",
       "    <tr>\n",
       "      <th>Furniture</th>\n",
       "      <td>561</td>\n",
       "    </tr>\n",
       "    <tr>\n",
       "      <th>Office Supplies</th>\n",
       "      <td>21368</td>\n",
       "    </tr>\n",
       "    <tr>\n",
       "      <th>Technology</th>\n",
       "      <td>5131</td>\n",
       "    </tr>\n",
       "  </tbody>\n",
       "</table>\n",
       "</div>"
      ],
      "text/plain": [
       "                   quantidade_pedido\n",
       "categoria_produto                   \n",
       "Furniture                        561\n",
       "Office Supplies                21368\n",
       "Technology                      5131"
      ]
     },
     "execution_count": 125,
     "metadata": {},
     "output_type": "execute_result"
    }
   ],
   "source": [
    "volume_pedido = dataset.groupby('categoria_produto')[['quantidade_pedido']].sum()\n",
    "volume_pedido"
   ]
  },
  {
   "cell_type": "markdown",
   "metadata": {},
   "source": [
    "# Relatório Final da Análise de Vendas"
   ]
  },
  {
   "cell_type": "markdown",
   "metadata": {},
   "source": [
    "Este relatório detalha os resultados de uma análise de vendas realizada com base nos dados fornecidos, com foco em métricas de desempenho, tendências de vendas e outras informações relevantes para o negócio.\n",
    "\n",
    "#### 1. Distribuição de Categorias de Produtos\n",
    "A análise revelou variações significativas na distribuição das categorias de produtos. Algumas categorias mostraram-se mais populares, com maior volume de vendas, enquanto outras tiveram participação menor no total de pedidos. Um gráfico de barras foi gerado para visualizar a contagem de produtos por categoria, facilitando a identificação de tendências e oportunidades de melhoria na oferta de produtos.\n",
    "\n",
    "#### 2. Tipos de Clientes\n",
    "Os dados também foram segmentados por tipo de cliente, destacando quatro categorias principais: consumidores, empresas corporativas, escritórios domésticos e pequenas empresas. Verificou-se que os clientes corporativos e pequenas empresas representam uma parcela significativa das vendas, evidenciando a importância desses segmentos para o negócio.\n",
    "\n",
    "#### 3. Tendências Temporais\n",
    "A análise das vendas ao longo do tempo demonstrou padrões sazonais, com picos em determinados meses. A agregação mensal dos dados de vendas mostrou que há flutuações sazonais que podem ser exploradas para planejar estratégias de vendas mais eficazes, como promoções em meses de menor demanda.\n",
    "\n",
    "#### 4. Desempenho por Localidade\n",
    "Ao analisar as vendas por cidade e estado, descobrimos que Sydney e Melbourne são os principais centros de vendas, com Sydney liderando tanto em valor médio de pedidos quanto em volume total de vendas. Entre os estados, New South Wales (NSW) superou Victoria (VIC) em termos de faturamento e quantidade de pedidos.\n",
    "\n",
    "#### 5. Desempenho dos Gerentes de Conta\n",
    "A análise de desempenho por gerente de conta mostrou que Natasha Song e Radhya Staples tiveram as maiores médias de vendas por pedido. Esses resultados indicam que alguns gerentes têm estratégias de vendas mais eficazes, o que pode servir como benchmark para os demais. A variação no desempenho entre os gerentes sugere oportunidades para treinamentos ou realocação de clientes estratégicos.\n",
    "\n",
    "#### 6. Impacto dos Descontos\n",
    "O impacto dos descontos aplicados foi avaliado para determinar como eles afetam o valor total dos pedidos. Embora a média de descontos concedidos tenha sido relativamente baixa, ela influenciou diretamente o total de vendas, o que mostra a importância de gerir cuidadosamente as promoções para maximizar os lucros sem comprometer a receita.\n",
    "\n",
    "#### 7. Modos de Envio\n",
    "Os modos de envio também foram analisados quanto ao seu impacto no custo total dos pedidos. Modos de envio mais rápidos ou especializados aumentam os custos de transporte, mas não necessariamente refletem um aumento proporcional no valor total do pedido. Essa informação pode ser útil para otimizar as operações logísticas e oferecer opções de envio que equilibrem velocidade e custo.\n",
    "\n",
    "#### 8. Comparação de Preços e Margens de Lucro\n",
    "Foi calculada a diferença entre os preços de custo e de varejo dos produtos, revelando margens de lucro variadas entre as categorias. Algumas categorias apresentaram margens de lucro significativamente maiores, o que oferece insights sobre quais produtos podem ser priorizados para aumentar a lucratividade.\n",
    "\n",
    "#### 9. Análise de Contêineres de Produto\n",
    "Quanto aos tipos de contêineres utilizados para os produtos, \"Small Box\" e \"Wrap Bag\" foram os mais utilizados. Essa análise sugere que a empresa pode otimizar ainda mais os custos de embalagem ao avaliar a eficiência de cada tipo de contêiner em relação ao custo total de envio e o volume de pedidos.\n",
    "\n",
    "#### 10. Volume de Pedidos\n",
    "Por fim, a análise do volume de pedidos por categoria de produto destacou quais itens tiveram maior demanda. Essa informação é valiosa para ajustar os níveis de estoque e garantir que os produtos mais populares estejam sempre disponíveis, evitando rupturas no estoque.\n",
    "\n",
    "---\n",
    "\n",
    "Este relatório sintetiza os principais achados da análise de vendas e pode servir de base para decisões estratégicas em diversas áreas, como marketing, logística e gestão de contas. Para explorar mais detalhes ou gerar gráficos complementares, estarei à disposição!\n",
    "\n",
    "---\n",
    "\n"
   ]
  }
 ],
 "metadata": {
  "kernelspec": {
   "display_name": "Python 3",
   "language": "python",
   "name": "python3"
  },
  "language_info": {
   "codemirror_mode": {
    "name": "ipython",
    "version": 3
   },
   "file_extension": ".py",
   "mimetype": "text/x-python",
   "name": "python",
   "nbconvert_exporter": "python",
   "pygments_lexer": "ipython3",
   "version": "3.12.2"
  }
 },
 "nbformat": 4,
 "nbformat_minor": 2
}
