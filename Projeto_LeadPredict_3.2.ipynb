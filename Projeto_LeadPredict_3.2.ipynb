{
 "cells": [
  {
   "cell_type": "markdown",
   "metadata": {},
   "source": [
    "# Qualificação de Prospects: Como Identificar e Focar nos Clientes Certos"
   ]
  },
  {
   "cell_type": "markdown",
   "metadata": {},
   "source": [
    "## Definindo e Compreendendo o Problema a Ser Resolvido"
   ]
  },
  {
   "cell_type": "markdown",
   "metadata": {},
   "source": [
    "#### **Problema a ser Resolvido**\n",
    "Uma empresa X recebe contatos de clientes interessados em seus produtos ou serviços através de diferentes canais (Facebook, Google Ads, Instagram, LinkedIn, entre outros). No entanto, nem todos os clientes que entram em contato realmente fecham um contrato. Atualmente, os atendentes dedicam tempo a todos os prospects de maneira indiscriminada, sem uma estratégia baseada em dados. Isso gera desperdício de recursos e tempo, impactando negativamente a eficiência do setor comercial.\n",
    "\n",
    "O desafio é identificar padrões nos dados dos clientes para prever a probabilidade de conversão no momento do primeiro contato. Se a empresa conseguir antecipar quais prospects têm maior probabilidade de fechar contrato, os atendentes poderão priorizar esses contatos e otimizar esforços de venda.\n",
    "\n",
    "#### **Objetivo da Análise**\n",
    "O objetivo deste estudo é desenvolver um modelo de Machine Learning capaz de prever a probabilidade de um cliente fechar contrato com base em características como:\n",
    "\n",
    "- **Fonte do Contato** (de onde veio o lead)\n",
    "- **Nível de Interesse no Produto** (escala de 1 a 5)\n",
    "- **Orçamento Disponível** (capacidade de investimento do cliente)\n",
    "- **Tempo de Resposta** (em minutos, indicando quão rápido ele retornou o contato)\n",
    "- **Experiência no Setor** (tempo de atuação do cliente no segmento relacionado)\n",
    "- **Score de Qualificação** (avaliação do prospect feita pelo atendente)\n",
    "\n",
    "A variável de saída será **\"Fechou_Contrato\"** (1 para clientes que fecharam contrato e 0 para os que não fecharam).\n",
    "\n",
    "Com essa análise, pretendemos:\n",
    "\n",
    "1. **Identificar padrões nos prospects qualificados** para prever se um cliente tem alta ou baixa probabilidade de conversão.\n",
    "2. **Auxiliar a equipe de vendas na tomada de decisão**, garantindo que os esforços sejam direcionados para os clientes com maior potencial de fechamento.\n",
    "3. **Reduzir tempo desperdiçado com leads de baixa qualidade** e melhorar a eficiência operacional.\n",
    "4. **Maximizar a taxa de conversão**, otimizando a alocação dos recursos de atendimento."
   ]
  },
  {
   "cell_type": "markdown",
   "metadata": {},
   "source": [
    "## Etapa 1 - Instalando e Carregando os Pacotes"
   ]
  },
  {
   "cell_type": "code",
   "execution_count": 1,
   "metadata": {},
   "outputs": [],
   "source": [
    "import warnings                                                                                 # Controle de alertas\n",
    "warnings.filterwarnings('ignore')                                                               # Ignora avisos para manter a saída do código mais limpa"
   ]
  },
  {
   "cell_type": "code",
   "execution_count": 2,
   "metadata": {},
   "outputs": [],
   "source": [
    "# Importação das bibliotecas necessárias\n",
    "import matplotlib.pyplot as plt\n",
    "import pickle                                                                                   # Para salvar e carregar modelos treinados\n",
    "import sklearn as sk                                                                            # Biblioteca para aprendizado de máquina\n",
    "import pandas as pd                                                                             # Manipulação de dados em DataFrames\n",
    "import numpy as np                                                                              # Operações matemáticas e manipulação de arrays\n",
    "import seaborn as sns                                                                           # Visualização de dados estatísticos\n",
    "import matplotlib.pyplot as plt                                                                 # Biblioteca para criação de gráficos\n",
    "import xgboost as xgb                                                                           # Implementação do algoritmo XGBoost\n",
    "from xgboost import XGBClassifier                                                               # Classificador baseado em XGBoost\n",
    "from sklearn.linear_model import LogisticRegression                                             # Regressão logística para classificação\n",
    "from sklearn.naive_bayes import GaussianNB                                                      # Classificador Naïve Bayes Gaussiano\n",
    "from sklearn.preprocessing import StandardScaler                                                # Padronização dos dados (média 0, variância 1)\n",
    "from sklearn.model_selection import cross_val_score, GridSearchCV                               # Validação cruzada e busca de hiperparâmetros\n",
    "from sklearn.metrics import roc_auc_score, accuracy_score, precision_score, recall_score, roc_curve  # Métricas de avaliação\n",
    "from sklearn.model_selection import train_test_split\n",
    "# Garante que os gráficos sejam exibidos diretamente no notebook (caso esteja rodando no Jupyter)\n",
    "%matplotlib inline  "
   ]
  },
  {
   "cell_type": "code",
   "execution_count": 3,
   "metadata": {},
   "outputs": [
    {
     "name": "stdout",
     "output_type": "stream",
     "text": [
      "Author: Ricardo de Souza Silva\n",
      "\n"
     ]
    }
   ],
   "source": [
    "%reload_ext watermark\n",
    "%watermark -a \"Ricardo de Souza Silva\""
   ]
  },
  {
   "cell_type": "markdown",
   "metadata": {
    "toc-hr-collapsed": true
   },
   "source": [
    "## Etapa 2 - Compreensão dos Dados\n",
    "\n",
    "\n",
    "Para aprimorar a análise e melhorar a robustez do modelo, geramos um novo conjunto de **1.000 registros de clientes** contendo os atributos mencionados acima. Esses dados simulam uma variedade de cenários e padrões de comportamento de prospects, permitindo uma análise mais precisa e a construção de um modelo preditivo eficiente."
   ]
  },
  {
   "cell_type": "markdown",
   "metadata": {},
   "source": [
    "## Etapa 3 - Carregando os Dados"
   ]
  },
  {
   "cell_type": "code",
   "execution_count": 4,
   "metadata": {},
   "outputs": [],
   "source": [
    "# lista para identificar valores ausentes\n",
    "lista_labels_valores_ausentes = [\"n/a,\", \"na\", \"undefined\"]"
   ]
  },
  {
   "cell_type": "code",
   "execution_count": 5,
   "metadata": {},
   "outputs": [],
   "source": [
    "dataset = pd.read_csv('LeadPredict.csv', na_values=lista_labels_valores_ausentes)"
   ]
  },
  {
   "cell_type": "code",
   "execution_count": 6,
   "metadata": {},
   "outputs": [
    {
     "data": {
      "application/vnd.microsoft.datawrangler.viewer.v0+json": {
       "columns": [
        {
         "name": "index",
         "rawType": "int64",
         "type": "integer"
        },
        {
         "name": "ID_Cliente",
         "rawType": "int64",
         "type": "integer"
        },
        {
         "name": "Fonte_Contato",
         "rawType": "object",
         "type": "string"
        },
        {
         "name": "Interesse_Produto",
         "rawType": "int64",
         "type": "integer"
        },
        {
         "name": "Orçamento_Disponível",
         "rawType": "int64",
         "type": "integer"
        },
        {
         "name": "Tempo_Resposta",
         "rawType": "int64",
         "type": "integer"
        },
        {
         "name": "Experiência_Setor",
         "rawType": "int64",
         "type": "integer"
        },
        {
         "name": "Score_Qualificação",
         "rawType": "int64",
         "type": "integer"
        },
        {
         "name": "Fechou_Contrato",
         "rawType": "int64",
         "type": "integer"
        }
       ],
       "conversionMethod": "pd.DataFrame",
       "ref": "b29259b2-d5b0-4fde-a7d4-2c1fcd018205",
       "rows": [
        [
         "0",
         "1",
         "Instagram",
         "4",
         "7647",
         "1435",
         "1",
         "68",
         "1"
        ],
        [
         "1",
         "2",
         "LinkedIn",
         "5",
         "4951",
         "1224",
         "7",
         "12",
         "0"
        ],
        [
         "2",
         "3",
         "Referência",
         "3",
         "15843",
         "315",
         "11",
         "86",
         "1"
        ],
        [
         "3",
         "4",
         "Referência",
         "5",
         "14135",
         "266",
         "4",
         "57",
         "1"
        ],
        [
         "4",
         "5",
         "Orgânico",
         "5",
         "6459",
         "410",
         "6",
         "49",
         "0"
        ]
       ],
       "shape": {
        "columns": 8,
        "rows": 5
       }
      },
      "text/html": [
       "<div>\n",
       "<style scoped>\n",
       "    .dataframe tbody tr th:only-of-type {\n",
       "        vertical-align: middle;\n",
       "    }\n",
       "\n",
       "    .dataframe tbody tr th {\n",
       "        vertical-align: top;\n",
       "    }\n",
       "\n",
       "    .dataframe thead th {\n",
       "        text-align: right;\n",
       "    }\n",
       "</style>\n",
       "<table border=\"1\" class=\"dataframe\">\n",
       "  <thead>\n",
       "    <tr style=\"text-align: right;\">\n",
       "      <th></th>\n",
       "      <th>ID_Cliente</th>\n",
       "      <th>Fonte_Contato</th>\n",
       "      <th>Interesse_Produto</th>\n",
       "      <th>Orçamento_Disponível</th>\n",
       "      <th>Tempo_Resposta</th>\n",
       "      <th>Experiência_Setor</th>\n",
       "      <th>Score_Qualificação</th>\n",
       "      <th>Fechou_Contrato</th>\n",
       "    </tr>\n",
       "  </thead>\n",
       "  <tbody>\n",
       "    <tr>\n",
       "      <th>0</th>\n",
       "      <td>1</td>\n",
       "      <td>Instagram</td>\n",
       "      <td>4</td>\n",
       "      <td>7647</td>\n",
       "      <td>1435</td>\n",
       "      <td>1</td>\n",
       "      <td>68</td>\n",
       "      <td>1</td>\n",
       "    </tr>\n",
       "    <tr>\n",
       "      <th>1</th>\n",
       "      <td>2</td>\n",
       "      <td>LinkedIn</td>\n",
       "      <td>5</td>\n",
       "      <td>4951</td>\n",
       "      <td>1224</td>\n",
       "      <td>7</td>\n",
       "      <td>12</td>\n",
       "      <td>0</td>\n",
       "    </tr>\n",
       "    <tr>\n",
       "      <th>2</th>\n",
       "      <td>3</td>\n",
       "      <td>Referência</td>\n",
       "      <td>3</td>\n",
       "      <td>15843</td>\n",
       "      <td>315</td>\n",
       "      <td>11</td>\n",
       "      <td>86</td>\n",
       "      <td>1</td>\n",
       "    </tr>\n",
       "    <tr>\n",
       "      <th>3</th>\n",
       "      <td>4</td>\n",
       "      <td>Referência</td>\n",
       "      <td>5</td>\n",
       "      <td>14135</td>\n",
       "      <td>266</td>\n",
       "      <td>4</td>\n",
       "      <td>57</td>\n",
       "      <td>1</td>\n",
       "    </tr>\n",
       "    <tr>\n",
       "      <th>4</th>\n",
       "      <td>5</td>\n",
       "      <td>Orgânico</td>\n",
       "      <td>5</td>\n",
       "      <td>6459</td>\n",
       "      <td>410</td>\n",
       "      <td>6</td>\n",
       "      <td>49</td>\n",
       "      <td>0</td>\n",
       "    </tr>\n",
       "  </tbody>\n",
       "</table>\n",
       "</div>"
      ],
      "text/plain": [
       "   ID_Cliente Fonte_Contato  Interesse_Produto  Orçamento_Disponível  \\\n",
       "0           1     Instagram                  4                  7647   \n",
       "1           2      LinkedIn                  5                  4951   \n",
       "2           3    Referência                  3                 15843   \n",
       "3           4    Referência                  5                 14135   \n",
       "4           5      Orgânico                  5                  6459   \n",
       "\n",
       "   Tempo_Resposta  Experiência_Setor  Score_Qualificação  Fechou_Contrato  \n",
       "0            1435                  1                  68                1  \n",
       "1            1224                  7                  12                0  \n",
       "2             315                 11                  86                1  \n",
       "3             266                  4                  57                1  \n",
       "4             410                  6                  49                0  "
      ]
     },
     "execution_count": 6,
     "metadata": {},
     "output_type": "execute_result"
    }
   ],
   "source": [
    "dataset.head()"
   ]
  },
  {
   "cell_type": "markdown",
   "metadata": {},
   "source": [
    "## Etapa 4 - Análise Exploratória e Definição da Variável Alvo"
   ]
  },
  {
   "cell_type": "code",
   "execution_count": 7,
   "metadata": {},
   "outputs": [
    {
     "data": {
      "text/plain": [
       "Index(['ID_Cliente', 'Fonte_Contato', 'Interesse_Produto',\n",
       "       'Orçamento_Disponível', 'Tempo_Resposta', 'Experiência_Setor',\n",
       "       'Score_Qualificação', 'Fechou_Contrato'],\n",
       "      dtype='object')"
      ]
     },
     "execution_count": 7,
     "metadata": {},
     "output_type": "execute_result"
    }
   ],
   "source": [
    "dataset.columns"
   ]
  },
  {
   "cell_type": "code",
   "execution_count": 8,
   "metadata": {},
   "outputs": [
    {
     "name": "stdout",
     "output_type": "stream",
     "text": [
      "<class 'pandas.core.frame.DataFrame'>\n",
      "RangeIndex: 1000 entries, 0 to 999\n",
      "Data columns (total 8 columns):\n",
      " #   Column                Non-Null Count  Dtype \n",
      "---  ------                --------------  ----- \n",
      " 0   ID_Cliente            1000 non-null   int64 \n",
      " 1   Fonte_Contato         1000 non-null   object\n",
      " 2   Interesse_Produto     1000 non-null   int64 \n",
      " 3   Orçamento_Disponível  1000 non-null   int64 \n",
      " 4   Tempo_Resposta        1000 non-null   int64 \n",
      " 5   Experiência_Setor     1000 non-null   int64 \n",
      " 6   Score_Qualificação    1000 non-null   int64 \n",
      " 7   Fechou_Contrato       1000 non-null   int64 \n",
      "dtypes: int64(7), object(1)\n",
      "memory usage: 62.6+ KB\n"
     ]
    }
   ],
   "source": [
    "dataset.info()"
   ]
  },
  {
   "cell_type": "code",
   "execution_count": 9,
   "metadata": {},
   "outputs": [
    {
     "data": {
      "text/plain": [
       "Fechou_Contrato\n",
       "0    779\n",
       "1    221\n",
       "Name: count, dtype: int64"
      ]
     },
     "execution_count": 9,
     "metadata": {},
     "output_type": "execute_result"
    }
   ],
   "source": [
    "dataset['Fechou_Contrato'].value_counts()"
   ]
  },
  {
   "cell_type": "markdown",
   "metadata": {},
   "source": [
    "**Análise da Conversão de Clientes (Fechamento de Contrato)**\n",
    "\n",
    "Com base nos dados de fechamento de contrato, observamos a seguinte distribuição:\n",
    "\n",
    "- **Não Fecharam Contrato (0)**: 779 clientes (77,9%)  \n",
    "- **Fecharam Contrato (1)**: 221 clientes (22,1%)  \n",
    "\n",
    "**Principais Observações:**\n",
    "1. **A taxa de conversão geral é baixa (22,1%)**, indicando que a maioria dos prospects não avança para o fechamento do contrato. Isso pode estar relacionado a diversos fatores, como falta de qualificação dos leads, falta de alinhamento com a proposta da empresa ou problemas no processo de vendas.\n",
    "\n",
    "2. **Oportunidade de otimização**: Dado que quase 78% dos clientes não convertem, há uma oportunidade significativa para otimizar a abordagem comercial. Isso pode incluir:\n",
    "   - Refinamento da qualificação dos leads antes da abordagem comercial.\n",
    "   - Estratégias mais direcionadas para leads com maior chance de conversão.\n",
    "   - Treinamento dos atendentes para melhorar a taxa de fechamento.\n",
    "\n",
    "3. **Cruzamento com os canais de aquisição**: Seria interessante analisar quais canais geram os clientes mais qualificados. Algumas perguntas que podem direcionar essa análise incluem:\n",
    "   - O LinkedIn, que tem a maior participação de leads, também tem a maior taxa de conversão?\n",
    "   - Referências, que costumam vir de indicações, apresentam uma conversão acima da média?\n",
    "   - Anúncios pagos (Google Ads e Facebook) estão trazendo clientes realmente qualificados ou apenas gerando volume de leads sem conversão?\n",
    "\n",
    "4. **Impacto dos atributos dos clientes**: Além da origem do contato, podemos analisar outras variáveis, como:\n",
    "   - **Orçamento disponível**: Clientes com maior orçamento têm maior probabilidade de fechar contrato?\n",
    "   - **Tempo de resposta**: Leads que respondem mais rápido tendem a converter mais?\n",
    "   - **Score de Qualificação**: O score atribuído pelo atendente é um bom preditor de fechamento?\n"
   ]
  },
  {
   "cell_type": "code",
   "execution_count": 10,
   "metadata": {},
   "outputs": [
    {
     "data": {
      "text/plain": [
       "Fonte_Contato\n",
       "LinkedIn      181\n",
       "Referência    172\n",
       "Instagram     167\n",
       "Orgânico      167\n",
       "Google Ads    160\n",
       "Facebook      153\n",
       "Name: count, dtype: int64"
      ]
     },
     "execution_count": 10,
     "metadata": {},
     "output_type": "execute_result"
    }
   ],
   "source": [
    "dataset['Fonte_Contato'].value_counts()"
   ]
  },
  {
   "cell_type": "code",
   "execution_count": 11,
   "metadata": {},
   "outputs": [
    {
     "data": {
      "image/png": "[encoded data removed]",
      "text/plain": [
       "<Figure size 800x600 with 1 Axes>"
      ]
     },
     "metadata": {},
     "output_type": "display_data"
    }
   ],
   "source": [
    "# Define o tamanho da figura do gráfico (largura=10, altura=8)\n",
    "plt.figure(figsize=(8, 6))\n",
    "\n",
    "# Conta o número de ocorrências de cada categoria na coluna \"Fonte_Contato\"\n",
    "# Isso cria uma Série pandas com os valores únicos e suas contagens\n",
    "grafico = dataset['Fonte_Contato'].value_counts()\n",
    "\n",
    "# Cria um gráfico de barras usando os dados da contagem\n",
    "# \"kind='bar'\" especifica que queremos um gráfico de barras\n",
    "# \"color='royalblue'\" define a cor das barras para melhorar a visualização\n",
    "ax = grafico.plot(kind='bar', color='royalblue')\n",
    "\n",
    "# Define o título do gráfico\n",
    "plt.title('Total de Prospects por Tipo de Contato')\n",
    "# Define o rótulo do eixo X (categorias da \"Fonte_Contato\")\n",
    "plt.xlabel(\"Geradores de Contatos\")\n",
    "# Define o rótulo do eixo Y (quantidade de contatos)\n",
    "plt.ylabel(\"Quantidade de Contatos\")\n",
    "# Rotaciona os rótulos do eixo X em 70 graus para melhor legibilidade\n",
    "plt.xticks(rotation=70)\n",
    "\n",
    "# Adiciona rótulos numéricos no topo de cada barra para mostrar os valores\n",
    "for p in ax.patches:  # Itera sobre todas as barras do gráfico\n",
    "    ax.annotate(\n",
    "        f\"{p.get_height():.0f}\",  # Obtém a altura da barra e exibe como número inteiro\n",
    "        (p.get_x() + p.get_width() / 2., p.get_height()),  # Posiciona o texto no centro da barra\n",
    "        ha='center',  # Alinha o texto horizontalmente no centro da barra\n",
    "        va='bottom',  # Alinha o texto verticalmente acima da barra\n",
    "        fontsize=10,  # Define o tamanho da fonte do texto\n",
    "        xytext=(0, 5),  # Move o texto 5 pontos acima da barra para evitar sobreposição\n",
    "        textcoords='offset points'  # Usa coordenadas relativas para melhor posicionamento\n",
    "    )\n",
    "\n",
    "# Exibe o gráfico na tela\n",
    "plt.show()"
   ]
  },
  {
   "cell_type": "markdown",
   "metadata": {},
   "source": [
    "**Análise da Participação dos Canais de Contato**\n",
    "\n",
    "Ao analisar a distribuição dos contatos recebidos pela empresa, podemos observar a participação percentual de cada canal na geração de prospects:\n",
    "\n",
    "- **LinkedIn**: 18,1%  \n",
    "- **Referência**: 17,2%  \n",
    "- **Instagram**: 16,7%  \n",
    "- **Orgânico**: 16,7%  \n",
    "- **Google Ads**: 16,0%  \n",
    "- **Facebook**: 15,3%  \n",
    "\n",
    "**Principais Observações:**\n",
    "1. **LinkedIn lidera a captação de leads**, representando a maior fatia (18,1%). Isso pode indicar que os clientes que vêm dessa plataforma têm um perfil mais qualificado para o produto ou serviço da empresa.\n",
    "   \n",
    "2. **Referência também tem um peso significativo (17,2%)**, o que pode significar que indicações de clientes satisfeitos ou parceiros de negócio são uma fonte relevante para a empresa. Isso sugere a importância de manter um bom relacionamento com clientes atuais e incentivar programas de indicação.\n",
    "\n",
    "3. **Instagram e tráfego orgânico têm um desempenho igual (16,7%)**, demonstrando a relevância das redes sociais e do SEO para atrair novos leads.\n",
    "\n",
    "4. **Google Ads (16,0%) e Facebook (15,3%)** também desempenham um papel considerável na captação de clientes, mostrando que anúncios pagos são uma estratégia importante para a empresa.\n",
    "\n",
    "**Próximos Passos:**\n",
    "- **Analisar a taxa de conversão por canal**: Embora LinkedIn gere mais leads, será que também converte mais clientes em contratos? Identificar a relação entre origem do contato e taxa de fechamento ajudará na alocação estratégica de investimentos em marketing.\n",
    "- **Entender o perfil de cada canal**: Diferentes canais podem atrair clientes com características distintas. Vale a pena cruzar os dados com atributos como orçamento disponível e tempo de resposta para verificar quais canais geram os leads mais qualificados.\n",
    "- **Avaliar o custo-benefício**: Campanhas pagas (Google Ads, Facebook, LinkedIn) precisam ser analisadas sob a ótica do retorno sobre investimento (ROI). Se um canal tem um alto custo por lead, mas baixa conversão, pode não valer a pena manter o investimento."
   ]
  },
  {
   "cell_type": "code",
   "execution_count": 12,
   "metadata": {},
   "outputs": [
    {
     "data": {
      "text/plain": [
       "Fonte_Contato  Fechou_Contrato\n",
       "Facebook       0                  115\n",
       "               1                   38\n",
       "Google Ads     0                  130\n",
       "               1                   30\n",
       "Instagram      0                  130\n",
       "               1                   37\n",
       "LinkedIn       0                  144\n",
       "               1                   37\n",
       "Orgânico       0                  120\n",
       "               1                   47\n",
       "Referência     0                  140\n",
       "               1                   32\n",
       "Name: count, dtype: int64"
      ]
     },
     "execution_count": 12,
     "metadata": {},
     "output_type": "execute_result"
    }
   ],
   "source": [
    "dados_agrupados = dataset.groupby('Fonte_Contato')['Fechou_Contrato'].value_counts()\n",
    "dados_agrupados"
   ]
  },
  {
   "cell_type": "markdown",
   "metadata": {},
   "source": [
    "**Análise da Conversão por Fonte de Contato**\n",
    "\n",
    "Os dados fornecidos mostram a quantidade de clientes que fecharam ou não contrato, segmentados por canal de aquisição. Vamos analisar os principais insights:\n",
    "\n",
    "**Taxa de Conversão por Fonte de Contato:**\n",
    "- **Facebook**: 24,8% (38 fechamentos em 153 contatos)\n",
    "- **Google Ads**: 18,7% (30 fechamentos em 160 contatos)\n",
    "- **Instagram**: 22,2% (37 fechamentos em 167 contatos)\n",
    "- **LinkedIn**: 20,4% (37 fechamentos em 181 contatos)\n",
    "- **Orgânico**: 28,2% (47 fechamentos em 167 contatos)\n",
    "- **Referência**: 18,6% (32 fechamentos em 172 contatos)\n",
    "\n",
    "**Principais Observações:**\n",
    "1. **O tráfego orgânico tem a maior taxa de conversão (28,2%)**, indicando que clientes que chegam por busca espontânea já têm um maior nível de interesse e qualificação. Isso sugere que investir em estratégias de SEO pode gerar leads mais propensos a fechar contrato.\n",
    "\n",
    "2. **Facebook tem uma conversão relativamente alta (24,8%)**, o que pode indicar que a estratégia de marketing nessa plataforma está atingindo o público certo.\n",
    "\n",
    "3. **LinkedIn tem o maior volume de contatos, mas não lidera em conversão (20,4%)**, o que pode indicar que nem todos os leads dessa plataforma são qualificados. Pode ser necessário um filtro mais criterioso para melhorar a qualidade dos contatos vindos de lá.\n",
    "\n",
    "4. **Google Ads e Referência têm as menores taxas de conversão (18,7% e 18,6%)**, o que pode indicar que os leads desses canais precisam de um processo de qualificação mais rigoroso antes de serem abordados pelos atendentes.\n",
    "\n",
    "**Oportunidades para Otimização:**\n",
    "- **Reforçar estratégias de SEO**: Como o tráfego orgânico gera a maior taxa de conversão, vale a pena investir mais em conteúdo e otimização para atrair leads qualificados.\n",
    "- **Aprimorar filtros nos anúncios pagos**: Como Google Ads e Facebook geram muitos leads, mas com conversões variadas, ajustar os critérios de segmentação pode melhorar os resultados.\n",
    "- **Focar em estratégias de retenção e indicações**: A taxa de conversão de referências poderia ser maior, pois clientes indicados geralmente já conhecem a empresa. Melhorar a experiência dos clientes pode ajudar a aumentar essa conversão."
   ]
  },
  {
   "cell_type": "markdown",
   "metadata": {},
   "source": [
    "### Calculando a Prevalência da Classe Positiva"
   ]
  },
  {
   "cell_type": "markdown",
   "metadata": {},
   "source": [
    "**A prevalência da classe positiva** é a proporção de ocorrências do evento de interesse dentro de um conjunto de dados. No contexto de previsão de conversão de clientes, ela indica **quantos clientes fecharam contrato em relação ao total de prospects**.  \n",
    "\n",
    "#### **Para que Serve?**  \n",
    "- **Avaliação do Desequilíbrio de Classes**: Se a classe positiva for muito menor que a negativa, pode ser necessário balancear os dados para evitar viés no modelo preditivo.  \n",
    "- **Métrica para Modelagem**: Em algoritmos de Machine Learning, uma classe muito rara pode exigir técnicas como reamostragem (oversampling/undersampling) ou ajuste de pesos.  \n",
    "- **Tomada de Decisão Estratégica**: Se a taxa de conversão for muito baixa, estratégias de marketing e atendimento podem ser ajustadas para melhorar o fechamento de contratos.  "
   ]
  },
  {
   "cell_type": "markdown",
   "metadata": {},
   "source": [
    "### Prevalência da Classe Positiva\n",
    "\n",
    "A fórmula para calcular a **prevalência da classe positiva** é:\n",
    "\n",
    "$$\n",
    "\\text{Prevalência} = \\frac{\\text{Número de ocorrências da classe positiva}}{\\text{Total de observações}} \\times 100\n",
    "$$\n",
    "\n",
    "Onde:\n",
    "- **Classe positiva**: O evento de interesse (exemplo: clientes que fecharam contrato).\n",
    "- **Total de observações**: O número total de registros no conjunto de dados.\n",
    "\n",
    "Essa fórmula expressa a prevalência em **percentual (%)**, indicando a proporção da classe positiva em relação ao total.\n",
    "\n"
   ]
  },
  {
   "cell_type": "code",
   "execution_count": 13,
   "metadata": {},
   "outputs": [],
   "source": [
    "# Função para calcular a prevalência da classe positiva (label = 1)\n",
    "def calcula_prevalencia(y_atual):\n",
    "    \"\"\"\n",
    "    Calcula a prevalência de casos positivos em um conjunto de dados binário.\n",
    "    Parâmetros:\n",
    "    y_atual (list ou array): Lista ou array contendo valores binários (0 e 1),\n",
    "                             onde 1 representa um caso positivo.\n",
    "    Retorno:\n",
    "    float: A proporção de casos positivos em relação ao total de elementos.\n",
    "    \"\"\"    \n",
    "    # Soma os valores de y_atual (onde 1 representa casos positivos) \n",
    "    # e divide pelo total de elementos para obter a proporção\n",
    "    return sum(y_atual) / len(y_atual)"
   ]
  },
  {
   "cell_type": "code",
   "execution_count": 14,
   "metadata": {},
   "outputs": [
    {
     "name": "stdout",
     "output_type": "stream",
     "text": [
      "Prevalência da classe positiva: 0.221\n"
     ]
    }
   ],
   "source": [
    "# Exibe a prevalência da classe positiva formatada com 3 casas decimais\n",
    "print(\"Prevalência da classe positiva: %.3f\" % calcula_prevalencia(dataset[\"Fechou_Contrato\"].values))"
   ]
  },
  {
   "cell_type": "markdown",
   "metadata": {},
   "source": [
    "A **prevalência da classe positiva** de **0.221** significa que, dentro do conjunto de dados, aproximadamente **22,1%** dos exemplos pertencem à classe positiva.  \n",
    "\n",
    "Como estamos lidando com um problema de previsão, como identificar clientes que fecharão um contrato, isso indica que **22,1% dos casos são positivos (clientes que fecham contrato), enquanto os outros 77,9% são negativos (clientes que não fecham contrato).**  \n",
    "\n",
    "Esse valor pode ser útil para avaliar o balanceamento do dataset. Como a prevalência é muito baixa, será necessário lidar com um problema de **desbalanceamento de classes**, aplicando técnicas como **reestruturação dos dados (undersampling/oversampling), ajuste de pesos ou uso de métricas adequadas (AUC-ROC, F1-score)**."
   ]
  },
  {
   "cell_type": "markdown",
   "metadata": {},
   "source": [
    "## Etapa 5 - Engenharia de Atributos"
   ]
  },
  {
   "cell_type": "markdown",
   "metadata": {},
   "source": [
    "\n",
    "\n",
    "Efetuaremos a binarização devido à necessidade de converter a variável **Fonte_Contato** para um formato numérico, garantindo que os modelos de aprendizado de máquina consigam interpretá-la corretamente.  \n",
    "\n",
    "Além disso, a binarização antes da divisão dos dados evita **fuga de informações (data leakage)** e assegura que todas as categorias estejam presentes nos conjuntos de treino, validação e teste, mantendo a **consistência estrutural** e melhorando a **generalização do modelo**.  \n",
    "\n",
    "A seguir, realizaremos esse processo para preparar os dados adequadamente.\n"
   ]
  },
  {
   "cell_type": "code",
   "execution_count": 15,
   "metadata": {},
   "outputs": [
    {
     "data": {
      "application/vnd.microsoft.datawrangler.viewer.v0+json": {
       "columns": [
        {
         "name": "index",
         "rawType": "int64",
         "type": "integer"
        },
        {
         "name": "Facebook",
         "rawType": "int32",
         "type": "integer"
        },
        {
         "name": "Google Ads",
         "rawType": "int32",
         "type": "integer"
        },
        {
         "name": "Instagram",
         "rawType": "int32",
         "type": "integer"
        },
        {
         "name": "LinkedIn",
         "rawType": "int32",
         "type": "integer"
        },
        {
         "name": "Orgânico",
         "rawType": "int32",
         "type": "integer"
        },
        {
         "name": "Referência",
         "rawType": "int32",
         "type": "integer"
        }
       ],
       "conversionMethod": "pd.DataFrame",
       "ref": "966cca49-4b19-49bc-80fd-c352e880bd47",
       "rows": [
        [
         "0",
         "0",
         "0",
         "1",
         "0",
         "0",
         "0"
        ],
        [
         "1",
         "0",
         "0",
         "0",
         "1",
         "0",
         "0"
        ],
        [
         "2",
         "0",
         "0",
         "0",
         "0",
         "0",
         "1"
        ],
        [
         "3",
         "0",
         "0",
         "0",
         "0",
         "0",
         "1"
        ],
        [
         "4",
         "0",
         "0",
         "0",
         "0",
         "1",
         "0"
        ],
        [
         "5",
         "0",
         "0",
         "0",
         "0",
         "0",
         "1"
        ],
        [
         "6",
         "0",
         "1",
         "0",
         "0",
         "0",
         "0"
        ],
        [
         "7",
         "0",
         "0",
         "0",
         "0",
         "0",
         "1"
        ],
        [
         "8",
         "0",
         "0",
         "1",
         "0",
         "0",
         "0"
        ],
        [
         "9",
         "0",
         "0",
         "0",
         "1",
         "0",
         "0"
        ],
        [
         "10",
         "0",
         "0",
         "0",
         "1",
         "0",
         "0"
        ],
        [
         "11",
         "0",
         "0",
         "0",
         "0",
         "0",
         "1"
        ],
        [
         "12",
         "1",
         "0",
         "0",
         "0",
         "0",
         "0"
        ],
        [
         "13",
         "1",
         "0",
         "0",
         "0",
         "0",
         "0"
        ],
        [
         "14",
         "0",
         "1",
         "0",
         "0",
         "0",
         "0"
        ],
        [
         "15",
         "1",
         "0",
         "0",
         "0",
         "0",
         "0"
        ],
        [
         "16",
         "0",
         "1",
         "0",
         "0",
         "0",
         "0"
        ],
        [
         "17",
         "0",
         "0",
         "0",
         "0",
         "1",
         "0"
        ],
        [
         "18",
         "0",
         "1",
         "0",
         "0",
         "0",
         "0"
        ],
        [
         "19",
         "1",
         "0",
         "0",
         "0",
         "0",
         "0"
        ],
        [
         "20",
         "0",
         "0",
         "0",
         "0",
         "0",
         "1"
        ],
        [
         "21",
         "0",
         "0",
         "0",
         "0",
         "1",
         "0"
        ],
        [
         "22",
         "1",
         "0",
         "0",
         "0",
         "0",
         "0"
        ],
        [
         "23",
         "0",
         "1",
         "0",
         "0",
         "0",
         "0"
        ],
        [
         "24",
         "0",
         "0",
         "1",
         "0",
         "0",
         "0"
        ],
        [
         "25",
         "0",
         "0",
         "0",
         "1",
         "0",
         "0"
        ],
        [
         "26",
         "1",
         "0",
         "0",
         "0",
         "0",
         "0"
        ],
        [
         "27",
         "0",
         "1",
         "0",
         "0",
         "0",
         "0"
        ],
        [
         "28",
         "0",
         "0",
         "0",
         "0",
         "1",
         "0"
        ],
        [
         "29",
         "1",
         "0",
         "0",
         "0",
         "0",
         "0"
        ],
        [
         "30",
         "1",
         "0",
         "0",
         "0",
         "0",
         "0"
        ],
        [
         "31",
         "0",
         "0",
         "0",
         "1",
         "0",
         "0"
        ],
        [
         "32",
         "0",
         "1",
         "0",
         "0",
         "0",
         "0"
        ],
        [
         "33",
         "0",
         "0",
         "1",
         "0",
         "0",
         "0"
        ],
        [
         "34",
         "0",
         "0",
         "0",
         "0",
         "1",
         "0"
        ],
        [
         "35",
         "0",
         "1",
         "0",
         "0",
         "0",
         "0"
        ],
        [
         "36",
         "0",
         "0",
         "0",
         "0",
         "1",
         "0"
        ],
        [
         "37",
         "1",
         "0",
         "0",
         "0",
         "0",
         "0"
        ],
        [
         "38",
         "0",
         "0",
         "0",
         "1",
         "0",
         "0"
        ],
        [
         "39",
         "0",
         "0",
         "0",
         "1",
         "0",
         "0"
        ],
        [
         "40",
         "0",
         "0",
         "0",
         "0",
         "0",
         "1"
        ],
        [
         "41",
         "0",
         "0",
         "1",
         "0",
         "0",
         "0"
        ],
        [
         "42",
         "0",
         "0",
         "0",
         "1",
         "0",
         "0"
        ],
        [
         "43",
         "1",
         "0",
         "0",
         "0",
         "0",
         "0"
        ],
        [
         "44",
         "0",
         "0",
         "1",
         "0",
         "0",
         "0"
        ],
        [
         "45",
         "0",
         "1",
         "0",
         "0",
         "0",
         "0"
        ],
        [
         "46",
         "0",
         "0",
         "0",
         "1",
         "0",
         "0"
        ],
        [
         "47",
         "0",
         "0",
         "1",
         "0",
         "0",
         "0"
        ],
        [
         "48",
         "1",
         "0",
         "0",
         "0",
         "0",
         "0"
        ],
        [
         "49",
         "0",
         "0",
         "0",
         "0",
         "0",
         "1"
        ]
       ],
       "shape": {
        "columns": 6,
        "rows": 1000
       }
      },
      "text/html": [
       "<div>\n",
       "<style scoped>\n",
       "    .dataframe tbody tr th:only-of-type {\n",
       "        vertical-align: middle;\n",
       "    }\n",
       "\n",
       "    .dataframe tbody tr th {\n",
       "        vertical-align: top;\n",
       "    }\n",
       "\n",
       "    .dataframe thead th {\n",
       "        text-align: right;\n",
       "    }\n",
       "</style>\n",
       "<table border=\"1\" class=\"dataframe\">\n",
       "  <thead>\n",
       "    <tr style=\"text-align: right;\">\n",
       "      <th></th>\n",
       "      <th>Facebook</th>\n",
       "      <th>Google Ads</th>\n",
       "      <th>Instagram</th>\n",
       "      <th>LinkedIn</th>\n",
       "      <th>Orgânico</th>\n",
       "      <th>Referência</th>\n",
       "    </tr>\n",
       "  </thead>\n",
       "  <tbody>\n",
       "    <tr>\n",
       "      <th>0</th>\n",
       "      <td>0</td>\n",
       "      <td>0</td>\n",
       "      <td>1</td>\n",
       "      <td>0</td>\n",
       "      <td>0</td>\n",
       "      <td>0</td>\n",
       "    </tr>\n",
       "    <tr>\n",
       "      <th>1</th>\n",
       "      <td>0</td>\n",
       "      <td>0</td>\n",
       "      <td>0</td>\n",
       "      <td>1</td>\n",
       "      <td>0</td>\n",
       "      <td>0</td>\n",
       "    </tr>\n",
       "    <tr>\n",
       "      <th>2</th>\n",
       "      <td>0</td>\n",
       "      <td>0</td>\n",
       "      <td>0</td>\n",
       "      <td>0</td>\n",
       "      <td>0</td>\n",
       "      <td>1</td>\n",
       "    </tr>\n",
       "    <tr>\n",
       "      <th>3</th>\n",
       "      <td>0</td>\n",
       "      <td>0</td>\n",
       "      <td>0</td>\n",
       "      <td>0</td>\n",
       "      <td>0</td>\n",
       "      <td>1</td>\n",
       "    </tr>\n",
       "    <tr>\n",
       "      <th>4</th>\n",
       "      <td>0</td>\n",
       "      <td>0</td>\n",
       "      <td>0</td>\n",
       "      <td>0</td>\n",
       "      <td>1</td>\n",
       "      <td>0</td>\n",
       "    </tr>\n",
       "    <tr>\n",
       "      <th>...</th>\n",
       "      <td>...</td>\n",
       "      <td>...</td>\n",
       "      <td>...</td>\n",
       "      <td>...</td>\n",
       "      <td>...</td>\n",
       "      <td>...</td>\n",
       "    </tr>\n",
       "    <tr>\n",
       "      <th>995</th>\n",
       "      <td>0</td>\n",
       "      <td>1</td>\n",
       "      <td>0</td>\n",
       "      <td>0</td>\n",
       "      <td>0</td>\n",
       "      <td>0</td>\n",
       "    </tr>\n",
       "    <tr>\n",
       "      <th>996</th>\n",
       "      <td>0</td>\n",
       "      <td>0</td>\n",
       "      <td>0</td>\n",
       "      <td>0</td>\n",
       "      <td>0</td>\n",
       "      <td>1</td>\n",
       "    </tr>\n",
       "    <tr>\n",
       "      <th>997</th>\n",
       "      <td>0</td>\n",
       "      <td>0</td>\n",
       "      <td>0</td>\n",
       "      <td>0</td>\n",
       "      <td>0</td>\n",
       "      <td>1</td>\n",
       "    </tr>\n",
       "    <tr>\n",
       "      <th>998</th>\n",
       "      <td>0</td>\n",
       "      <td>0</td>\n",
       "      <td>0</td>\n",
       "      <td>1</td>\n",
       "      <td>0</td>\n",
       "      <td>0</td>\n",
       "    </tr>\n",
       "    <tr>\n",
       "      <th>999</th>\n",
       "      <td>0</td>\n",
       "      <td>0</td>\n",
       "      <td>1</td>\n",
       "      <td>0</td>\n",
       "      <td>0</td>\n",
       "      <td>0</td>\n",
       "    </tr>\n",
       "  </tbody>\n",
       "</table>\n",
       "<p>1000 rows × 6 columns</p>\n",
       "</div>"
      ],
      "text/plain": [
       "     Facebook  Google Ads  Instagram  LinkedIn  Orgânico  Referência\n",
       "0           0           0          1         0         0           0\n",
       "1           0           0          0         1         0           0\n",
       "2           0           0          0         0         0           1\n",
       "3           0           0          0         0         0           1\n",
       "4           0           0          0         0         1           0\n",
       "..        ...         ...        ...       ...       ...         ...\n",
       "995         0           1          0         0         0           0\n",
       "996         0           0          0         0         0           1\n",
       "997         0           0          0         0         0           1\n",
       "998         0           0          0         1         0           0\n",
       "999         0           0          1         0         0           0\n",
       "\n",
       "[1000 rows x 6 columns]"
      ]
     },
     "execution_count": 15,
     "metadata": {},
     "output_type": "execute_result"
    }
   ],
   "source": [
    "# Criação de variáveis dummies para a coluna 'Fonte_Contato'\n",
    "dados_dummie_Fonte_Contato = pd.get_dummies(dataset.Fonte_Contato)   # Gera variáveis dummies\n",
    "dados_dummie_Fonte_Contato = dados_dummie_Fonte_Contato.astype(int)  # Converte os valores para inteiros\n",
    "dados_dummie_Fonte_Contato                                           # Exibe o DataFrame resultante"
   ]
  },
  {
   "cell_type": "markdown",
   "metadata": {},
   "source": [
    "Justificativa para a Binarização Antes da Divisão dos Dados\n",
    "\n",
    "A binarização das variáveis categóricas antes da separação dos conjuntos de **treino, validação e teste** é uma etapa fundamental no processamento de dados para aprendizado de máquina. Essa prática garante:\n",
    "\n",
    "**Evitar Data Leakage**  \n",
    "Transformar os dados antes da divisão impede que informações do conjunto de validação ou teste influenciem a codificação, mantendo a integridade do modelo.  \n",
    "\n",
    "Consistência Estrutural**  \n",
    "Se binarizarmos após a separação, categorias presentes no treino podem estar ausentes no teste, prejudicando a generalização do modelo.  \n",
    "\n",
    "**Compatibilidade com Modelos**  \n",
    "Algoritmos de machine learning não lidam bem com variáveis categóricas, exigindo conversão para um formato numérico (como One-Hot Encoding ou Label Encoding) antes do treinamento.  \n",
    "\n",
    "**Conclusão**: Binarizar os dados antes da divisão assegura um modelo **mais robusto, generalizável e livre de vazamento de informações**."
   ]
  },
  {
   "cell_type": "code",
   "execution_count": 16,
   "metadata": {},
   "outputs": [
    {
     "data": {
      "application/vnd.microsoft.datawrangler.viewer.v0+json": {
       "columns": [
        {
         "name": "index",
         "rawType": "int64",
         "type": "integer"
        },
        {
         "name": "Facebook",
         "rawType": "int32",
         "type": "integer"
        },
        {
         "name": "Google Ads",
         "rawType": "int32",
         "type": "integer"
        },
        {
         "name": "Instagram",
         "rawType": "int32",
         "type": "integer"
        },
        {
         "name": "LinkedIn",
         "rawType": "int32",
         "type": "integer"
        },
        {
         "name": "Orgânico",
         "rawType": "int32",
         "type": "integer"
        },
        {
         "name": "Referência",
         "rawType": "int32",
         "type": "integer"
        },
        {
         "name": "ID_Cliente",
         "rawType": "int64",
         "type": "integer"
        },
        {
         "name": "Fonte_Contato",
         "rawType": "object",
         "type": "string"
        },
        {
         "name": "Interesse_Produto",
         "rawType": "int64",
         "type": "integer"
        },
        {
         "name": "Orçamento_Disponível",
         "rawType": "int64",
         "type": "integer"
        },
        {
         "name": "Tempo_Resposta",
         "rawType": "int64",
         "type": "integer"
        },
        {
         "name": "Experiência_Setor",
         "rawType": "int64",
         "type": "integer"
        },
        {
         "name": "Score_Qualificação",
         "rawType": "int64",
         "type": "integer"
        },
        {
         "name": "Fechou_Contrato",
         "rawType": "int64",
         "type": "integer"
        }
       ],
       "conversionMethod": "pd.DataFrame",
       "ref": "073ddfb5-c4b4-4693-9160-0e10d98266d3",
       "rows": [
        [
         "0",
         "0",
         "0",
         "1",
         "0",
         "0",
         "0",
         "1",
         "Instagram",
         "4",
         "7647",
         "1435",
         "1",
         "68",
         "1"
        ],
        [
         "1",
         "0",
         "0",
         "0",
         "1",
         "0",
         "0",
         "2",
         "LinkedIn",
         "5",
         "4951",
         "1224",
         "7",
         "12",
         "0"
        ],
        [
         "2",
         "0",
         "0",
         "0",
         "0",
         "0",
         "1",
         "3",
         "Referência",
         "3",
         "15843",
         "315",
         "11",
         "86",
         "1"
        ],
        [
         "3",
         "0",
         "0",
         "0",
         "0",
         "0",
         "1",
         "4",
         "Referência",
         "5",
         "14135",
         "266",
         "4",
         "57",
         "1"
        ],
        [
         "4",
         "0",
         "0",
         "0",
         "0",
         "1",
         "0",
         "5",
         "Orgânico",
         "5",
         "6459",
         "410",
         "6",
         "49",
         "0"
        ],
        [
         "5",
         "0",
         "0",
         "0",
         "0",
         "0",
         "1",
         "6",
         "Referência",
         "2",
         "626",
         "147",
         "3",
         "29",
         "0"
        ],
        [
         "6",
         "0",
         "1",
         "0",
         "0",
         "0",
         "0",
         "7",
         "Google Ads",
         "3",
         "9295",
         "346",
         "4",
         "61",
         "1"
        ],
        [
         "7",
         "0",
         "0",
         "0",
         "0",
         "0",
         "1",
         "8",
         "Referência",
         "3",
         "12141",
         "1344",
         "7",
         "100",
         "1"
        ],
        [
         "8",
         "0",
         "0",
         "1",
         "0",
         "0",
         "0",
         "9",
         "Instagram",
         "3",
         "7696",
         "1129",
         "0",
         "24",
         "0"
        ],
        [
         "9",
         "0",
         "0",
         "0",
         "1",
         "0",
         "0",
         "10",
         "LinkedIn",
         "5",
         "12059",
         "248",
         "0",
         "26",
         "0"
        ],
        [
         "10",
         "0",
         "0",
         "0",
         "1",
         "0",
         "0",
         "11",
         "LinkedIn",
         "4",
         "3868",
         "494",
         "14",
         "50",
         "0"
        ],
        [
         "11",
         "0",
         "0",
         "0",
         "0",
         "0",
         "1",
         "12",
         "Referência",
         "3",
         "4297",
         "16",
         "3",
         "77",
         "0"
        ],
        [
         "12",
         "1",
         "0",
         "0",
         "0",
         "0",
         "0",
         "13",
         "Facebook",
         "5",
         "15614",
         "1267",
         "2",
         "56",
         "1"
        ],
        [
         "13",
         "1",
         "0",
         "0",
         "0",
         "0",
         "0",
         "14",
         "Facebook",
         "2",
         "14218",
         "565",
         "12",
         "46",
         "0"
        ],
        [
         "14",
         "0",
         "1",
         "0",
         "0",
         "0",
         "0",
         "15",
         "Google Ads",
         "4",
         "2292",
         "46",
         "9",
         "99",
         "0"
        ],
        [
         "15",
         "1",
         "0",
         "0",
         "0",
         "0",
         "0",
         "16",
         "Facebook",
         "2",
         "11553",
         "682",
         "11",
         "38",
         "0"
        ],
        [
         "16",
         "0",
         "1",
         "0",
         "0",
         "0",
         "0",
         "17",
         "Google Ads",
         "4",
         "3976",
         "598",
         "1",
         "15",
         "0"
        ],
        [
         "17",
         "0",
         "0",
         "0",
         "0",
         "1",
         "0",
         "18",
         "Orgânico",
         "5",
         "3917",
         "1186",
         "11",
         "21",
         "0"
        ],
        [
         "18",
         "0",
         "1",
         "0",
         "0",
         "0",
         "0",
         "19",
         "Google Ads",
         "1",
         "2145",
         "1244",
         "2",
         "84",
         "0"
        ],
        [
         "19",
         "1",
         "0",
         "0",
         "0",
         "0",
         "0",
         "20",
         "Facebook",
         "4",
         "15255",
         "138",
         "10",
         "53",
         "1"
        ],
        [
         "20",
         "0",
         "0",
         "0",
         "0",
         "0",
         "1",
         "21",
         "Referência",
         "2",
         "19914",
         "1095",
         "14",
         "20",
         "0"
        ],
        [
         "21",
         "0",
         "0",
         "0",
         "0",
         "1",
         "0",
         "22",
         "Orgânico",
         "5",
         "19756",
         "1035",
         "14",
         "71",
         "1"
        ],
        [
         "22",
         "1",
         "0",
         "0",
         "0",
         "0",
         "0",
         "23",
         "Facebook",
         "4",
         "3572",
         "952",
         "10",
         "15",
         "0"
        ],
        [
         "23",
         "0",
         "1",
         "0",
         "0",
         "0",
         "0",
         "24",
         "Google Ads",
         "1",
         "2354",
         "77",
         "13",
         "58",
         "0"
        ],
        [
         "24",
         "0",
         "0",
         "1",
         "0",
         "0",
         "0",
         "25",
         "Instagram",
         "1",
         "5162",
         "403",
         "10",
         "30",
         "0"
        ],
        [
         "25",
         "0",
         "0",
         "0",
         "1",
         "0",
         "0",
         "26",
         "LinkedIn",
         "3",
         "7014",
         "1433",
         "0",
         "41",
         "0"
        ],
        [
         "26",
         "1",
         "0",
         "0",
         "0",
         "0",
         "0",
         "27",
         "Facebook",
         "3",
         "3208",
         "582",
         "0",
         "73",
         "0"
        ],
        [
         "27",
         "0",
         "1",
         "0",
         "0",
         "0",
         "0",
         "28",
         "Google Ads",
         "2",
         "12194",
         "863",
         "5",
         "31",
         "0"
        ],
        [
         "28",
         "0",
         "0",
         "0",
         "0",
         "1",
         "0",
         "29",
         "Orgânico",
         "4",
         "10024",
         "134",
         "4",
         "58",
         "1"
        ],
        [
         "29",
         "1",
         "0",
         "0",
         "0",
         "0",
         "0",
         "30",
         "Facebook",
         "4",
         "6956",
         "935",
         "7",
         "33",
         "0"
        ],
        [
         "30",
         "1",
         "0",
         "0",
         "0",
         "0",
         "0",
         "31",
         "Facebook",
         "3",
         "4712",
         "1234",
         "1",
         "8",
         "0"
        ],
        [
         "31",
         "0",
         "0",
         "0",
         "1",
         "0",
         "0",
         "32",
         "LinkedIn",
         "4",
         "13724",
         "270",
         "3",
         "80",
         "1"
        ],
        [
         "32",
         "0",
         "1",
         "0",
         "0",
         "0",
         "0",
         "33",
         "Google Ads",
         "4",
         "8470",
         "797",
         "7",
         "10",
         "0"
        ],
        [
         "33",
         "0",
         "0",
         "1",
         "0",
         "0",
         "0",
         "34",
         "Instagram",
         "1",
         "17420",
         "257",
         "11",
         "95",
         "0"
        ],
        [
         "34",
         "0",
         "0",
         "0",
         "0",
         "1",
         "0",
         "35",
         "Orgânico",
         "3",
         "2125",
         "826",
         "5",
         "9",
         "0"
        ],
        [
         "35",
         "0",
         "1",
         "0",
         "0",
         "0",
         "0",
         "36",
         "Google Ads",
         "5",
         "10814",
         "1317",
         "0",
         "85",
         "1"
        ],
        [
         "36",
         "0",
         "0",
         "0",
         "0",
         "1",
         "0",
         "37",
         "Orgânico",
         "3",
         "8473",
         "168",
         "14",
         "16",
         "0"
        ],
        [
         "37",
         "1",
         "0",
         "0",
         "0",
         "0",
         "0",
         "38",
         "Facebook",
         "5",
         "9077",
         "99",
         "3",
         "67",
         "1"
        ],
        [
         "38",
         "0",
         "0",
         "0",
         "1",
         "0",
         "0",
         "39",
         "LinkedIn",
         "1",
         "8570",
         "837",
         "0",
         "47",
         "0"
        ],
        [
         "39",
         "0",
         "0",
         "0",
         "1",
         "0",
         "0",
         "40",
         "LinkedIn",
         "2",
         "9166",
         "1138",
         "12",
         "51",
         "0"
        ],
        [
         "40",
         "0",
         "0",
         "0",
         "0",
         "0",
         "1",
         "41",
         "Referência",
         "4",
         "4100",
         "340",
         "1",
         "24",
         "0"
        ],
        [
         "41",
         "0",
         "0",
         "1",
         "0",
         "0",
         "0",
         "42",
         "Instagram",
         "1",
         "7283",
         "826",
         "4",
         "20",
         "0"
        ],
        [
         "42",
         "0",
         "0",
         "0",
         "1",
         "0",
         "0",
         "43",
         "LinkedIn",
         "4",
         "13726",
         "242",
         "13",
         "100",
         "1"
        ],
        [
         "43",
         "1",
         "0",
         "0",
         "0",
         "0",
         "0",
         "44",
         "Facebook",
         "2",
         "9646",
         "385",
         "7",
         "64",
         "0"
        ],
        [
         "44",
         "0",
         "0",
         "1",
         "0",
         "0",
         "0",
         "45",
         "Instagram",
         "2",
         "5471",
         "903",
         "7",
         "62",
         "0"
        ],
        [
         "45",
         "0",
         "1",
         "0",
         "0",
         "0",
         "0",
         "46",
         "Google Ads",
         "1",
         "13990",
         "487",
         "10",
         "88",
         "0"
        ],
        [
         "46",
         "0",
         "0",
         "0",
         "1",
         "0",
         "0",
         "47",
         "LinkedIn",
         "2",
         "18089",
         "906",
         "2",
         "50",
         "0"
        ],
        [
         "47",
         "0",
         "0",
         "1",
         "0",
         "0",
         "0",
         "48",
         "Instagram",
         "5",
         "13451",
         "1053",
         "10",
         "35",
         "0"
        ],
        [
         "48",
         "1",
         "0",
         "0",
         "0",
         "0",
         "0",
         "49",
         "Facebook",
         "2",
         "12812",
         "1145",
         "12",
         "80",
         "0"
        ],
        [
         "49",
         "0",
         "0",
         "0",
         "0",
         "0",
         "1",
         "50",
         "Referência",
         "4",
         "2490",
         "486",
         "3",
         "87",
         "0"
        ]
       ],
       "shape": {
        "columns": 14,
        "rows": 1000
       }
      },
      "text/html": [
       "<div>\n",
       "<style scoped>\n",
       "    .dataframe tbody tr th:only-of-type {\n",
       "        vertical-align: middle;\n",
       "    }\n",
       "\n",
       "    .dataframe tbody tr th {\n",
       "        vertical-align: top;\n",
       "    }\n",
       "\n",
       "    .dataframe thead th {\n",
       "        text-align: right;\n",
       "    }\n",
       "</style>\n",
       "<table border=\"1\" class=\"dataframe\">\n",
       "  <thead>\n",
       "    <tr style=\"text-align: right;\">\n",
       "      <th></th>\n",
       "      <th>Facebook</th>\n",
       "      <th>Google Ads</th>\n",
       "      <th>Instagram</th>\n",
       "      <th>LinkedIn</th>\n",
       "      <th>Orgânico</th>\n",
       "      <th>Referência</th>\n",
       "      <th>ID_Cliente</th>\n",
       "      <th>Fonte_Contato</th>\n",
       "      <th>Interesse_Produto</th>\n",
       "      <th>Orçamento_Disponível</th>\n",
       "      <th>Tempo_Resposta</th>\n",
       "      <th>Experiência_Setor</th>\n",
       "      <th>Score_Qualificação</th>\n",
       "      <th>Fechou_Contrato</th>\n",
       "    </tr>\n",
       "  </thead>\n",
       "  <tbody>\n",
       "    <tr>\n",
       "      <th>0</th>\n",
       "      <td>0</td>\n",
       "      <td>0</td>\n",
       "      <td>1</td>\n",
       "      <td>0</td>\n",
       "      <td>0</td>\n",
       "      <td>0</td>\n",
       "      <td>1</td>\n",
       "      <td>Instagram</td>\n",
       "      <td>4</td>\n",
       "      <td>7647</td>\n",
       "      <td>1435</td>\n",
       "      <td>1</td>\n",
       "      <td>68</td>\n",
       "      <td>1</td>\n",
       "    </tr>\n",
       "    <tr>\n",
       "      <th>1</th>\n",
       "      <td>0</td>\n",
       "      <td>0</td>\n",
       "      <td>0</td>\n",
       "      <td>1</td>\n",
       "      <td>0</td>\n",
       "      <td>0</td>\n",
       "      <td>2</td>\n",
       "      <td>LinkedIn</td>\n",
       "      <td>5</td>\n",
       "      <td>4951</td>\n",
       "      <td>1224</td>\n",
       "      <td>7</td>\n",
       "      <td>12</td>\n",
       "      <td>0</td>\n",
       "    </tr>\n",
       "    <tr>\n",
       "      <th>2</th>\n",
       "      <td>0</td>\n",
       "      <td>0</td>\n",
       "      <td>0</td>\n",
       "      <td>0</td>\n",
       "      <td>0</td>\n",
       "      <td>1</td>\n",
       "      <td>3</td>\n",
       "      <td>Referência</td>\n",
       "      <td>3</td>\n",
       "      <td>15843</td>\n",
       "      <td>315</td>\n",
       "      <td>11</td>\n",
       "      <td>86</td>\n",
       "      <td>1</td>\n",
       "    </tr>\n",
       "    <tr>\n",
       "      <th>3</th>\n",
       "      <td>0</td>\n",
       "      <td>0</td>\n",
       "      <td>0</td>\n",
       "      <td>0</td>\n",
       "      <td>0</td>\n",
       "      <td>1</td>\n",
       "      <td>4</td>\n",
       "      <td>Referência</td>\n",
       "      <td>5</td>\n",
       "      <td>14135</td>\n",
       "      <td>266</td>\n",
       "      <td>4</td>\n",
       "      <td>57</td>\n",
       "      <td>1</td>\n",
       "    </tr>\n",
       "    <tr>\n",
       "      <th>4</th>\n",
       "      <td>0</td>\n",
       "      <td>0</td>\n",
       "      <td>0</td>\n",
       "      <td>0</td>\n",
       "      <td>1</td>\n",
       "      <td>0</td>\n",
       "      <td>5</td>\n",
       "      <td>Orgânico</td>\n",
       "      <td>5</td>\n",
       "      <td>6459</td>\n",
       "      <td>410</td>\n",
       "      <td>6</td>\n",
       "      <td>49</td>\n",
       "      <td>0</td>\n",
       "    </tr>\n",
       "    <tr>\n",
       "      <th>...</th>\n",
       "      <td>...</td>\n",
       "      <td>...</td>\n",
       "      <td>...</td>\n",
       "      <td>...</td>\n",
       "      <td>...</td>\n",
       "      <td>...</td>\n",
       "      <td>...</td>\n",
       "      <td>...</td>\n",
       "      <td>...</td>\n",
       "      <td>...</td>\n",
       "      <td>...</td>\n",
       "      <td>...</td>\n",
       "      <td>...</td>\n",
       "      <td>...</td>\n",
       "    </tr>\n",
       "    <tr>\n",
       "      <th>995</th>\n",
       "      <td>0</td>\n",
       "      <td>1</td>\n",
       "      <td>0</td>\n",
       "      <td>0</td>\n",
       "      <td>0</td>\n",
       "      <td>0</td>\n",
       "      <td>996</td>\n",
       "      <td>Google Ads</td>\n",
       "      <td>2</td>\n",
       "      <td>3317</td>\n",
       "      <td>564</td>\n",
       "      <td>2</td>\n",
       "      <td>87</td>\n",
       "      <td>0</td>\n",
       "    </tr>\n",
       "    <tr>\n",
       "      <th>996</th>\n",
       "      <td>0</td>\n",
       "      <td>0</td>\n",
       "      <td>0</td>\n",
       "      <td>0</td>\n",
       "      <td>0</td>\n",
       "      <td>1</td>\n",
       "      <td>997</td>\n",
       "      <td>Referência</td>\n",
       "      <td>1</td>\n",
       "      <td>15596</td>\n",
       "      <td>676</td>\n",
       "      <td>14</td>\n",
       "      <td>86</td>\n",
       "      <td>0</td>\n",
       "    </tr>\n",
       "    <tr>\n",
       "      <th>997</th>\n",
       "      <td>0</td>\n",
       "      <td>0</td>\n",
       "      <td>0</td>\n",
       "      <td>0</td>\n",
       "      <td>0</td>\n",
       "      <td>1</td>\n",
       "      <td>998</td>\n",
       "      <td>Referência</td>\n",
       "      <td>1</td>\n",
       "      <td>19380</td>\n",
       "      <td>1146</td>\n",
       "      <td>3</td>\n",
       "      <td>21</td>\n",
       "      <td>0</td>\n",
       "    </tr>\n",
       "    <tr>\n",
       "      <th>998</th>\n",
       "      <td>0</td>\n",
       "      <td>0</td>\n",
       "      <td>0</td>\n",
       "      <td>1</td>\n",
       "      <td>0</td>\n",
       "      <td>0</td>\n",
       "      <td>999</td>\n",
       "      <td>LinkedIn</td>\n",
       "      <td>4</td>\n",
       "      <td>5799</td>\n",
       "      <td>1408</td>\n",
       "      <td>14</td>\n",
       "      <td>1</td>\n",
       "      <td>0</td>\n",
       "    </tr>\n",
       "    <tr>\n",
       "      <th>999</th>\n",
       "      <td>0</td>\n",
       "      <td>0</td>\n",
       "      <td>1</td>\n",
       "      <td>0</td>\n",
       "      <td>0</td>\n",
       "      <td>0</td>\n",
       "      <td>1000</td>\n",
       "      <td>Instagram</td>\n",
       "      <td>3</td>\n",
       "      <td>10417</td>\n",
       "      <td>683</td>\n",
       "      <td>8</td>\n",
       "      <td>30</td>\n",
       "      <td>0</td>\n",
       "    </tr>\n",
       "  </tbody>\n",
       "</table>\n",
       "<p>1000 rows × 14 columns</p>\n",
       "</div>"
      ],
      "text/plain": [
       "     Facebook  Google Ads  Instagram  LinkedIn  Orgânico  Referência  \\\n",
       "0           0           0          1         0         0           0   \n",
       "1           0           0          0         1         0           0   \n",
       "2           0           0          0         0         0           1   \n",
       "3           0           0          0         0         0           1   \n",
       "4           0           0          0         0         1           0   \n",
       "..        ...         ...        ...       ...       ...         ...   \n",
       "995         0           1          0         0         0           0   \n",
       "996         0           0          0         0         0           1   \n",
       "997         0           0          0         0         0           1   \n",
       "998         0           0          0         1         0           0   \n",
       "999         0           0          1         0         0           0   \n",
       "\n",
       "     ID_Cliente Fonte_Contato  Interesse_Produto  Orçamento_Disponível  \\\n",
       "0             1     Instagram                  4                  7647   \n",
       "1             2      LinkedIn                  5                  4951   \n",
       "2             3    Referência                  3                 15843   \n",
       "3             4    Referência                  5                 14135   \n",
       "4             5      Orgânico                  5                  6459   \n",
       "..          ...           ...                ...                   ...   \n",
       "995         996    Google Ads                  2                  3317   \n",
       "996         997    Referência                  1                 15596   \n",
       "997         998    Referência                  1                 19380   \n",
       "998         999      LinkedIn                  4                  5799   \n",
       "999        1000     Instagram                  3                 10417   \n",
       "\n",
       "     Tempo_Resposta  Experiência_Setor  Score_Qualificação  Fechou_Contrato  \n",
       "0              1435                  1                  68                1  \n",
       "1              1224                  7                  12                0  \n",
       "2               315                 11                  86                1  \n",
       "3               266                  4                  57                1  \n",
       "4               410                  6                  49                0  \n",
       "..              ...                ...                 ...              ...  \n",
       "995             564                  2                  87                0  \n",
       "996             676                 14                  86                0  \n",
       "997            1146                  3                  21                0  \n",
       "998            1408                 14                   1                0  \n",
       "999             683                  8                  30                0  \n",
       "\n",
       "[1000 rows x 14 columns]"
      ]
     },
     "execution_count": 16,
     "metadata": {},
     "output_type": "execute_result"
    }
   ],
   "source": [
    "dataset_concatenado = pd.concat([dados_dummie_Fonte_Contato, dataset],axis=1)\n",
    "dataset_concatenado"
   ]
  },
  {
   "cell_type": "code",
   "execution_count": 17,
   "metadata": {},
   "outputs": [],
   "source": [
    "# Remove as colunas 'ID_Cliente' e 'Fonte_Contato' do dataset.\n",
    "# O parâmetro axis=1 indica que estamos removendo colunas (e não linhas).\n",
    "# O parâmetro inplace=True aplica a remoção diretamente no dataset, sem necessidade de reatribuição.\n",
    "dataset_concatenado.drop(['ID_Cliente', 'Fonte_Contato'], axis=1, inplace=True)"
   ]
  },
  {
   "cell_type": "markdown",
   "metadata": {},
   "source": [
    "## Etapa 6 - Divisão dos Dados em Treino, Validação e Teste"
   ]
  },
  {
   "cell_type": "markdown",
   "metadata": {},
   "source": [
    "---\n",
    "\n",
    "A divisão dos dados é essencial no treinamento de modelos de aprendizado de máquina, garantindo que o modelo aprenda, seja ajustado e avaliado corretamente.  \n",
    "\n",
    "- **Conjunto de treinamento**: usado para treinar o algoritmo, por isso deve conter a maior parte dos dados, permitindo que o modelo aprenda padrões significativos.  \n",
    "- **Conjunto de validação**: utilizado para ajustar hiperparâmetros e comparar diferentes abordagens, ajudando a escolher a configuração com melhor desempenho.  \n",
    "- **Conjunto de teste**: reservado para avaliar a precisão final do modelo, garantindo que ele generalize bem para novos dados.  \n",
    "\n",
    "A proporção de divisão pode variar conforme o tamanho do conjunto de dados. Algumas configurações comuns incluem **50/25/25, 60/20/20 e 70/15/15** para treinamento, validação e teste, respectivamente. No entanto, para conjuntos de dados extremamente grandes (com centenas de milhões de registros), é possível utilizar divisões como **98/1/1**, garantindo que o modelo tenha um volume suficiente de dados para aprender sem comprometer a validação e o teste.  \n",
    "\n",
    "---"
   ]
  },
  {
   "cell_type": "code",
   "execution_count": 18,
   "metadata": {},
   "outputs": [],
   "source": [
    "# Definindo a variável alvo (y) - Suponha que a coluna 'Fechou_Contrato' seja a variável que queremos prever\n",
    "y = dataset_concatenado['Fechou_Contrato']  # O alvo\n",
    "\n",
    "# Definindo as features (X) - Todas as colunas, exceto a variável alvo\n",
    "X = dataset_concatenado.drop(columns=['Fechou_Contrato'])  # As features (atributos)"
   ]
  },
  {
   "cell_type": "code",
   "execution_count": 19,
   "metadata": {},
   "outputs": [],
   "source": [
    "# Primeira divisão: separa 70% dos dados para treino e 30% para validação/teste.\n",
    "# O parâmetro stratify=y garante que a proporção das classes seja mantida em cada conjunto.\n",
    "# O parâmetro random_state=42 mantém a reprodutibilidade dos resultados.\n",
    "dados_x_treino, dados_x_temporario, dados_y_treino, dados_y_temporario = train_test_split(X, y, test_size=0.3, stratify=y, random_state=42)\n",
    "\n",
    "# Segunda divisão: dos 30% restantes, divide igualmente entre validação (15%) e teste (15%).\n",
    "# O parâmetro stratify=dados_y_temporario mantém a mesma distribuição das classes nos conjuntos de validação e teste.\n",
    "dados_x_validacao, dados_x_teste, dados_y_validacao, dados_y_teste = train_test_split(dados_x_temporario, dados_y_temporario, test_size=0.5, stratify=dados_y_temporario, random_state=42)"
   ]
  },
  {
   "cell_type": "markdown",
   "metadata": {},
   "source": [
    "---\n",
    "\n",
    "Esse código divide o dataset em três partes:  \n",
    "- **70% para treino**\n",
    "- **15% para validação**\n",
    "- **15% para teste**  \n",
    "---"
   ]
  },
  {
   "cell_type": "code",
   "execution_count": 20,
   "metadata": {},
   "outputs": [
    {
     "name": "stdout",
     "output_type": "stream",
     "text": [
      "Teste(n = 150): 0.220\n",
      "Validação(n = 150): 0.220\n",
      "Treinamento(n = 700): 0.221\n"
     ]
    }
   ],
   "source": [
    "# Imprime a quantidade de amostras no conjunto de teste e a prevalência de fechamento de contrato nesse conjunto\n",
    "# A função len(dados_teste) retorna o número total de registros em dados_teste\n",
    "# A função calcula_prevalencia() recebe a coluna \"Fechou_Contrato\" convertida em um array e calcula a prevalência\n",
    "# O formato da string (%d para inteiro e %.3f para float) garante uma saída legível\n",
    "print(\"Teste(n = %d): %.3f\" % (len(dados_x_teste), calcula_prevalencia(dados_y_teste.values)))\n",
    "# Imprime a quantidade de amostras no conjunto de validação e a prevalência de fechamento de contrato nesse conjunto\n",
    "# Semelhante ao código anterior, mas aplicado ao conjunto de validação (dados_validacao)\n",
    "print(\"Validação(n = %d): %.3f\" % (len(dados_x_validacao), calcula_prevalencia(dados_y_validacao.values)))\n",
    "# Imprime a quantidade de amostras no conjunto de treinamento e a prevalência de fechamento de contrato nesse conjunto\n",
    "# Aqui, a função calcula a métrica para os dados de treino (dados_treino), que são usados para ajustar o modelo\n",
    "print(\"Treinamento(n = %d): %.3f\" % (len(dados_x_treino), calcula_prevalencia(dados_y_treino.values)))"
   ]
  },
  {
   "cell_type": "code",
   "execution_count": 21,
   "metadata": {},
   "outputs": [
    {
     "name": "stdout",
     "output_type": "stream",
     "text": [
      "Todas as amostras (n = 1000)\n"
     ]
    }
   ],
   "source": [
    "# Imprime a quantidade total de amostras no conjunto dataset_concatenado\n",
    "# len(dataset_concatenado) retorna o número total de registros no conjunto de dados amostrado\n",
    "print('Todas as amostras (n = %d)' % len(dataset_concatenado))\n",
    "\n",
    "# Verifica se a quantidade total de amostras em sample_dados é exatamente igual \n",
    "# à soma dos conjuntos de teste, treino e validação.\n",
    "# Se os tamanhos não coincidirem, a execução do código será interrompida e uma mensagem de erro será exibida.\n",
    "assert len(dataset_concatenado) == (len(dados_x_teste) + len(dados_x_treino) + len(dados_x_validacao)), \"Algo saiu errado\""
   ]
  },
  {
   "cell_type": "code",
   "execution_count": 22,
   "metadata": {},
   "outputs": [
    {
     "data": {
      "application/vnd.microsoft.datawrangler.viewer.v0+json": {
       "columns": [
        {
         "name": "index",
         "rawType": "int64",
         "type": "integer"
        },
        {
         "name": "Facebook",
         "rawType": "int32",
         "type": "integer"
        },
        {
         "name": "Google Ads",
         "rawType": "int32",
         "type": "integer"
        },
        {
         "name": "Instagram",
         "rawType": "int32",
         "type": "integer"
        },
        {
         "name": "LinkedIn",
         "rawType": "int32",
         "type": "integer"
        },
        {
         "name": "Orgânico",
         "rawType": "int32",
         "type": "integer"
        },
        {
         "name": "Referência",
         "rawType": "int32",
         "type": "integer"
        },
        {
         "name": "Interesse_Produto",
         "rawType": "int64",
         "type": "integer"
        },
        {
         "name": "Orçamento_Disponível",
         "rawType": "int64",
         "type": "integer"
        },
        {
         "name": "Tempo_Resposta",
         "rawType": "int64",
         "type": "integer"
        },
        {
         "name": "Experiência_Setor",
         "rawType": "int64",
         "type": "integer"
        },
        {
         "name": "Score_Qualificação",
         "rawType": "int64",
         "type": "integer"
        }
       ],
       "conversionMethod": "pd.DataFrame",
       "ref": "85754407-eb77-4f30-8cb8-5e8f650827a0",
       "rows": [
        [
         "514",
         "0",
         "0",
         "0",
         "0",
         "0",
         "1",
         "4",
         "17843",
         "1110",
         "12",
         "0"
        ],
        [
         "643",
         "0",
         "0",
         "0",
         "0",
         "0",
         "1",
         "3",
         "11671",
         "548",
         "11",
         "43"
        ]
       ],
       "shape": {
        "columns": 11,
        "rows": 2
       }
      },
      "text/html": [
       "<div>\n",
       "<style scoped>\n",
       "    .dataframe tbody tr th:only-of-type {\n",
       "        vertical-align: middle;\n",
       "    }\n",
       "\n",
       "    .dataframe tbody tr th {\n",
       "        vertical-align: top;\n",
       "    }\n",
       "\n",
       "    .dataframe thead th {\n",
       "        text-align: right;\n",
       "    }\n",
       "</style>\n",
       "<table border=\"1\" class=\"dataframe\">\n",
       "  <thead>\n",
       "    <tr style=\"text-align: right;\">\n",
       "      <th></th>\n",
       "      <th>Facebook</th>\n",
       "      <th>Google Ads</th>\n",
       "      <th>Instagram</th>\n",
       "      <th>LinkedIn</th>\n",
       "      <th>Orgânico</th>\n",
       "      <th>Referência</th>\n",
       "      <th>Interesse_Produto</th>\n",
       "      <th>Orçamento_Disponível</th>\n",
       "      <th>Tempo_Resposta</th>\n",
       "      <th>Experiência_Setor</th>\n",
       "      <th>Score_Qualificação</th>\n",
       "    </tr>\n",
       "  </thead>\n",
       "  <tbody>\n",
       "    <tr>\n",
       "      <th>514</th>\n",
       "      <td>0</td>\n",
       "      <td>0</td>\n",
       "      <td>0</td>\n",
       "      <td>0</td>\n",
       "      <td>0</td>\n",
       "      <td>1</td>\n",
       "      <td>4</td>\n",
       "      <td>17843</td>\n",
       "      <td>1110</td>\n",
       "      <td>12</td>\n",
       "      <td>0</td>\n",
       "    </tr>\n",
       "    <tr>\n",
       "      <th>643</th>\n",
       "      <td>0</td>\n",
       "      <td>0</td>\n",
       "      <td>0</td>\n",
       "      <td>0</td>\n",
       "      <td>0</td>\n",
       "      <td>1</td>\n",
       "      <td>3</td>\n",
       "      <td>11671</td>\n",
       "      <td>548</td>\n",
       "      <td>11</td>\n",
       "      <td>43</td>\n",
       "    </tr>\n",
       "  </tbody>\n",
       "</table>\n",
       "</div>"
      ],
      "text/plain": [
       "     Facebook  Google Ads  Instagram  LinkedIn  Orgânico  Referência  \\\n",
       "514         0           0          0         0         0           1   \n",
       "643         0           0          0         0         0           1   \n",
       "\n",
       "     Interesse_Produto  Orçamento_Disponível  Tempo_Resposta  \\\n",
       "514                  4                 17843            1110   \n",
       "643                  3                 11671             548   \n",
       "\n",
       "     Experiência_Setor  Score_Qualificação  \n",
       "514                 12                   0  \n",
       "643                 11                  43  "
      ]
     },
     "execution_count": 22,
     "metadata": {},
     "output_type": "execute_result"
    }
   ],
   "source": [
    "dados_x_treino.head(2)"
   ]
  },
  {
   "cell_type": "code",
   "execution_count": 23,
   "metadata": {},
   "outputs": [
    {
     "data": {
      "text/plain": [
       "514    0\n",
       "643    0\n",
       "Name: Fechou_Contrato, dtype: int64"
      ]
     },
     "execution_count": 23,
     "metadata": {},
     "output_type": "execute_result"
    }
   ],
   "source": [
    "dados_y_treino.head(2)"
   ]
  },
  {
   "cell_type": "code",
   "execution_count": 24,
   "metadata": {},
   "outputs": [
    {
     "data": {
      "text/plain": [
       "Fechou_Contrato\n",
       "0    779\n",
       "1    221\n",
       "Name: count, dtype: int64"
      ]
     },
     "execution_count": 24,
     "metadata": {},
     "output_type": "execute_result"
    }
   ],
   "source": [
    "dataset_concatenado[\"Fechou_Contrato\"].value_counts()"
   ]
  },
  {
   "cell_type": "markdown",
   "metadata": {},
   "source": [
    "---\n",
    "\n",
    "### **Balanceamento do Conjunto de Dados para Melhor Desempenho do Modelo**  \n",
    "\n",
    "Para evitar que nosso modelo aprenda de forma tendenciosa e classifique incorretamente as amostras como pertencentes à classe majoritária, é essencial equilibrar o conjunto de dados.  \n",
    "\n",
    "No nosso caso, a variável **\"Fechou_Contrato\"** está desbalanceada:  \n",
    "- **779 amostras** pertencem à classe **0** (não fechou contrato).  \n",
    "- **221 amostras** pertencem à classe **1** (fechou contrato).  \n",
    "\n",
    "Se treinarmos um modelo com esse conjunto de dados sem ajustes, ele tenderá a favorecer a classe majoritária (**0 - não fechou contrato**), resultando em previsões enviesadas e baixo desempenho na identificação de clientes que realmente fechariam contrato.  \n",
    "\n",
    "Para mitigar esse problema, aplicamos o método de **subamostragem** (undersampling), onde selecionamos aleatoriamente um subconjunto das amostras da classe majoritária para equilibrar as proporções entre as classes. Dessa forma, garantimos que o modelo aprenda de maneira mais representativa e justa, melhorando sua capacidade preditiva.  \n",
    "\n",
    "---"
   ]
  },
  {
   "cell_type": "markdown",
   "metadata": {},
   "source": [
    "## Etapa 7 - Balanceamento de Classe\n",
    "\n",
    "Aplicamos balanceamento de classe somente nos dados de treino."
   ]
  },
  {
   "cell_type": "code",
   "execution_count": 25,
   "metadata": {},
   "outputs": [],
   "source": [
    "# Cria uma máscara booleana onde True indica que a amostra pertence à classe positiva (Fechou_Contrato = 1), ou seja, clientes que fecharam contrato.\n",
    "linha_positiva = dados_y_treino == 1  "
   ]
  },
  {
   "cell_type": "markdown",
   "metadata": {},
   "source": [
    "**Por que devemos aplicar o balanceamento somente nos dados de treino?**\n",
    "\n",
    "O balanceamento dos dados é uma técnica fundamental para evitar que o modelo aprenda de maneira enviesada em conjuntos de dados desbalanceados. No entanto, **esse balanceamento deve ser aplicado apenas nos dados de treino**, e há razões importantes para isso:\n",
    "\n",
    "1. **Evitar Viés na Avaliação do Modelo**  \n",
    "   - O conjunto de **teste e validação** deve representar a **realidade dos dados** que o modelo encontrará no mundo real.  \n",
    "   - Se aplicarmos o balanceamento nesses conjuntos, estaríamos artificialmente alterando a distribuição dos dados, tornando os resultados da avaliação irreais.  \n",
    "   - A métrica final precisa refletir o desempenho do modelo em um cenário desbalanceado, como o que ocorrerá na prática.\n",
    "\n",
    "2. **Garantir Generalização Correta**  \n",
    "   - Se balancearmos os dados de teste e validação, o modelo pode se adaptar a um cenário que **não existe** no ambiente real.  \n",
    "   - Isso pode levar a métricas **infladas** ou **enganosas**, fazendo parecer que o modelo está melhor do que realmente é.\n",
    "\n",
    "3. **Treinar um Modelo Justo e Representativo**  \n",
    "   - O objetivo do balanceamento no **treino** é permitir que o modelo aprenda a reconhecer padrões em ambas as classes, mesmo que uma seja muito menor.  \n",
    "   - Porém, a avaliação deve ser feita com os dados **originais**, sem modificação, para verificar se o modelo consegue lidar com a desproporção natural entre as classes.\n",
    "\n",
    "4. **Evitar Overfitting ao Balanceamento**  \n",
    "   - Se balancearmos todo o conjunto de dados, o modelo pode ficar **viciado** em uma distribuição artificial e ter dificuldades em prever corretamente novas amostras no ambiente real.\n",
    "\n",
    "**Conclusão**\n",
    "Aplicar o balanceamento **apenas nos dados de treino** garante que o modelo aprenda de forma justa, sem favorecer a classe majoritária, mas ainda seja avaliado em um contexto realista. Isso resulta em uma melhor estimativa de sua capacidade de generalização e desempenho prático.\n",
    "\n"
   ]
  },
  {
   "cell_type": "code",
   "execution_count": 26,
   "metadata": {},
   "outputs": [],
   "source": [
    "dados_x_treino_positivo = dados_x_treino.loc[linha_positiva]  # Dados da classe positiva\n",
    "dados_x_treino_negativo = dados_x_treino.loc[~linha_positiva] # Dados da classe negativa\n",
    "dados_y_treino_positivo = dados_y_treino.loc[linha_positiva]  # Rótulos da classe positiva\n",
    "dados_y_treino_negativo = dados_y_treino.loc[~linha_positiva] # Rótulos da classe negativa"
   ]
  },
  {
   "cell_type": "code",
   "execution_count": 27,
   "metadata": {},
   "outputs": [],
   "source": [
    "# Calcula o tamanho mínimo entre as quantidades de amostras positivas e negativas no conjunto de treino\n",
    "# `len(dados_treino_positivo)`: Número de amostras onde Fechou_Contrato = 1 (clientes que fecharam contrato)\n",
    "# `len(dados_treino_negativo)`: Número de amostras onde Fechou_Contrato = 0 (clientes que não fecharam contrato)\n",
    "# `np.min([...])` retorna o menor valor entre os dois, garantindo um número equilibrado de amostras para balanceamento\n",
    "valor_minimo = np.min([len(dados_x_treino_positivo), len(dados_x_treino_negativo)])"
   ]
  },
  {
   "cell_type": "code",
   "execution_count": 28,
   "metadata": {},
   "outputs": [],
   "source": [
    "# Realizando o balanceamento via undersampling\n",
    "dados_x_treino_balanceado = pd.concat([\n",
    "    dados_x_treino_positivo.sample(n=valor_minimo, random_state=64),\n",
    "    dados_x_treino_negativo.sample(n=valor_minimo, random_state=64)\n",
    "], axis=0).reset_index(drop=True)"
   ]
  },
  {
   "cell_type": "code",
   "execution_count": 29,
   "metadata": {},
   "outputs": [],
   "source": [
    "dados_y_treino_balanceado = pd.concat([\n",
    "    dados_y_treino_positivo.sample(n=valor_minimo, random_state=64),\n",
    "    dados_y_treino_negativo.sample(n=valor_minimo, random_state=64)\n",
    "], axis=0).reset_index(drop=True)"
   ]
  },
  {
   "cell_type": "code",
   "execution_count": 30,
   "metadata": {},
   "outputs": [],
   "source": [
    "# Embaralhando os dados balanceados\n",
    "dados_x_treino_balanceado = dados_x_treino_balanceado.sample(frac=1, random_state=64).reset_index(drop=True)\n",
    "dados_y_treino_balanceado = dados_y_treino_balanceado.sample(frac=1, random_state=64).reset_index(drop=True)"
   ]
  },
  {
   "cell_type": "code",
   "execution_count": 31,
   "metadata": {},
   "outputs": [
    {
     "name": "stdout",
     "output_type": "stream",
     "text": [
      "Distribuição das classes após balanceamento:\n",
      "Fechou_Contrato\n",
      "0    0.5\n",
      "1    0.5\n",
      "Name: proportion, dtype: float64\n"
     ]
    }
   ],
   "source": [
    "# Exibindo o resultado\n",
    "print(\"Distribuição das classes após balanceamento:\")\n",
    "print(dados_y_treino_balanceado.value_counts(normalize=True))"
   ]
  },
  {
   "cell_type": "code",
   "execution_count": 32,
   "metadata": {},
   "outputs": [
    {
     "name": "stdout",
     "output_type": "stream",
     "text": [
      "Balanceamento em Treino(n = 310): 0.500\n"
     ]
    }
   ],
   "source": [
    "# Imprime o número total de amostras no conjunto de treino balanceado e a prevalência da classe positiva\n",
    "# `len(dados_treino_final)`: Exibe a quantidade total de amostras no conjunto de treino final após o balanceamento\n",
    "# `calcula_prevalencia(dados_treino_final.Fechou_Contrato.values)`: Calcula a taxa de prevalência da classe positiva (Fechou_Contrato = 1)\n",
    "# \"%.3f\"`: Formata a saída da prevalência para três casas decimais, garantindo melhor legibilidade dos resultados\n",
    "print(\"Balanceamento em Treino(n = %d): %.3f\" % (len(dados_x_treino_balanceado), calcula_prevalencia(dados_y_treino_balanceado.values)))"
   ]
  },
  {
   "cell_type": "markdown",
   "metadata": {},
   "source": [
    "**Análise do Resultado**  \n",
    "O resultado indica que, após o balanceamento, o conjunto de treino contém **314 amostras**, e a **prevalência da classe positiva** (`Fechou_Contrato = 1`) é **0.500** (50%).  \n",
    "\n",
    "**Resumo**  \n",
    "O balanceamento foi bem-sucedido, garantindo que ambas as classes tenham a **mesma quantidade de amostras** no treino. Isso evita que o modelo favoreça a classe majoritária e melhora a qualidade das previsões."
   ]
  },
  {
   "cell_type": "markdown",
   "metadata": {},
   "source": [
    "### Etapa 7.1 Criando as Matrizes X e Y"
   ]
  },
  {
   "cell_type": "code",
   "execution_count": 33,
   "metadata": {},
   "outputs": [
    {
     "name": "stdout",
     "output_type": "stream",
     "text": [
      "Shape dos dados de treino: (310, 11) (310,)\n",
      "Shape dos dados de validação: (150, 11) (150,)\n"
     ]
    }
   ],
   "source": [
    "print('Shape dos dados de treino:', dados_x_treino_balanceado.shape, dados_y_treino_balanceado.shape)\n",
    "print('Shape dos dados de validação:', dados_x_validacao.shape, dados_y_validacao.shape)"
   ]
  },
  {
   "cell_type": "markdown",
   "metadata": {},
   "source": [
    "## **Etapa 8 - Padronização**\n",
    "\n"
   ]
  },
  {
   "cell_type": "markdown",
   "metadata": {},
   "source": [
    "A padronização no pré-processamento de dados é uma técnica essencial na construção de modelos de classificação, além de ser amplamente utilizada em diversos outros tipos de modelos de machine learning. Essa etapa desempenha um papel crucial por vários motivos:\n",
    "\n",
    "---\n",
    "\n",
    "**Ajuste da Escala dos Dados**  \n",
    "Os conjuntos de dados frequentemente contêm variáveis em escalas muito diferentes. Por exemplo, um dataset pode incluir a **idade dos indivíduos** (variando entre 0 e 100 anos) e seus **salários** (que podem variar de milhares a dezenas de milhares).  \n",
    "- Modelos de machine learning podem, involuntariamente, atribuir mais peso às variáveis com valores numéricos maiores, simplesmente por causa da diferença de magnitude.  \n",
    "- Isso pode levar a um **desequilíbrio na importância das variáveis**, impactando negativamente o desempenho do modelo.  \n",
    "- A padronização resolve esse problema ao transformar todas as variáveis para a mesma escala.\n",
    "\n",
    "---\n",
    "\n",
    "**Aceleração da Convergência**  \n",
    "Muitos algoritmos de machine learning, especialmente aqueles que utilizam **gradiente descendente** como método de otimização (como regressão logística e redes neurais), beneficiam-se diretamente da padronização.  \n",
    "- Quando os dados não estão padronizados, o gradiente descendente pode ter dificuldades em encontrar a solução ótima, pois os pesos ajustam-se de maneira desproporcional.  \n",
    "- A padronização garante que as atualizações dos pesos aconteçam de forma mais homogênea, resultando em uma **convergência mais rápida e eficiente**.\n",
    "\n",
    "---\n",
    "\n",
    "**Melhor Interpretabilidade dos Modelos**  \n",
    "A padronização também pode facilitar a interpretação dos resultados, especialmente em modelos estatísticos e de aprendizado de máquina que utilizam coeficientes para medir a importância das variáveis.  \n",
    "- Em modelos lineares, como regressão logística, os coeficientes refletem o impacto de cada variável na previsão.  \n",
    "- Quando todas as variáveis estão na mesma escala, é possível compará-las diretamente, tornando a **análise mais intuitiva e informativa**.  \n",
    "\n",
    "---"
   ]
  },
  {
   "cell_type": "code",
   "execution_count": 34,
   "metadata": {},
   "outputs": [],
   "source": [
    "# Cria uma instância do objeto StandardScaler, que será usado para padronizar as características\n",
    "# O StandardScaler ajusta os dados para ter média 0 e desvio padrão 1, o que é útil para muitos algoritmos de aprendizado de máquina\n",
    "scaler = StandardScaler()"
   ]
  },
  {
   "cell_type": "code",
   "execution_count": 35,
   "metadata": {},
   "outputs": [
    {
     "data": {
      "text/html": [
       "<style>#sk-container-id-1 {\n",
       "  /* Definition of color scheme common for light and dark mode */\n",
       "  --sklearn-color-text: black;\n",
       "  --sklearn-color-line: gray;\n",
       "  /* Definition of color scheme for unfitted estimators */\n",
       "  --sklearn-color-unfitted-level-0: #fff5e6;\n",
       "  --sklearn-color-unfitted-level-1: #f6e4d2;\n",
       "  --sklearn-color-unfitted-level-2: #ffe0b3;\n",
       "  --sklearn-color-unfitted-level-3: chocolate;\n",
       "  /* Definition of color scheme for fitted estimators */\n",
       "  --sklearn-color-fitted-level-0: #f0f8ff;\n",
       "  --sklearn-color-fitted-level-1: #d4ebff;\n",
       "  --sklearn-color-fitted-level-2: #b3dbfd;\n",
       "  --sklearn-color-fitted-level-3: cornflowerblue;\n",
       "\n",
       "  /* Specific color for light theme */\n",
       "  --sklearn-color-text-on-default-background: var(--sg-text-color, var(--theme-code-foreground, var(--jp-content-font-color1, black)));\n",
       "  --sklearn-color-background: var(--sg-background-color, var(--theme-background, var(--jp-layout-color0, white)));\n",
       "  --sklearn-color-border-box: var(--sg-text-color, var(--theme-code-foreground, var(--jp-content-font-color1, black)));\n",
       "  --sklearn-color-icon: #696969;\n",
       "\n",
       "  @media (prefers-color-scheme: dark) {\n",
       "    /* Redefinition of color scheme for dark theme */\n",
       "    --sklearn-color-text-on-default-background: var(--sg-text-color, var(--theme-code-foreground, var(--jp-content-font-color1, white)));\n",
       "    --sklearn-color-background: var(--sg-background-color, var(--theme-background, var(--jp-layout-color0, #111)));\n",
       "    --sklearn-color-border-box: var(--sg-text-color, var(--theme-code-foreground, var(--jp-content-font-color1, white)));\n",
       "    --sklearn-color-icon: #878787;\n",
       "  }\n",
       "}\n",
       "\n",
       "#sk-container-id-1 {\n",
       "  color: var(--sklearn-color-text);\n",
       "}\n",
       "\n",
       "#sk-container-id-1 pre {\n",
       "  padding: 0;\n",
       "}\n",
       "\n",
       "#sk-container-id-1 input.sk-hidden--visually {\n",
       "  border: 0;\n",
       "  clip: rect(1px 1px 1px 1px);\n",
       "  clip: rect(1px, 1px, 1px, 1px);\n",
       "  height: 1px;\n",
       "  margin: -1px;\n",
       "  overflow: hidden;\n",
       "  padding: 0;\n",
       "  position: absolute;\n",
       "  width: 1px;\n",
       "}\n",
       "\n",
       "#sk-container-id-1 div.sk-dashed-wrapped {\n",
       "  border: 1px dashed var(--sklearn-color-line);\n",
       "  margin: 0 0.4em 0.5em 0.4em;\n",
       "  box-sizing: border-box;\n",
       "  padding-bottom: 0.4em;\n",
       "  background-color: var(--sklearn-color-background);\n",
       "}\n",
       "\n",
       "#sk-container-id-1 div.sk-container {\n",
       "  /* jupyter's `normalize.less` sets `[hidden] { display: none; }`\n",
       "     but bootstrap.min.css set `[hidden] { display: none !important; }`\n",
       "     so we also need the `!important` here to be able to override the\n",
       "     default hidden behavior on the sphinx rendered scikit-learn.org.\n",
       "     See: https://github.com/scikit-learn/scikit-learn/issues/21755 */\n",
       "  display: inline-block !important;\n",
       "  position: relative;\n",
       "}\n",
       "\n",
       "#sk-container-id-1 div.sk-text-repr-fallback {\n",
       "  display: none;\n",
       "}\n",
       "\n",
       "div.sk-parallel-item,\n",
       "div.sk-serial,\n",
       "div.sk-item {\n",
       "  /* draw centered vertical line to link estimators */\n",
       "  background-image: linear-gradient(var(--sklearn-color-text-on-default-background), var(--sklearn-color-text-on-default-background));\n",
       "  background-size: 2px 100%;\n",
       "  background-repeat: no-repeat;\n",
       "  background-position: center center;\n",
       "}\n",
       "\n",
       "/* Parallel-specific style estimator block */\n",
       "\n",
       "#sk-container-id-1 div.sk-parallel-item::after {\n",
       "  content: \"\";\n",
       "  width: 100%;\n",
       "  border-bottom: 2px solid var(--sklearn-color-text-on-default-background);\n",
       "  flex-grow: 1;\n",
       "}\n",
       "\n",
       "#sk-container-id-1 div.sk-parallel {\n",
       "  display: flex;\n",
       "  align-items: stretch;\n",
       "  justify-content: center;\n",
       "  background-color: var(--sklearn-color-background);\n",
       "  position: relative;\n",
       "}\n",
       "\n",
       "#sk-container-id-1 div.sk-parallel-item {\n",
       "  display: flex;\n",
       "  flex-direction: column;\n",
       "}\n",
       "\n",
       "#sk-container-id-1 div.sk-parallel-item:first-child::after {\n",
       "  align-self: flex-end;\n",
       "  width: 50%;\n",
       "}\n",
       "\n",
       "#sk-container-id-1 div.sk-parallel-item:last-child::after {\n",
       "  align-self: flex-start;\n",
       "  width: 50%;\n",
       "}\n",
       "\n",
       "#sk-container-id-1 div.sk-parallel-item:only-child::after {\n",
       "  width: 0;\n",
       "}\n",
       "\n",
       "/* Serial-specific style estimator block */\n",
       "\n",
       "#sk-container-id-1 div.sk-serial {\n",
       "  display: flex;\n",
       "  flex-direction: column;\n",
       "  align-items: center;\n",
       "  background-color: var(--sklearn-color-background);\n",
       "  padding-right: 1em;\n",
       "  padding-left: 1em;\n",
       "}\n",
       "\n",
       "\n",
       "/* Toggleable style: style used for estimator/Pipeline/ColumnTransformer box that is\n",
       "clickable and can be expanded/collapsed.\n",
       "- Pipeline and ColumnTransformer use this feature and define the default style\n",
       "- Estimators will overwrite some part of the style using the `sk-estimator` class\n",
       "*/\n",
       "\n",
       "/* Pipeline and ColumnTransformer style (default) */\n",
       "\n",
       "#sk-container-id-1 div.sk-toggleable {\n",
       "  /* Default theme specific background. It is overwritten whether we have a\n",
       "  specific estimator or a Pipeline/ColumnTransformer */\n",
       "  background-color: var(--sklearn-color-background);\n",
       "}\n",
       "\n",
       "/* Toggleable label */\n",
       "#sk-container-id-1 label.sk-toggleable__label {\n",
       "  cursor: pointer;\n",
       "  display: block;\n",
       "  width: 100%;\n",
       "  margin-bottom: 0;\n",
       "  padding: 0.5em;\n",
       "  box-sizing: border-box;\n",
       "  text-align: center;\n",
       "}\n",
       "\n",
       "#sk-container-id-1 label.sk-toggleable__label-arrow:before {\n",
       "  /* Arrow on the left of the label */\n",
       "  content: \"▸\";\n",
       "  float: left;\n",
       "  margin-right: 0.25em;\n",
       "  color: var(--sklearn-color-icon);\n",
       "}\n",
       "\n",
       "#sk-container-id-1 label.sk-toggleable__label-arrow:hover:before {\n",
       "  color: var(--sklearn-color-text);\n",
       "}\n",
       "\n",
       "/* Toggleable content - dropdown */\n",
       "\n",
       "#sk-container-id-1 div.sk-toggleable__content {\n",
       "  max-height: 0;\n",
       "  max-width: 0;\n",
       "  overflow: hidden;\n",
       "  text-align: left;\n",
       "  /* unfitted */\n",
       "  background-color: var(--sklearn-color-unfitted-level-0);\n",
       "}\n",
       "\n",
       "#sk-container-id-1 div.sk-toggleable__content.fitted {\n",
       "  /* fitted */\n",
       "  background-color: var(--sklearn-color-fitted-level-0);\n",
       "}\n",
       "\n",
       "#sk-container-id-1 div.sk-toggleable__content pre {\n",
       "  margin: 0.2em;\n",
       "  border-radius: 0.25em;\n",
       "  color: var(--sklearn-color-text);\n",
       "  /* unfitted */\n",
       "  background-color: var(--sklearn-color-unfitted-level-0);\n",
       "}\n",
       "\n",
       "#sk-container-id-1 div.sk-toggleable__content.fitted pre {\n",
       "  /* unfitted */\n",
       "  background-color: var(--sklearn-color-fitted-level-0);\n",
       "}\n",
       "\n",
       "#sk-container-id-1 input.sk-toggleable__control:checked~div.sk-toggleable__content {\n",
       "  /* Expand drop-down */\n",
       "  max-height: 200px;\n",
       "  max-width: 100%;\n",
       "  overflow: auto;\n",
       "}\n",
       "\n",
       "#sk-container-id-1 input.sk-toggleable__control:checked~label.sk-toggleable__label-arrow:before {\n",
       "  content: \"▾\";\n",
       "}\n",
       "\n",
       "/* Pipeline/ColumnTransformer-specific style */\n",
       "\n",
       "#sk-container-id-1 div.sk-label input.sk-toggleable__control:checked~label.sk-toggleable__label {\n",
       "  color: var(--sklearn-color-text);\n",
       "  background-color: var(--sklearn-color-unfitted-level-2);\n",
       "}\n",
       "\n",
       "#sk-container-id-1 div.sk-label.fitted input.sk-toggleable__control:checked~label.sk-toggleable__label {\n",
       "  background-color: var(--sklearn-color-fitted-level-2);\n",
       "}\n",
       "\n",
       "/* Estimator-specific style */\n",
       "\n",
       "/* Colorize estimator box */\n",
       "#sk-container-id-1 div.sk-estimator input.sk-toggleable__control:checked~label.sk-toggleable__label {\n",
       "  /* unfitted */\n",
       "  background-color: var(--sklearn-color-unfitted-level-2);\n",
       "}\n",
       "\n",
       "#sk-container-id-1 div.sk-estimator.fitted input.sk-toggleable__control:checked~label.sk-toggleable__label {\n",
       "  /* fitted */\n",
       "  background-color: var(--sklearn-color-fitted-level-2);\n",
       "}\n",
       "\n",
       "#sk-container-id-1 div.sk-label label.sk-toggleable__label,\n",
       "#sk-container-id-1 div.sk-label label {\n",
       "  /* The background is the default theme color */\n",
       "  color: var(--sklearn-color-text-on-default-background);\n",
       "}\n",
       "\n",
       "/* On hover, darken the color of the background */\n",
       "#sk-container-id-1 div.sk-label:hover label.sk-toggleable__label {\n",
       "  color: var(--sklearn-color-text);\n",
       "  background-color: var(--sklearn-color-unfitted-level-2);\n",
       "}\n",
       "\n",
       "/* Label box, darken color on hover, fitted */\n",
       "#sk-container-id-1 div.sk-label.fitted:hover label.sk-toggleable__label.fitted {\n",
       "  color: var(--sklearn-color-text);\n",
       "  background-color: var(--sklearn-color-fitted-level-2);\n",
       "}\n",
       "\n",
       "/* Estimator label */\n",
       "\n",
       "#sk-container-id-1 div.sk-label label {\n",
       "  font-family: monospace;\n",
       "  font-weight: bold;\n",
       "  display: inline-block;\n",
       "  line-height: 1.2em;\n",
       "}\n",
       "\n",
       "#sk-container-id-1 div.sk-label-container {\n",
       "  text-align: center;\n",
       "}\n",
       "\n",
       "/* Estimator-specific */\n",
       "#sk-container-id-1 div.sk-estimator {\n",
       "  font-family: monospace;\n",
       "  border: 1px dotted var(--sklearn-color-border-box);\n",
       "  border-radius: 0.25em;\n",
       "  box-sizing: border-box;\n",
       "  margin-bottom: 0.5em;\n",
       "  /* unfitted */\n",
       "  background-color: var(--sklearn-color-unfitted-level-0);\n",
       "}\n",
       "\n",
       "#sk-container-id-1 div.sk-estimator.fitted {\n",
       "  /* fitted */\n",
       "  background-color: var(--sklearn-color-fitted-level-0);\n",
       "}\n",
       "\n",
       "/* on hover */\n",
       "#sk-container-id-1 div.sk-estimator:hover {\n",
       "  /* unfitted */\n",
       "  background-color: var(--sklearn-color-unfitted-level-2);\n",
       "}\n",
       "\n",
       "#sk-container-id-1 div.sk-estimator.fitted:hover {\n",
       "  /* fitted */\n",
       "  background-color: var(--sklearn-color-fitted-level-2);\n",
       "}\n",
       "\n",
       "/* Specification for estimator info (e.g. \"i\" and \"?\") */\n",
       "\n",
       "/* Common style for \"i\" and \"?\" */\n",
       "\n",
       ".sk-estimator-doc-link,\n",
       "a:link.sk-estimator-doc-link,\n",
       "a:visited.sk-estimator-doc-link {\n",
       "  float: right;\n",
       "  font-size: smaller;\n",
       "  line-height: 1em;\n",
       "  font-family: monospace;\n",
       "  background-color: var(--sklearn-color-background);\n",
       "  border-radius: 1em;\n",
       "  height: 1em;\n",
       "  width: 1em;\n",
       "  text-decoration: none !important;\n",
       "  margin-left: 1ex;\n",
       "  /* unfitted */\n",
       "  border: var(--sklearn-color-unfitted-level-1) 1pt solid;\n",
       "  color: var(--sklearn-color-unfitted-level-1);\n",
       "}\n",
       "\n",
       ".sk-estimator-doc-link.fitted,\n",
       "a:link.sk-estimator-doc-link.fitted,\n",
       "a:visited.sk-estimator-doc-link.fitted {\n",
       "  /* fitted */\n",
       "  border: var(--sklearn-color-fitted-level-1) 1pt solid;\n",
       "  color: var(--sklearn-color-fitted-level-1);\n",
       "}\n",
       "\n",
       "/* On hover */\n",
       "div.sk-estimator:hover .sk-estimator-doc-link:hover,\n",
       ".sk-estimator-doc-link:hover,\n",
       "div.sk-label-container:hover .sk-estimator-doc-link:hover,\n",
       ".sk-estimator-doc-link:hover {\n",
       "  /* unfitted */\n",
       "  background-color: var(--sklearn-color-unfitted-level-3);\n",
       "  color: var(--sklearn-color-background);\n",
       "  text-decoration: none;\n",
       "}\n",
       "\n",
       "div.sk-estimator.fitted:hover .sk-estimator-doc-link.fitted:hover,\n",
       ".sk-estimator-doc-link.fitted:hover,\n",
       "div.sk-label-container:hover .sk-estimator-doc-link.fitted:hover,\n",
       ".sk-estimator-doc-link.fitted:hover {\n",
       "  /* fitted */\n",
       "  background-color: var(--sklearn-color-fitted-level-3);\n",
       "  color: var(--sklearn-color-background);\n",
       "  text-decoration: none;\n",
       "}\n",
       "\n",
       "/* Span, style for the box shown on hovering the info icon */\n",
       ".sk-estimator-doc-link span {\n",
       "  display: none;\n",
       "  z-index: 9999;\n",
       "  position: relative;\n",
       "  font-weight: normal;\n",
       "  right: .2ex;\n",
       "  padding: .5ex;\n",
       "  margin: .5ex;\n",
       "  width: min-content;\n",
       "  min-width: 20ex;\n",
       "  max-width: 50ex;\n",
       "  color: var(--sklearn-color-text);\n",
       "  box-shadow: 2pt 2pt 4pt #999;\n",
       "  /* unfitted */\n",
       "  background: var(--sklearn-color-unfitted-level-0);\n",
       "  border: .5pt solid var(--sklearn-color-unfitted-level-3);\n",
       "}\n",
       "\n",
       ".sk-estimator-doc-link.fitted span {\n",
       "  /* fitted */\n",
       "  background: var(--sklearn-color-fitted-level-0);\n",
       "  border: var(--sklearn-color-fitted-level-3);\n",
       "}\n",
       "\n",
       ".sk-estimator-doc-link:hover span {\n",
       "  display: block;\n",
       "}\n",
       "\n",
       "/* \"?\"-specific style due to the `<a>` HTML tag */\n",
       "\n",
       "#sk-container-id-1 a.estimator_doc_link {\n",
       "  float: right;\n",
       "  font-size: 1rem;\n",
       "  line-height: 1em;\n",
       "  font-family: monospace;\n",
       "  background-color: var(--sklearn-color-background);\n",
       "  border-radius: 1rem;\n",
       "  height: 1rem;\n",
       "  width: 1rem;\n",
       "  text-decoration: none;\n",
       "  /* unfitted */\n",
       "  color: var(--sklearn-color-unfitted-level-1);\n",
       "  border: var(--sklearn-color-unfitted-level-1) 1pt solid;\n",
       "}\n",
       "\n",
       "#sk-container-id-1 a.estimator_doc_link.fitted {\n",
       "  /* fitted */\n",
       "  border: var(--sklearn-color-fitted-level-1) 1pt solid;\n",
       "  color: var(--sklearn-color-fitted-level-1);\n",
       "}\n",
       "\n",
       "/* On hover */\n",
       "#sk-container-id-1 a.estimator_doc_link:hover {\n",
       "  /* unfitted */\n",
       "  background-color: var(--sklearn-color-unfitted-level-3);\n",
       "  color: var(--sklearn-color-background);\n",
       "  text-decoration: none;\n",
       "}\n",
       "\n",
       "#sk-container-id-1 a.estimator_doc_link.fitted:hover {\n",
       "  /* fitted */\n",
       "  background-color: var(--sklearn-color-fitted-level-3);\n",
       "}\n",
       "</style><div id=\"sk-container-id-1\" class=\"sk-top-container\"><div class=\"sk-text-repr-fallback\"><pre>StandardScaler()</pre><b>In a Jupyter environment, please rerun this cell to show the HTML representation or trust the notebook. <br />On GitHub, the HTML representation is unable to render, please try loading this page with nbviewer.org.</b></div><div class=\"sk-container\" hidden><div class=\"sk-item\"><div class=\"sk-estimator fitted sk-toggleable\"><input class=\"sk-toggleable__control sk-hidden--visually\" id=\"sk-estimator-id-1\" type=\"checkbox\" checked><label for=\"sk-estimator-id-1\" class=\"sk-toggleable__label fitted sk-toggleable__label-arrow fitted\">&nbsp;&nbsp;StandardScaler<a class=\"sk-estimator-doc-link fitted\" rel=\"noreferrer\" target=\"_blank\" href=\"https://scikit-learn.org/1.4/modules/generated/sklearn.preprocessing.StandardScaler.html\">?<span>Documentation for StandardScaler</span></a><span class=\"sk-estimator-doc-link fitted\">i<span>Fitted</span></span></label><div class=\"sk-toggleable__content fitted\"><pre>StandardScaler()</pre></div> </div></div></div></div>"
      ],
      "text/plain": [
       "StandardScaler()"
      ]
     },
     "execution_count": 35,
     "metadata": {},
     "output_type": "execute_result"
    }
   ],
   "source": [
    "# Ajusta o scaler aos dados de treino (X_treino) para calcular a média e o desvio padrão de cada característica\n",
    "# Essas estatísticas serão usadas posteriormente para padronizar os dados\n",
    "scaler.fit(dados_x_treino_balanceado)"
   ]
  },
  {
   "cell_type": "code",
   "execution_count": 36,
   "metadata": {},
   "outputs": [],
   "source": [
    "# Salva o objeto em disco e carrega para usamos adiante\n",
    "scalerfile = 'scaler.sav'"
   ]
  },
  {
   "cell_type": "code",
   "execution_count": 37,
   "metadata": {},
   "outputs": [],
   "source": [
    "# Salva o objeto 'scaler' em um arquivo binário usando o módulo pickle\n",
    "# O arquivo será salvo com o nome especificado em 'scalerfile', no modo de escrita binária ('wb')\n",
    "pickle.dump(scaler, open(scalerfile, 'wb'))\n",
    "\n",
    "# Carrega o objeto 'scaler' de um arquivo binário usando o módulo pickle\n",
    "# O arquivo a ser carregado é o especificado em 'scalerfile', no modo de leitura binária ('rb')\n",
    "scaler = pickle.load(open(scalerfile, 'rb'))"
   ]
  },
  {
   "cell_type": "code",
   "execution_count": 38,
   "metadata": {},
   "outputs": [],
   "source": [
    "# Aplica a padronização em nossas matrizes de dados\n",
    "# Aplica a transformação do scaler aos dados de treino (X_treino) para padronizar as características\n",
    "# O 'transform' usa as estatísticas calculadas previamente pelo 'fit' (média e desvio padrão)\n",
    "X_treino_padronizado = scaler.transform(dados_x_treino_balanceado)"
   ]
  },
  {
   "cell_type": "code",
   "execution_count": 39,
   "metadata": {},
   "outputs": [],
   "source": [
    "# Aplica a transformação do scaler aos dados de validação (X_valid) para padronizar as características\n",
    "# O 'transform' usa as mesmas estatísticas de 'X_treino' para garantir a consistência entre os conjuntos\n",
    "X_validacao_padronizado = scaler.transform(dados_x_validacao)"
   ]
  },
  {
   "cell_type": "markdown",
   "metadata": {},
   "source": [
    "## Etapa 9 - Modelagem Preditiva"
   ]
  },
  {
   "cell_type": "code",
   "execution_count": 40,
   "metadata": {},
   "outputs": [],
   "source": [
    "# Função para calcular a especificidade de um modelo de classificação\n",
    "# A especificidade mede a capacidade do modelo de identificar corretamente os casos negativos (classe 0)\n",
    "# Fórmula da especificidade: TN / (TN + FP), onde:\n",
    "# - TN (True Negative) = Verdadeiros negativos (preditos corretamente como 0)\n",
    "# - FP (False Positive) = Falsos positivos (preditos erroneamente como 1)\n",
    "# - A especificidade indica quantos dos casos negativos foram corretamente identificados\n",
    "\n",
    "# Parâmetros:\n",
    "# - y_atual: vetor com os rótulos reais (0 ou 1)\n",
    "# - y_predicao: vetor com as previsões do modelo (valores contínuos entre 0 e 1, antes do limiar)\n",
    "# - thresh: limiar que define a classificação (por exemplo, 0.5 para um modelo binário)\n",
    "def calcula_especificidade(y_atual, y_predicao, thresh):\n",
    "    \n",
    "    # Identifica os casos previstos como negativos (0), ou seja, quando a previsão é menor que o limiar\n",
    "    negativos_preditos = y_predicao < thresh  \n",
    "    \n",
    "    # Identifica os casos reais negativos (0)\n",
    "    negativos_reais = y_atual == 0  \n",
    "    \n",
    "    # Conta os verdadeiros negativos (casos em que o modelo previu 0 e o rótulo real também era 0)\n",
    "    verdadeiros_negativos = sum(negativos_preditos & negativos_reais)  \n",
    "\n",
    "    # Conta o total de casos realmente negativos no conjunto de dados\n",
    "    total_negativos = sum(negativos_reais)  \n",
    "\n",
    "    # Calcula a especificidade (taxa de verdadeiros negativos sobre o total de negativos reais)\n",
    "    return verdadeiros_negativos / total_negativos"
   ]
  },
  {
   "cell_type": "code",
   "execution_count": 41,
   "metadata": {},
   "outputs": [],
   "source": [
    "# Função para calcular e imprimir métricas de avaliação de um modelo de classificação\n",
    "# Essa função recebe os rótulos reais (y_atual), as previsões do modelo (y_predicao) e um limiar (thresh) \n",
    "# e calcula diversas métricas importantes para avaliar a performance do modelo.\n",
    "\n",
    "# Parâmetros:\n",
    "# - y_atual: Vetor com os rótulos reais (valores 0 ou 1).\n",
    "# - y_predicao: Vetor com os valores preditos pelo modelo (probabilidades entre 0 e 1 antes da decisão final).\n",
    "# - thresh: Limiar de decisão que define se uma previsão será classificada como 0 ou 1 (exemplo: 0.5).\n",
    "\n",
    "def imprime_retorna_metrica(y_atual, y_predicao, thresh):\n",
    "\n",
    "    # Calcula a AUC (Área sob a curva ROC)\n",
    "    # A AUC mede a capacidade do modelo de distinguir entre as classes positiva e negativa.\n",
    "    # Quanto mais próximo de 1, melhor o modelo.\n",
    "    auc = roc_auc_score(y_atual, y_predicao)\n",
    "\n",
    "    # Calcula a acurácia do modelo\n",
    "    # A acurácia representa a proporção de previsões corretas entre todas as previsões feitas.\n",
    "    # O resultado é um valor entre 0 e 1, onde 1 indica todas as previsões corretas.\n",
    "    accuracy = accuracy_score(y_atual, (y_predicao > thresh))\n",
    "\n",
    "    # Calcula o recall (sensibilidade ou taxa de verdadeiros positivos)\n",
    "    # Mede a capacidade do modelo de identificar corretamente os casos positivos.\n",
    "    # Fórmula: Recall = TP / (TP + FN)\n",
    "    recall = recall_score(y_atual, (y_predicao > thresh))\n",
    "\n",
    "    # Calcula a precisão (proporção de positivos preditos corretamente)\n",
    "    # Mede a exatidão das previsões positivas feitas pelo modelo.\n",
    "    # Fórmula: Precisão = TP / (TP + FP)\n",
    "    precision = precision_score(y_atual, (y_predicao > thresh))\n",
    "\n",
    "    # Calcula a especificidade (taxa de verdadeiros negativos)\n",
    "    # Mede a capacidade do modelo de identificar corretamente os casos negativos.\n",
    "    # Fórmula: Especificidade = TN / (TN + FP)\n",
    "    specificity = calcula_especificidade(y_atual, y_predicao, thresh)\n",
    "\n",
    "    # Imprime os resultados das métricas calculadas, formatando os valores com 3 casas decimais\n",
    "    print('AUC: %.3f' % auc)\n",
    "    print('Acurácia: %.3f' % accuracy)\n",
    "    print('Recall: %.3f' % recall)\n",
    "    print('Precisão: %.3f' % precision)\n",
    "    print('Especificidade: %.3f' % specificity)\n",
    "    print(' ')  # Linha em branco para facilitar a leitura\n",
    "    \n",
    "    # Retorna as métricas calculadas\n",
    "    return auc, accuracy, recall, precision, specificity"
   ]
  },
  {
   "cell_type": "markdown",
   "metadata": {},
   "source": [
    "As métricas acima são amplamente utilizadas para avaliar o desempenho de modelos de classificação em machine learning. Cada uma fornece informações distintas sobre a qualidade das previsões do modelo.  \n",
    "\n",
    "**AUC (Área sob a Curva ROC)**  \n",
    "A AUC representa a área sob a curva ROC, que avalia o desempenho do modelo em diferentes limiares de classificação. A curva ROC exibe a relação entre a taxa de verdadeiros positivos (sensibilidade) e a taxa de falsos positivos (1 - especificidade). O valor da AUC varia entre 0 e 1, onde um modelo com AUC igual a 1 realiza classificações perfeitas, enquanto um modelo com AUC de 0.5 não tem desempenho melhor do que uma escolha aleatória.  \n",
    "\n",
    "**Acurácia**  \n",
    "A acurácia indica a proporção de previsões corretas em relação ao total de amostras analisadas. É calculada como a soma de verdadeiros positivos e verdadeiros negativos dividida pelo total de casos. Embora seja uma métrica útil para medir a eficácia geral do modelo, pode ser enganosa quando os dados estão desbalanceados, pois pode dar uma falsa impressão de bom desempenho caso uma classe seja muito mais frequente que a outra.  \n",
    "\n",
    "**Recall (Sensibilidade ou Taxa de Verdadeiros Positivos)**  \n",
    "O recall mede a proporção de exemplos positivos corretamente identificados pelo modelo. É calculado dividindo os verdadeiros positivos pelo total de exemplos que realmente pertencem à classe positiva. Essa métrica é importante quando a identificação correta dos casos positivos é essencial, como em diagnósticos médicos, onde a falha em detectar um caso positivo pode ter consequências graves.  \n",
    "\n",
    "**Precisão**  \n",
    "A precisão mede a proporção de previsões positivas que realmente correspondem à classe positiva. É calculada como o número de verdadeiros positivos dividido pela soma de verdadeiros positivos e falsos positivos. Uma alta precisão significa uma menor taxa de falsos positivos, o que é essencial em aplicações onde classificações incorretas podem gerar custos elevados, como em fraudes bancárias.  \n",
    "\n",
    "**Especificidade**  \n",
    "A especificidade avalia a proporção de exemplos negativos corretamente identificados. É calculada dividindo os verdadeiros negativos pelo total de exemplos que pertencem à classe negativa. Essa métrica é relevante em cenários onde minimizar falsos positivos é crítico, como no controle de qualidade em processos industriais. No scikit-learn, a especificidade não é fornecida diretamente, mas pode ser calculada a partir da matriz de confusão ou por meio de uma função personalizada."
   ]
  },
  {
   "cell_type": "code",
   "execution_count": 42,
   "metadata": {},
   "outputs": [],
   "source": [
    "#Como os dados de treinamento foram equilibrados, vamos definir um limiar de 0,5 para classificar uma amostra prevista como positiva.\n",
    "thresh = 0.5"
   ]
  },
  {
   "cell_type": "markdown",
   "metadata": {},
   "source": [
    "### **Versão 1 - Modelos Lineares**  \n",
    "\n"
   ]
  },
  {
   "cell_type": "markdown",
   "metadata": {},
   "source": [
    "---\n",
    "\n",
    "**Versão 1: Modelo Linear para Classificação – Regressão Logística**  \n",
    "\n",
    "Na primeira versão do nosso modelo, utilizaremos a **Regressão Logística**, um algoritmo linear amplamente empregado em **tarefas de classificação binária**.  \n",
    "\n",
    "Esse método é usado para prever um **resultado binário**, ou seja, ele decide entre duas possíveis categorias, como **sim ou não**, **verdadeiro ou falso**, **sucesso ou fracasso**.  \n",
    "\n",
    "A regressão logística funciona calculando a **probabilidade** de um evento ocorrer com base nas características observadas nos dados. Por exemplo, podemos utilizá-la para prever se um cliente realizará uma compra, considerando seu histórico de compras e outros atributos relevantes.  \n",
    "\n",
    "Além de ser um modelo intuitivo e fácil de interpretar, a regressão logística é **robusta e eficiente**, sendo amplamente utilizada em problemas como **diagnóstico médico, análise de crédito e detecção de fraudes**.  \n",
    "\n",
    "---\n"
   ]
  },
  {
   "cell_type": "code",
   "execution_count": 43,
   "metadata": {},
   "outputs": [
    {
     "name": "stdout",
     "output_type": "stream",
     "text": [
      "\n",
      "Regressão Logística\n",
      "\n",
      "Treinamento:\n",
      "\n",
      "AUC: 0.957\n",
      "Acurácia: 0.881\n",
      "Recall: 0.903\n",
      "Precisão: 0.864\n",
      "Especificidade: 0.858\n",
      " \n",
      "Validação:\n",
      "\n",
      "AUC: 0.912\n",
      "Acurácia: 0.820\n",
      "Recall: 0.909\n",
      "Precisão: 0.556\n",
      "Especificidade: 0.795\n",
      " \n"
     ]
    }
   ],
   "source": [
    "# Construção do modelo\n",
    "# Cria o classificador (objeto) de Regressão Logística\n",
    "# max_iter: define o número máximo de iterações para o processo de ajuste (500 para garantir convergência)\n",
    "# random_state: define a semente aleatória para tornar o resultado reprodutível\n",
    "# Importa o modelo de Regressão Logística\n",
    "lr = LogisticRegression(max_iter=500, random_state=142)\n",
    "# Treina o modelo usando os dados de treino normalizados (X_treino_tf) e os rótulos (y_treino)\n",
    "modelo_regressao_logistica = lr.fit(X_treino_padronizado, dados_y_treino_balanceado)\n",
    "# Previsões para os dados de treino e validação\n",
    "# A função predict_proba retorna as probabilidades de cada classe. [:, 1] seleciona a probabilidade da classe 1 (positiva)\n",
    "y_train_preds = modelo_regressao_logistica.predict_proba(X_treino_padronizado)[:, 1]  # Probabilidades do conjunto de treino\n",
    "y_valid_preds = modelo_regressao_logistica.predict_proba(X_validacao_padronizado)[:, 1]  # Probabilidades do conjunto de validação\n",
    "# Imprime um título para indicar que o modelo de Regressão Logística está sendo avaliado\n",
    "print('\\nRegressão Logística\\n')\n",
    "# Avaliação do modelo no conjunto de treino\n",
    "print('Treinamento:\\n')\n",
    "# Chama a função dsa_print_report para calcular e exibir métricas de avaliação no conjunto de treino\n",
    "# As métricas retornadas incluem:\n",
    "# - AUC (Área sob a curva ROC)\n",
    "# - Acurácia (acc)\n",
    "# - Recall (rec)\n",
    "# - Precisão (prec)\n",
    "# - Especificidade (spec)\n",
    "v1_train_auc, v1_train_acc, v1_train_rec, v1_train_prec, v1_train_spec = imprime_retorna_metrica(\n",
    "    dados_y_treino_balanceado,  # Rótulos verdadeiros do conjunto de treino\n",
    "    y_train_preds,  # Previsões do modelo para o conjunto de treino\n",
    "    thresh  # Limite de decisão para classificação (threshold)\n",
    ")\n",
    "\n",
    "# Avaliação do modelo no conjunto de validação\n",
    "print('Validação:\\n')\n",
    "# Chama a função dsa_print_report para calcular e exibir métricas de avaliação no conjunto de validação\n",
    "v1_valid_auc, v1_valid_acc, v1_valid_rec, v1_valid_prec, v1_valid_spec = imprime_retorna_metrica(\n",
    "    dados_y_validacao,  # Rótulos verdadeiros do conjunto de validação\n",
    "    y_valid_preds,  # Previsões do modelo para o conjunto de validação\n",
    "    thresh  # Limite de decisão para classificação (threshold)\n",
    ")"
   ]
  },
  {
   "cell_type": "markdown",
   "metadata": {},
   "source": [
    "### Versão 2  - Modelos Probabilísticos"
   ]
  },
  {
   "cell_type": "markdown",
   "metadata": {},
   "source": [
    "---\n",
    "\n",
    "**Versão 2: Algoritmo Probabilístico - Gaussian Naive Bayes**  \n",
    "\n",
    "Na segunda versão do nosso modelo, utilizaremos o **Gaussian Naive Bayes**, um algoritmo probabilístico baseado no **Teorema de Bayes**.  \n",
    "\n",
    "O Gaussian Naive Bayes assume que os atributos de entrada seguem uma distribuição **normal (gaussiana)** e que todas as características são **independentes entre si**. Embora essa suposição raramente seja verdadeira na prática, ela simplifica os cálculos e torna o modelo computacionalmente eficiente.  \n",
    "\n",
    "Esse algoritmo é especialmente útil em **problemas de classificação** onde as variáveis preditoras são contínuas e aproximadamente normais, como em **classificação de textos**, **diagnósticos médicos** e **reconhecimento de padrões**.  \n",
    "\n",
    "O funcionamento do Gaussian Naive Bayes consiste em calcular a **probabilidade condicional** de cada classe com base nos atributos de entrada e, em seguida, atribuir a classe com **maior probabilidade** à nova instância. Apesar de sua simplicidade, esse modelo pode alcançar bons resultados em diversas aplicações, especialmente quando há um grande volume de dados.  \n",
    "\n",
    "---\n"
   ]
  },
  {
   "cell_type": "code",
   "execution_count": 49,
   "metadata": {},
   "outputs": [
    {
     "name": "stdout",
     "output_type": "stream",
     "text": [
      "\n",
      "Avaliação do Gaussian Naive Bayes\n",
      "\n",
      "Treinamento:\n",
      "\n",
      "AUC: 0.989\n",
      "Acurácia: 0.932\n",
      "Recall: 0.942\n",
      "Precisão: 0.924\n",
      "Especificidade: 0.923\n",
      " \n",
      "Validação:\n",
      "\n",
      "AUC: 0.967\n",
      "Acurácia: 0.887\n",
      "Recall: 0.909\n",
      "Precisão: 0.682\n",
      "Especificidade: 0.880\n",
      " \n"
     ]
    }
   ],
   "source": [
    "# Construção do modelo\n",
    "# Cria o classificador Gaussian Naive Bayes\n",
    "# O GaussianNB é um modelo probabilístico que assume que as características seguem uma distribuição normal (gaussiana).\n",
    "nb = GaussianNB()\n",
    "\n",
    "# Treina o modelo usando os dados de treino já padronizados e balanceados\n",
    "# O método .fit(X, y) ajusta o modelo aos dados de treinamento\n",
    "modelo_Gaussian = nb.fit(X_treino_padronizado, dados_y_treino_balanceado)\n",
    "\n",
    "# Previsões do modelo\n",
    "# Gera previsões para o conjunto de treino e validação\n",
    "# O método predict_proba(X) retorna as probabilidades de cada classe (0 e 1)\n",
    "# [:, 1] seleciona apenas a probabilidade associada à classe positiva (Fechou_Contrato = 1)\n",
    "y_train_preds = modelo_Gaussian.predict_proba(X_treino_padronizado)[:, 1]        # Probabilidades do conjunto de treino\n",
    "y_valid_preds = modelo_Gaussian.predict_proba(X_validacao_padronizado)[:, 1]     # Probabilidades do conjunto de validação\n",
    "\n",
    "# Avaliação do modelo\n",
    "# Exibe um título para indicar que o modelo Gaussian Naive Bayes está sendo avaliado\n",
    "print('\\nAvaliação do Gaussian Naive Bayes\\n')\n",
    "# Avaliação no conjunto de treino\n",
    "print('Treinamento:\\n')\n",
    "\n",
    "# Chama a função imprime_retorna_metrica para calcular e exibir métricas de avaliação no conjunto de treino\n",
    "# As métricas retornadas incluem:\n",
    "# - AUC (Área sob a curva ROC): Mede a capacidade do modelo de separar as classes.\n",
    "# - Acurácia (Accuracy): Percentual de previsões corretas.\n",
    "# - Recall (Sensibilidade): Proporção de casos positivos corretamente identificados.\n",
    "# - Precisão (Precision): Proporção de previsões positivas corretas.\n",
    "# - Especificidade: Mede a capacidade do modelo de identificar corretamente os casos negativos.\n",
    "\n",
    "v2_train_auc, v2_train_acc, v2_train_rec, v2_train_prec, v2_train_spec = imprime_retorna_metrica(\n",
    "    dados_y_treino_balanceado,  # Rótulos reais do conjunto de treino\n",
    "    y_train_preds,              # Probabilidades preditas pelo modelo para o conjunto de treino\n",
    "    thresh                      # Limiar de decisão para classificação\n",
    ")\n",
    "\n",
    "# Avaliação no conjunto de validação\n",
    "print('Validação:\\n')\n",
    "\n",
    "# Chama a função imprime_retorna_metrica para calcular e exibir métricas de avaliação no conjunto de validação\n",
    "v2_valid_auc, v2_valid_acc, v2_valid_rec, v2_valid_prec, v2_valid_spec = imprime_retorna_metrica(\n",
    "    dados_y_validacao,  # Rótulos reais do conjunto de validação\n",
    "    y_valid_preds,      # Probabilidades preditas pelo modelo para o conjunto de validação\n",
    "    thresh              # Limiar de decisão para classificação\n",
    ")"
   ]
  },
  {
   "cell_type": "markdown",
   "metadata": {},
   "source": [
    "### Versão 3  - Modelos de Árvore de Decisão e Boosting"
   ]
  },
  {
   "cell_type": "markdown",
   "metadata": {},
   "source": [
    "---\n",
    "\n",
    "**Versão 3: Modelo Baseado em Árvores de Decisão e Boosting – XGBoost**  \n",
    "\n",
    "Nesta terceira versão, utilizaremos o **XGBoost (eXtreme Gradient Boosting)**, um algoritmo baseado em **árvores de decisão** que aplica a técnica de **boosting** para melhorar a precisão das previsões.  \n",
    "\n",
    "O XGBoost constrói modelos de forma sequencial, onde cada nova árvore corrige os erros das anteriores. Esse processo dá mais peso às instâncias mais difíceis de prever, tornando o modelo mais preciso e robusto.  \n",
    "\n",
    "Entre suas principais vantagens, o XGBoost se destaca pela **eficiência computacional**, sendo otimizado para processar grandes volumes de dados com rapidez e baixo consumo de memória. Além disso, ele é altamente **flexível**, permitindo o ajuste de diversos hiperparâmetros e oferecendo suporte para diferentes funções de perda, o que o torna adequado tanto para **classificação** quanto para **regressão**.  \n",
    "\n",
    "Outro ponto importante é sua **capacidade de lidar com dados reais**, pois ele gerencia automaticamente **valores ausentes** e possui técnicas de **regularização** para reduzir o risco de sobreajuste. Essas características tornam o XGBoost uma das escolhas mais populares em competições de ciência de dados e aplicações industriais, devido à sua confiabilidade e desempenho.  \n",
    "\n",
    "---"
   ]
  },
  {
   "cell_type": "code",
   "execution_count": 48,
   "metadata": {},
   "outputs": [
    {
     "name": "stdout",
     "output_type": "stream",
     "text": [
      "\n",
      "Avaliação do Gaussian Naive Bayes\n",
      "\n",
      "Treinamento:\n",
      "\n",
      "AUC: 1.000\n",
      "Acurácia: 1.000\n",
      "Recall: 1.000\n",
      "Precisão: 1.000\n",
      "Especificidade: 1.000\n",
      " \n",
      "Validação:\n",
      "\n",
      "AUC: 0.962\n",
      "Acurácia: 0.987\n",
      "Recall: 0.939\n",
      "Precisão: 1.000\n",
      "Especificidade: 1.000\n",
      " \n"
     ]
    }
   ],
   "source": [
    "# Construção do modelo\n",
    "\n",
    "# Cria o classificador XGBoost (XGBClassifier)\n",
    "# O XGBoost é um algoritmo de boosting eficiente, conhecido por seu desempenho em tarefas de classificação e regressão\n",
    "# Importa o classificador XGBoost\n",
    "xgbc = XGBClassifier()\n",
    "\n",
    "# Treina o modelo usando os dados de treino normalizados (X_treino_tf) e os rótulos (y_treino)\n",
    "modelo_XGBoost = xgbc.fit(X_treino_padronizado, dados_y_treino_balanceado)\n",
    "# Previsões do modelo\n",
    "# Gera previsões para o conjunto de treino e validação\n",
    "# O método predict_proba(X) retorna as probabilidades de cada classe (0 e 1)\n",
    "# [:, 1] seleciona apenas a probabilidade associada à classe positiva (Fechou_Contrato = 1)\n",
    "y_train_preds = modelo_XGBoost.predict_proba(X_treino_padronizado)[:, 1]        # Probabilidades do conjunto de treino\n",
    "y_valid_preds = modelo_XGBoost.predict_proba(X_validacao_padronizado)[:, 1]     # Probabilidades do conjunto de validação\n",
    "\n",
    "# Avaliação do modelo\n",
    "# Exibe um título para indicar que o modelo Gaussian Naive Bayes está sendo avaliado\n",
    "print('\\nAvaliação do Gaussian Naive Bayes\\n')\n",
    "# Avaliação no conjunto de treino\n",
    "print('Treinamento:\\n')\n",
    "\n",
    "# Chama a função imprime_retorna_metrica para calcular e exibir métricas de avaliação no conjunto de treino\n",
    "# As métricas retornadas incluem:\n",
    "# - AUC (Área sob a curva ROC): Mede a capacidade do modelo de separar as classes.\n",
    "# - Acurácia (Accuracy): Percentual de previsões corretas.\n",
    "# - Recall (Sensibilidade): Proporção de casos positivos corretamente identificados.\n",
    "# - Precisão (Precision): Proporção de previsões positivas corretas.\n",
    "# - Especificidade: Mede a capacidade do modelo de identificar corretamente os casos negativos.\n",
    "\n",
    "v3_train_auc, v3_train_acc, v3_train_rec, v3_train_prec, v3_train_spec = imprime_retorna_metrica(\n",
    "    dados_y_treino_balanceado,  # Rótulos reais do conjunto de treino\n",
    "    y_train_preds,              # Probabilidades preditas pelo modelo para o conjunto de treino\n",
    "    thresh                      # Limiar de decisão para classificação\n",
    ")\n",
    "\n",
    "# Avaliação no conjunto de validação\n",
    "print('Validação:\\n')\n",
    "\n",
    "# Chama a função imprime_retorna_metrica para calcular e exibir métricas de avaliação no conjunto de validação\n",
    "v3_valid_auc, v3_valid_acc, v3_valid_rec, v3_valid_prec, v3_valid_spec = imprime_retorna_metrica(\n",
    "    dados_y_validacao,  # Rótulos reais do conjunto de validação\n",
    "    y_valid_preds,      # Probabilidades preditas pelo modelo para o conjunto de validação\n",
    "    thresh              # Limiar de decisão para classificação\n",
    ")"
   ]
  },
  {
   "cell_type": "markdown",
   "metadata": {},
   "source": [
    "## Etapa 10 - Validação Cruzada"
   ]
  },
  {
   "cell_type": "markdown",
   "metadata": {},
   "source": [
    "---\n",
    "\n",
    "**Validação Cruzada: Garantindo a Generalização do Modelo**  \n",
    "\n",
    "A **validação cruzada** é uma técnica utilizada para avaliar o desempenho de um modelo preditivo, garantindo sua capacidade de **generalização** para novos dados. Esse método ajuda a estimar como o modelo se comportará em dados que não foram utilizados durante o treinamento, reduzindo problemas como **overfitting**.  \n",
    "\n",
    "O princípio da validação cruzada é dividir o conjunto de dados em partes menores: uma parte é usada para treinar o modelo (**dados de treinamento**) e outra para testá-lo (**dados de teste ou validação**). Esse processo é repetido várias vezes, com diferentes divisões, permitindo que todas as amostras sejam utilizadas tanto para treino quanto para teste.  \n",
    "\n",
    "**Validação Cruzada k-Fold**  \n",
    "\n",
    "Um dos métodos mais comuns de validação cruzada é a **k-fold cross-validation**. Nesse método, os dados são divididos aleatoriamente em **k subconjuntos** (ou *folds*) de tamanho semelhante. O modelo é treinado **k vezes**, sempre utilizando **k-1 folds** para treinamento e o fold restante para teste. Esse processo garante que cada amostra seja usada pelo menos uma vez como dado de teste, tornando a avaliação mais confiável.  \n",
    "\n",
    "A principal vantagem da validação cruzada k-fold é proporcionar uma **estimativa mais precisa** do desempenho do modelo, especialmente em conjuntos de dados pequenos ou desbalanceados. Em comparação com uma simples divisão entre treino e teste, a validação cruzada faz melhor uso dos dados disponíveis, reduzindo a variabilidade nos resultados.  \n",
    "\n",
    "**Aplicação no XGBoost (XGBClassifier)**  \n",
    "\n",
    "Para realizar a **validação cruzada no Xtreme Gradient Boosting Classifier (XGBClassifier)**, podemos utilizar a função `cross_val_score` da biblioteca **scikit-learn**. Essa função avalia o modelo em diferentes divisões de treino e teste, permitindo obter uma estimativa mais robusta do seu desempenho antes da etapa final de treinamento.  \n",
    "\n",
    "---\n"
   ]
  },
  {
   "cell_type": "code",
   "execution_count": 46,
   "metadata": {},
   "outputs": [
    {
     "name": "stdout",
     "output_type": "stream",
     "text": [
      "Validação Cruzada com 5 divisões\n",
      "Score AUC em Cada Divisão: [1.         1.         1.         0.99791883 1.        ]\n",
      "Média de Score AUC: 0.9995837669094694\n"
     ]
    }
   ],
   "source": [
    "# Importa o classificador XGBoost\n",
    "xgbc = XGBClassifier()\n",
    "\n",
    "# Configuração da Validação Cruzada\n",
    "# A validação cruzada é uma técnica usada para avaliar o desempenho do modelo de forma mais robusta.\n",
    "# Em vez de dividir os dados apenas uma vez em treino e teste, ela divide os dados em várias partes (folds)\n",
    "# e treina o modelo várias vezes, cada vez usando uma parte diferente para validação.\n",
    "\n",
    "# Define o número de divisões (folds) para a validação cruzada\n",
    "n_splits = 5  # O conjunto de treino será dividido em 5 partes iguais para validação cruzada\n",
    "\n",
    "# Define a métrica usada para avaliar o desempenho do modelo em cada iteração\n",
    "score = 'roc_auc'  # A métrica escolhida é a AUC (Área sob a Curva ROC), muito usada para classificadores binários\n",
    "\n",
    "# Realiza a validação cruzada\n",
    "# A função `cross_val_score` realiza o treinamento e teste do modelo `n_splits` vezes.\n",
    "# Em cada iteração, um dos folds é usado como conjunto de validação e os demais como conjunto de treino.\n",
    "# Dessa forma, o modelo é avaliado em diferentes subconjuntos dos dados, reduzindo a chance de overfitting.\n",
    "cv_scores = cross_val_score(xgbc, X_treino_padronizado, dados_y_treino_balanceado, cv=n_splits, scoring=score)\n",
    "\n",
    "# Exibe os resultados da validação cruzada\n",
    "print(f\"Validação Cruzada com {n_splits} divisões\")\n",
    "\n",
    "# Exibe os valores da métrica AUC obtidos em cada uma das iterações da validação cruzada\n",
    "print(f\"Score AUC em Cada Divisão: {cv_scores}\")\n",
    "\n",
    "# Calcula a média dos valores obtidos na validação cruzada\n",
    "# Isso fornece uma visão geral do desempenho médio do modelo\n",
    "print(f\"Média de Score AUC: {np.mean(cv_scores)}\")"
   ]
  },
  {
   "cell_type": "markdown",
   "metadata": {},
   "source": [
    "---\n",
    "\n",
    "**Relatório de Validação Cruzada (5-Fold Cross-Validation)**  \n",
    "\n",
    "**Objetivo da Validação Cruzada**  \n",
    "A validação cruzada com **5 divisões (5-fold cross-validation)** foi utilizada para avaliar o desempenho do modelo, garantindo que ele possa generalizar bem para novos dados. O principal objetivo desse processo é reduzir a variabilidade dos resultados e evitar overfitting, testando o modelo em diferentes subconjuntos dos dados.  \n",
    "\n",
    "**Métrica Utilizada: Área Sob a Curva ROC (AUC)**  \n",
    "A métrica escolhida para avaliação foi a **Área Sob a Curva ROC (AUC - Area Under the Curve)**, que mede a capacidade do modelo de distinguir entre as classes positivas e negativas. Valores próximos de **1.0** indicam um desempenho excelente, enquanto valores próximos de **0.5** indicam desempenho semelhante a um classificador aleatório.  \n",
    "\n",
    "---\n",
    "\n",
    "**Resultados Obtidos**  \n",
    "\n",
    "**Score AUC em Cada Divisão:**\n",
    "- **1ª Divisão:** 1.0000  \n",
    "- **2ª Divisão:** 1.0000  \n",
    "- **3ª Divisão:** 1.0000  \n",
    "- **4ª Divisão:** 0.9979  \n",
    "- **5ª Divisão:** 1.0000  \n",
    "\n",
    "**Média de Score AUC:**  \n",
    "- **0.9996 (aproximadamente 99.96%)**  \n",
    "\n",
    "---\n",
    "\n",
    "**Análise dos Resultados**  \n",
    "\n",
    "1. **Alto Desempenho do Modelo**  \n",
    "   - O modelo apresentou **AUC = 1.0** em **quatro das cinco divisões**, indicando que nessas execuções ele conseguiu separar perfeitamente as classes positivas e negativas.  \n",
    "   - Apenas na **4ª divisão** houve uma ligeira queda para **0.9979**, o que ainda representa um desempenho excelente.\n",
    "\n",
    "2. **Baixa Variabilidade**  \n",
    "   - A variação entre os folds foi mínima, com uma diferença de apenas **0.0021** entre o menor e o maior valor de AUC.  \n",
    "   - Isso sugere que o modelo é estável e mantém um desempenho consistente em diferentes subconjuntos dos dados.\n",
    "\n",
    "3. **Possível Indício de Overfitting**  \n",
    "   - Resultados **perfeitamente altos** podem indicar que o modelo se ajustou **muito bem aos dados de treino**, mas isso pode levantar preocupações sobre **overfitting**.  \n",
    "   - Caso o conjunto de dados seja pequeno ou muito bem separado entre classes, o modelo pode estar capturando padrões específicos que podem não generalizar tão bem para novos dados.\n",
    "\n",
    "---\n",
    "**Conclusão**  \n",
    "- O modelo demonstrou **excelente desempenho** na validação cruzada, com uma **média de AUC de 0.9996**.  \n",
    "- A **baixa variabilidade** sugere que o modelo é **estável** e capaz de classificar corretamente as instâncias em diferentes divisões dos dados.  \n",
    "---"
   ]
  },
  {
   "cell_type": "markdown",
   "metadata": {},
   "source": [
    "## Etapa 11 - Otimização de Hiperparâmetros com GridSearchCV"
   ]
  },
  {
   "cell_type": "markdown",
   "metadata": {},
   "source": [
    "---\n",
    "\n",
    "Para otimizar os hiperparâmetros do modelo XGBoost, é possível utilizar o **GridSearchCV** ou o **RandomizedSearchCV** da biblioteca scikit-learn. Essas ferramentas automatizam a busca por combinações ideais de hiperparâmetros, selecionando aquela que proporciona o melhor desempenho ao modelo.\n",
    "\n",
    "A seguir, exemplificamos o uso do **GridSearchCV** para ajustar alguns hiperparâmetros do XGBoost. O **RandomizedSearchCV** segue um processo semelhante, mas testa um número fixo de combinações aleatórias, tornando-se uma alternativa mais eficiente quando o espaço de hiperparâmetros é muito amplo.\n",
    "\n",
    "---"
   ]
  },
  {
   "cell_type": "code",
   "execution_count": 53,
   "metadata": {},
   "outputs": [
    {
     "name": "stdout",
     "output_type": "stream",
     "text": [
      "\n",
      "Xtreme Gradient Boosting Classifier - Otimizado\n",
      "\n",
      "Melhores hiperparâmetros: {'learning_rate': 0.01, 'max_depth': 3, 'n_estimators': 100, 'subsample': 0.9}\n",
      "\n",
      "Treinamento:\n",
      "\n",
      "AUC: 0.989\n",
      "Acurácia: 0.932\n",
      "Recall: 0.942\n",
      "Precisão: 0.924\n",
      "Especificidade: 0.923\n",
      " \n",
      "Validação:\n",
      "\n",
      "AUC: 0.967\n",
      "Acurácia: 0.887\n",
      "Recall: 0.909\n",
      "Precisão: 0.682\n",
      "Especificidade: 0.880\n",
      " \n",
      "CPU times: total: 812 ms\n",
      "Wall time: 1.85 s\n"
     ]
    }
   ],
   "source": [
    "%%time   \n",
    "\n",
    "# Define o classificador XGBoost\n",
    "xgbc = XGBClassifier()\n",
    "\n",
    "# Define o espaço de hiperparâmetros para a otimização\n",
    "# O GridSearchCV irá testar todas as combinações possíveis desses valores para encontrar a melhor configuração\n",
    "param_grid = {\n",
    "    'max_depth': [3, 4, 5],             # Profundidade máxima das árvores de decisão (controla a complexidade do modelo)\n",
    "    'learning_rate': [0.01, 0.1, 0.2],  # Taxa de aprendizado (define o tamanho dos passos dados na otimização)\n",
    "    'n_estimators': [100, 200, 300],    # Número de árvores na floresta (quanto maior, melhor, mas pode aumentar overfitting)\n",
    "    'subsample': [0.7, 0.8, 0.9]        # Fração de amostras usadas para treinar cada árvore (ajuda a reduzir overfitting)\n",
    "}\n",
    "# Configura o GridSearchCV para buscar os melhores hiperparâmetros\n",
    "# cv=5 -> Faz validação cruzada com 5 divisões para avaliar cada conjunto de hiperparâmetros\n",
    "# scoring='roc_auc' -> Usa a métrica AUC-ROC para selecionar os melhores parâmetros\n",
    "# n_jobs=-1 -> Utiliza todos os processadores disponíveis para acelerar a busca\n",
    "grid_search = GridSearchCV(xgbc, param_grid, cv=5, scoring='roc_auc', n_jobs=-1)\n",
    "# Realiza a busca pelos melhores hiperparâmetros usando os dados de treino\n",
    "grid_search.fit(X_treino_padronizado, dados_y_treino_balanceado)\n",
    "# Recupera os melhores hiperparâmetros encontrados pelo GridSearchCV\n",
    "best_params = grid_search.best_params_\n",
    "# O melhor modelo encontrado pelo GridSearchCV (treinado com os melhores hiperparâmetros)\n",
    "modelo_ajustado_hiperparametro = grid_search.best_estimator_\n",
    "\n",
    "# Previsões usando o modelo otimizado\n",
    "# A função predict_proba retorna um array de probabilidades para cada classe (classe 0 e classe 1)\n",
    "# [:,1] seleciona apenas a probabilidade da classe positiva (classe 1)\n",
    "y_traino_predicao_otimizada = modelo_ajustado_hiperparametro.predict_proba(X_treino_padronizado)[:, 1]    # Previsões no conjunto de treino\n",
    "y_validacao_predicao_otimizada = modelo_ajustado_hiperparametro.predict_proba(X_validacao_padronizado)[:, 1]     # Previsões no conjunto de validação\n",
    "\n",
    "# Exibe o título informando que este é o modelo otimizado do XGBoost\n",
    "print('\\nXtreme Gradient Boosting Classifier - Otimizado\\n')\n",
    "# Exibe os melhores hiperparâmetros encontrados pelo GridSearchCV\n",
    "print('Melhores hiperparâmetros:', best_params)\n",
    "# Avaliação do modelo otimizado nos dados de treino\n",
    "print('\\nTreinamento:\\n')\n",
    "\n",
    "v4_train_auc, v4_train_acc, v4_train_rec, v4_train_prec, v4_train_spec = imprime_retorna_metrica(\n",
    "    dados_y_treino_balanceado,  # Rótulos reais do conjunto de treino\n",
    "    y_train_preds,              # Probabilidades preditas pelo modelo para o conjunto de treino\n",
    "    thresh                      # Limiar de decisão para classificação\n",
    ")\n",
    "\n",
    "# Avaliação no conjunto de validação\n",
    "print('Validação:\\n')\n",
    "\n",
    "# Chama a função imprime_retorna_metrica para calcular e exibir métricas de avaliação no conjunto de validação\n",
    "v4_valid_auc, v4_valid_acc, v4_valid_rec, v4_valid_prec, v4_valid_spec = imprime_retorna_metrica(\n",
    "    dados_y_validacao,  # Rótulos reais do conjunto de validação\n",
    "    y_valid_preds,      # Probabilidades preditas pelo modelo para o conjunto de validação\n",
    "    thresh              # Limiar de decisão para classificação\n",
    ")"
   ]
  },
  {
   "cell_type": "markdown",
   "metadata": {},
   "source": [
    "## Etapa 12 - Seleção do Melhor Modelo de Machine Learning"
   ]
  },
  {
   "cell_type": "code",
   "execution_count": 54,
   "metadata": {},
   "outputs": [],
   "source": [
    "# Cria um dataframe com as métricas calculadas\n",
    "# Importa a biblioteca Pandas para criar um DataFrame com os resultados dos modelos\n",
    "# O objetivo é organizar os valores obtidos para facilitar a análise comparativa\n",
    "df_results = pd.DataFrame({\n",
    "\n",
    "    # 🔹 'classificador': Nome dos modelos treinados\n",
    "    # Cada modelo é representado por uma sigla:\n",
    "    # RL - Regressão Logística\n",
    "    # NB - Naive Bayes\n",
    "    # XGB - XGBoost\n",
    "    # XGB_O - XGBoost Otimizado (GridSearchCV)\n",
    "    'classificador': ['RL', 'RL', 'NB', 'NB', 'XGB', 'XGB', 'XGB_O', 'XGB_O'],\n",
    "\n",
    "    # 'data_set': Define se os resultados correspondem ao conjunto de treino ou validação\n",
    "    # Como há 4 modelos, a lista ['treino', 'validação'] é repetida 4 vezes para manter o padrão\n",
    "    'data_set': ['treino', 'validação'] * 4,\n",
    "\n",
    "    # 'auc': Área Sob a Curva ROC para cada modelo\n",
    "    # Essa métrica mede a capacidade do modelo de distinguir entre as classes\n",
    "    # Valores mais altos indicam melhor desempenho (o ideal é próximo de 1)\n",
    "    'auc': [\n",
    "        v1_train_auc, v1_valid_auc,  # Regressão Logística\n",
    "        v2_train_auc, v2_valid_auc,  # Naive Bayes\n",
    "        v3_train_auc, v3_valid_auc,  # XGBoost\n",
    "        v4_train_auc, v4_valid_auc   # XGBoost Otimizado\n",
    "    ],\n",
    "\n",
    "    # 'accuracy': Acurácia de cada modelo\n",
    "    # Mede a porcentagem total de previsões corretas feitas pelo modelo\n",
    "    'accuracy': [\n",
    "        v1_train_acc, v1_valid_acc,\n",
    "        v2_train_acc, v2_valid_acc,\n",
    "        v3_train_acc, v3_valid_acc,\n",
    "        v4_train_acc, v4_valid_acc\n",
    "    ],\n",
    "\n",
    "    # 'recall': Taxa de recuperação (sensibilidade)\n",
    "    # Mede a capacidade do modelo de encontrar corretamente os casos positivos\n",
    "    # Importante para problemas onde detectar casos positivos é essencial\n",
    "    'recall': [\n",
    "        v1_train_rec, v1_valid_rec,\n",
    "        v2_train_rec, v2_valid_rec,\n",
    "        v3_train_rec, v3_valid_rec,\n",
    "        v4_train_rec, v4_valid_rec\n",
    "    ],\n",
    "\n",
    "    # 'precision': Precisão do modelo\n",
    "    # Mede a proporção de previsões positivas que realmente são positivas\n",
    "    # Importante quando há um custo alto para falsos positivos\n",
    "    'precision': [\n",
    "        v1_train_prec, v1_valid_prec,\n",
    "        v2_train_prec, v2_valid_prec,\n",
    "        v3_train_prec, v3_valid_prec,\n",
    "        v4_train_prec, v4_valid_prec\n",
    "    ],\n",
    "\n",
    "    # 🔹 'specificity': Especificidade do modelo\n",
    "    # Mede a capacidade do modelo de identificar corretamente os casos negativos\n",
    "    # Complementa o recall para avaliar o equilíbrio entre classes\n",
    "    'specificity': [\n",
    "        v1_train_spec, v1_valid_spec,\n",
    "        v2_train_spec, v2_valid_spec,\n",
    "        v3_train_spec, v3_valid_spec,\n",
    "        v4_train_spec, v4_valid_spec\n",
    "    ]\n",
    "})"
   ]
  },
  {
   "cell_type": "code",
   "execution_count": null,
   "metadata": {},
   "outputs": [
    {
     "data": {
      "image/png": "[encoded data removed]",
      "text/plain": [
       "<Figure size 640x480 with 1 Axes>"
      ]
     },
     "metadata": {},
     "output_type": "display_data"
    }
   ],
   "source": [
    "# Configuração do estilo do gráfico\n",
    "# Define o estilo como \"whitegrid\" para melhorar a visualização com um fundo branco e grades suaves\n",
    "sns.set_style(\"whitegrid\")\n",
    "\n",
    "# Criação do gráfico de barras\n",
    "# O gráfico compara os valores da métrica AUC para cada classificador nos conjuntos de treino e validação\n",
    "ax = sns.barplot(\n",
    "    x='classificador',  # Eixo X: Nome do modelo\n",
    "    y='auc',            # Eixo Y: Valor da AUC\n",
    "    hue='data_set',     # Diferencia os resultados de treino e validação\n",
    "    data=df_results     # DataFrame contendo os resultados\n",
    ")\n",
    "\n",
    "# Configuração dos eixos\n",
    "# Define o rótulo do eixo X com tamanho maior para melhor legibilidade\n",
    "ax.set_xlabel('Classificador', fontsize=15)\n",
    "# Define o rótulo do eixo Y com tamanho maior para melhor visualização da métrica AUC\n",
    "ax.set_ylabel('AUC', fontsize=15)\n",
    "# Ajusta o tamanho das marcações nos eixos para facilitar a leitura\n",
    "ax.tick_params(labelsize=15)\n",
    "\n",
    "# Configuração da legenda\n",
    "# Posiciona a legenda fora do gráfico para melhor organização visual\n",
    "plt.legend(\n",
    "    bbox_to_anchor=(1.05, 1),   # Define a posição da legenda fora do gráfico, à direita\n",
    "    loc=2,                      # Define a posição da âncora\n",
    "    borderaxespad=0.,           # Remove espaçamento entre o gráfico e a legenda\n",
    "    fontsize=15                 # Ajusta o tamanho da fonte da legenda\n",
    ")\n",
    "\n",
    "# Exibição do gráfico\n",
    "plt.show()"
   ]
  },
  {
   "cell_type": "code",
   "execution_count": 57,
   "metadata": {},
   "outputs": [
    {
     "data": {
      "application/vnd.microsoft.datawrangler.viewer.v0+json": {
       "columns": [
        {
         "name": "index",
         "rawType": "int64",
         "type": "integer"
        },
        {
         "name": "classificador",
         "rawType": "object",
         "type": "string"
        },
        {
         "name": "data_set",
         "rawType": "object",
         "type": "string"
        },
        {
         "name": "auc",
         "rawType": "float64",
         "type": "float"
        },
        {
         "name": "accuracy",
         "rawType": "float64",
         "type": "float"
        },
        {
         "name": "recall",
         "rawType": "float64",
         "type": "float"
        },
        {
         "name": "precision",
         "rawType": "float64",
         "type": "float"
        },
        {
         "name": "specificity",
         "rawType": "float64",
         "type": "float"
        }
       ],
       "conversionMethod": "pd.DataFrame",
       "ref": "b4351310-95ea-4694-9ac0-d064f29e4e91",
       "rows": [
        [
         "0",
         "RL",
         "treino",
         "1.0",
         "1.0",
         "1.0",
         "1.0",
         "1.0"
        ],
        [
         "1",
         "RL",
         "validação",
         "0.9623154623154624",
         "0.8866666666666667",
         "0.9393939393939394",
         "1.0",
         "1.0"
        ],
        [
         "2",
         "NB",
         "treino",
         "0.9887200832466181",
         "0.932258064516129",
         "0.9419354838709677",
         "0.9240506329113924",
         "0.9225806451612903"
        ],
        [
         "3",
         "NB",
         "validação",
         "0.9673659673659674",
         "0.8866666666666667",
         "0.9090909090909091",
         "0.6818181818181818",
         "0.8803418803418803"
        ],
        [
         "4",
         "XGB",
         "treino",
         "1.0",
         "1.0",
         "1.0",
         "1.0",
         "1.0"
        ],
        [
         "5",
         "XGB",
         "validação",
         "0.9623154623154624",
         "0.9866666666666667",
         "0.9393939393939394",
         "1.0",
         "1.0"
        ],
        [
         "6",
         "XGB_O",
         "treino",
         "0.9887200832466181",
         "0.932258064516129",
         "0.9419354838709677",
         "0.9240506329113924",
         "0.9225806451612903"
        ],
        [
         "7",
         "XGB_O",
         "validação",
         "0.9673659673659674",
         "0.8866666666666667",
         "0.9090909090909091",
         "0.6818181818181818",
         "0.8803418803418803"
        ]
       ],
       "shape": {
        "columns": 7,
        "rows": 8
       }
      },
      "text/html": [
       "<div>\n",
       "<style scoped>\n",
       "    .dataframe tbody tr th:only-of-type {\n",
       "        vertical-align: middle;\n",
       "    }\n",
       "\n",
       "    .dataframe tbody tr th {\n",
       "        vertical-align: top;\n",
       "    }\n",
       "\n",
       "    .dataframe thead th {\n",
       "        text-align: right;\n",
       "    }\n",
       "</style>\n",
       "<table border=\"1\" class=\"dataframe\">\n",
       "  <thead>\n",
       "    <tr style=\"text-align: right;\">\n",
       "      <th></th>\n",
       "      <th>classificador</th>\n",
       "      <th>data_set</th>\n",
       "      <th>auc</th>\n",
       "      <th>accuracy</th>\n",
       "      <th>recall</th>\n",
       "      <th>precision</th>\n",
       "      <th>specificity</th>\n",
       "    </tr>\n",
       "  </thead>\n",
       "  <tbody>\n",
       "    <tr>\n",
       "      <th>0</th>\n",
       "      <td>RL</td>\n",
       "      <td>treino</td>\n",
       "      <td>1.000000</td>\n",
       "      <td>1.000000</td>\n",
       "      <td>1.000000</td>\n",
       "      <td>1.000000</td>\n",
       "      <td>1.000000</td>\n",
       "    </tr>\n",
       "    <tr>\n",
       "      <th>1</th>\n",
       "      <td>RL</td>\n",
       "      <td>validação</td>\n",
       "      <td>0.962315</td>\n",
       "      <td>0.886667</td>\n",
       "      <td>0.939394</td>\n",
       "      <td>1.000000</td>\n",
       "      <td>1.000000</td>\n",
       "    </tr>\n",
       "    <tr>\n",
       "      <th>2</th>\n",
       "      <td>NB</td>\n",
       "      <td>treino</td>\n",
       "      <td>0.988720</td>\n",
       "      <td>0.932258</td>\n",
       "      <td>0.941935</td>\n",
       "      <td>0.924051</td>\n",
       "      <td>0.922581</td>\n",
       "    </tr>\n",
       "    <tr>\n",
       "      <th>3</th>\n",
       "      <td>NB</td>\n",
       "      <td>validação</td>\n",
       "      <td>0.967366</td>\n",
       "      <td>0.886667</td>\n",
       "      <td>0.909091</td>\n",
       "      <td>0.681818</td>\n",
       "      <td>0.880342</td>\n",
       "    </tr>\n",
       "    <tr>\n",
       "      <th>4</th>\n",
       "      <td>XGB</td>\n",
       "      <td>treino</td>\n",
       "      <td>1.000000</td>\n",
       "      <td>1.000000</td>\n",
       "      <td>1.000000</td>\n",
       "      <td>1.000000</td>\n",
       "      <td>1.000000</td>\n",
       "    </tr>\n",
       "    <tr>\n",
       "      <th>5</th>\n",
       "      <td>XGB</td>\n",
       "      <td>validação</td>\n",
       "      <td>0.962315</td>\n",
       "      <td>0.986667</td>\n",
       "      <td>0.939394</td>\n",
       "      <td>1.000000</td>\n",
       "      <td>1.000000</td>\n",
       "    </tr>\n",
       "    <tr>\n",
       "      <th>6</th>\n",
       "      <td>XGB_O</td>\n",
       "      <td>treino</td>\n",
       "      <td>0.988720</td>\n",
       "      <td>0.932258</td>\n",
       "      <td>0.941935</td>\n",
       "      <td>0.924051</td>\n",
       "      <td>0.922581</td>\n",
       "    </tr>\n",
       "    <tr>\n",
       "      <th>7</th>\n",
       "      <td>XGB_O</td>\n",
       "      <td>validação</td>\n",
       "      <td>0.967366</td>\n",
       "      <td>0.886667</td>\n",
       "      <td>0.909091</td>\n",
       "      <td>0.681818</td>\n",
       "      <td>0.880342</td>\n",
       "    </tr>\n",
       "  </tbody>\n",
       "</table>\n",
       "</div>"
      ],
      "text/plain": [
       "  classificador   data_set       auc  accuracy    recall  precision  \\\n",
       "0            RL     treino  1.000000  1.000000  1.000000   1.000000   \n",
       "1            RL  validação  0.962315  0.886667  0.939394   1.000000   \n",
       "2            NB     treino  0.988720  0.932258  0.941935   0.924051   \n",
       "3            NB  validação  0.967366  0.886667  0.909091   0.681818   \n",
       "4           XGB     treino  1.000000  1.000000  1.000000   1.000000   \n",
       "5           XGB  validação  0.962315  0.986667  0.939394   1.000000   \n",
       "6         XGB_O     treino  0.988720  0.932258  0.941935   0.924051   \n",
       "7         XGB_O  validação  0.967366  0.886667  0.909091   0.681818   \n",
       "\n",
       "   specificity  \n",
       "0     1.000000  \n",
       "1     1.000000  \n",
       "2     0.922581  \n",
       "3     0.880342  \n",
       "4     1.000000  \n",
       "5     1.000000  \n",
       "6     0.922581  \n",
       "7     0.880342  "
      ]
     },
     "execution_count": 57,
     "metadata": {},
     "output_type": "execute_result"
    }
   ],
   "source": [
    "df_results"
   ]
  },
  {
   "cell_type": "code",
   "execution_count": null,
   "metadata": {},
   "outputs": [
    {
     "data": {
      "application/vnd.microsoft.datawrangler.viewer.v0+json": {
       "columns": [
        {
         "name": "index",
         "rawType": "int64",
         "type": "integer"
        },
        {
         "name": "classificador",
         "rawType": "object",
         "type": "string"
        },
        {
         "name": "data_set",
         "rawType": "object",
         "type": "string"
        },
        {
         "name": "auc",
         "rawType": "float64",
         "type": "float"
        },
        {
         "name": "accuracy",
         "rawType": "float64",
         "type": "float"
        },
        {
         "name": "recall",
         "rawType": "float64",
         "type": "float"
        },
        {
         "name": "precision",
         "rawType": "float64",
         "type": "float"
        },
        {
         "name": "specificity",
         "rawType": "float64",
         "type": "float"
        }
       ],
       "conversionMethod": "pd.DataFrame",
       "ref": "25a7886c-22ee-4bec-afa0-56eca54611c1",
       "rows": [
        [
         "3",
         "NB",
         "validação",
         "0.9673659673659674",
         "0.8866666666666667",
         "0.9090909090909091",
         "0.6818181818181818",
         "0.8803418803418803"
        ],
        [
         "7",
         "XGB_O",
         "validação",
         "0.9673659673659674",
         "0.8866666666666667",
         "0.9090909090909091",
         "0.6818181818181818",
         "0.8803418803418803"
        ],
        [
         "1",
         "RL",
         "validação",
         "0.9623154623154624",
         "0.8866666666666667",
         "0.9393939393939394",
         "1.0",
         "1.0"
        ],
        [
         "5",
         "XGB",
         "validação",
         "0.9623154623154624",
         "0.9866666666666667",
         "0.9393939393939394",
         "1.0",
         "1.0"
        ]
       ],
       "shape": {
        "columns": 7,
        "rows": 4
       }
      },
      "text/html": [
       "<div>\n",
       "<style scoped>\n",
       "    .dataframe tbody tr th:only-of-type {\n",
       "        vertical-align: middle;\n",
       "    }\n",
       "\n",
       "    .dataframe tbody tr th {\n",
       "        vertical-align: top;\n",
       "    }\n",
       "\n",
       "    .dataframe thead th {\n",
       "        text-align: right;\n",
       "    }\n",
       "</style>\n",
       "<table border=\"1\" class=\"dataframe\">\n",
       "  <thead>\n",
       "    <tr style=\"text-align: right;\">\n",
       "      <th></th>\n",
       "      <th>classificador</th>\n",
       "      <th>data_set</th>\n",
       "      <th>auc</th>\n",
       "      <th>accuracy</th>\n",
       "      <th>recall</th>\n",
       "      <th>precision</th>\n",
       "      <th>specificity</th>\n",
       "    </tr>\n",
       "  </thead>\n",
       "  <tbody>\n",
       "    <tr>\n",
       "      <th>3</th>\n",
       "      <td>NB</td>\n",
       "      <td>validação</td>\n",
       "      <td>0.967366</td>\n",
       "      <td>0.886667</td>\n",
       "      <td>0.909091</td>\n",
       "      <td>0.681818</td>\n",
       "      <td>0.880342</td>\n",
       "    </tr>\n",
       "    <tr>\n",
       "      <th>7</th>\n",
       "      <td>XGB_O</td>\n",
       "      <td>validação</td>\n",
       "      <td>0.967366</td>\n",
       "      <td>0.886667</td>\n",
       "      <td>0.909091</td>\n",
       "      <td>0.681818</td>\n",
       "      <td>0.880342</td>\n",
       "    </tr>\n",
       "    <tr>\n",
       "      <th>1</th>\n",
       "      <td>RL</td>\n",
       "      <td>validação</td>\n",
       "      <td>0.962315</td>\n",
       "      <td>0.886667</td>\n",
       "      <td>0.939394</td>\n",
       "      <td>1.000000</td>\n",
       "      <td>1.000000</td>\n",
       "    </tr>\n",
       "    <tr>\n",
       "      <th>5</th>\n",
       "      <td>XGB</td>\n",
       "      <td>validação</td>\n",
       "      <td>0.962315</td>\n",
       "      <td>0.986667</td>\n",
       "      <td>0.939394</td>\n",
       "      <td>1.000000</td>\n",
       "      <td>1.000000</td>\n",
       "    </tr>\n",
       "  </tbody>\n",
       "</table>\n",
       "</div>"
      ],
      "text/plain": [
       "  classificador   data_set       auc  accuracy    recall  precision  \\\n",
       "3            NB  validação  0.967366  0.886667  0.909091   0.681818   \n",
       "7         XGB_O  validação  0.967366  0.886667  0.909091   0.681818   \n",
       "1            RL  validação  0.962315  0.886667  0.939394   1.000000   \n",
       "5           XGB  validação  0.962315  0.986667  0.939394   1.000000   \n",
       "\n",
       "   specificity  \n",
       "3     0.880342  \n",
       "7     0.880342  \n",
       "1     1.000000  \n",
       "5     1.000000  "
      ]
     },
     "execution_count": 58,
     "metadata": {},
     "output_type": "execute_result"
    }
   ],
   "source": [
    "# Filtra os resultados para exibir apenas os dados do conjunto de validação\n",
    "# Isso permite comparar o desempenho dos modelos nos dados que não foram usados no treinamento\n",
    "df_results[df_results['data_set'] == 'validação'].sort_values(by='auc', ascending=False)\n",
    "# Ordena os modelos com base na métrica AUC (Área sob a Curva ROC)\n",
    "# O parâmetro ascending=False garante que os modelos com maior AUC apareçam primeiro na tabela"
   ]
  },
  {
   "cell_type": "markdown",
   "metadata": {},
   "source": [
    "-----\n",
    "\n",
    "### **Resumo da Comparação dos Modelos**  \n",
    "\n",
    "- **XGB (XGBoost) teve o melhor desempenho geral** com **acurácia de 0.987, recall de 0.939 e precisão perfeita de 1.000**, garantindo equilíbrio entre identificação de positivos e minimização de falsos positivos.  \n",
    "- **NB e XGB_O apresentaram o maior AUC (0.967)**, mas com **precisão baixa (0.682)**, indicando maior risco de falsos positivos.  \n",
    "- **RL teve recall mais alto (0.939) e precisão perfeita (1.000), mas acurácia menor (0.887)**.  \n",
    "\n",
    "### **Escolha Recomendada**  \n",
    "Se o foco for **desempenho equilibrado**, **XGB é a melhor opção**.  \n",
    "Se for **maximizar recall**, **RL pode ser uma alternativa viável**.  \n",
    "Se precisar de **um modelo mais interpretável**, **NB pode ser considerado, mas exige ajustes para melhorar a precisão**.\n",
    "\n",
    "-----"
   ]
  },
  {
   "cell_type": "code",
   "execution_count": 60,
   "metadata": {},
   "outputs": [],
   "source": [
    "# Grava o modelo em disco\n",
    "# Salva o modelo treinado 'modelo_dsa_v4' no arquivo 'melhor_modelo_dsa.pkl'\n",
    "# 'wb' significa \"write binary\", pois estamos salvando um objeto binário\n",
    "# protocol=4 garante compatibilidade com versões mais recentes do Python\n",
    "pickle.dump(modelo_ajustado_hiperparametro, open('melhor_modelo.pkl', 'wb'), protocol=4) # type: ignore"
   ]
  },
  {
   "cell_type": "markdown",
   "metadata": {},
   "source": [
    "---\n",
    "### **Conclusão da Análise**  \n",
    "\n",
    "Com base nas métricas avaliadas, o modelo **XGBoost (XGB)** se destacou como a melhor opção para equilibrar **acurácia, recall e precisão**, garantindo previsões confiáveis sem comprometer a minimização de falsos positivos. Modelos como **NB e XGB_O** apresentaram um AUC ligeiramente superior, mas sua baixa precisão pode levar a decisões menos eficientes na priorização de contatos.  \n",
    "\n",
    "Diante disso, **fomos capazes de responder ao desafio proposto**: identificar padrões nos dados dos clientes e prever a **probabilidade de conversão já no primeiro contato**. Com um modelo otimizado, a empresa pode antecipar quais prospects têm maior probabilidade de fechar contrato, permitindo que os atendentes priorizem esses contatos e otimizem os esforços de venda de forma mais eficiente.  \n",
    "\n",
    "Caso seja necessário um refinamento adicional, ajustes nos hiperparâmetros podem ser explorados para melhorar ainda mais a generalização do modelo.\n",
    "\n",
    "---"
   ]
  },
  {
   "cell_type": "code",
   "execution_count": 61,
   "metadata": {},
   "outputs": [
    {
     "name": "stdout",
     "output_type": "stream",
     "text": [
      "Author: Ricardo de Souza Silva\n",
      "\n"
     ]
    }
   ],
   "source": [
    "%watermark -a \"Ricardo de Souza Silva\""
   ]
  },
  {
   "cell_type": "code",
   "execution_count": 62,
   "metadata": {},
   "outputs": [
    {
     "name": "stdout",
     "output_type": "stream",
     "text": [
      "Python implementation: CPython\n",
      "Python version       : 3.12.4\n",
      "IPython version      : 8.25.0\n",
      "\n",
      "Compiler    : MSC v.1929 64 bit (AMD64)\n",
      "OS          : Windows\n",
      "Release     : 11\n",
      "Machine     : AMD64\n",
      "Processor   : AMD64 Family 23 Model 96 Stepping 1, AuthenticAMD\n",
      "CPU cores   : 12\n",
      "Architecture: 64bit\n",
      "\n"
     ]
    }
   ],
   "source": [
    "%watermark -v -m"
   ]
  },
  {
   "cell_type": "code",
   "execution_count": 63,
   "metadata": {},
   "outputs": [
    {
     "name": "stdout",
     "output_type": "stream",
     "text": [
      "pandas    : 2.2.2\n",
      "xgboost   : 2.1.2\n",
      "seaborn   : 0.13.2\n",
      "matplotlib: 3.8.4\n",
      "numpy     : 1.26.4\n",
      "sklearn   : 1.4.2\n",
      "\n"
     ]
    }
   ],
   "source": [
    "%watermark --iversions"
   ]
  },
  {
   "cell_type": "markdown",
   "metadata": {},
   "source": [
    "# Fim"
   ]
  }
 ],
 "metadata": {
  "anaconda-cloud": {},
  "hide_input": false,
  "kernelspec": {
   "display_name": "base",
   "language": "python",
   "name": "python3"
  },
  "language_info": {
   "codemirror_mode": {
    "name": "ipython",
    "version": 3
   },
   "file_extension": ".py",
   "mimetype": "text/x-python",
   "name": "python",
   "nbconvert_exporter": "python",
   "pygments_lexer": "ipython3",
   "version": "3.12.4"
  },
  "toc": {
   "base_numbering": 1,
   "nav_menu": {},
   "number_sections": true,
   "sideBar": true,
   "skip_h1_title": false,
   "title_cell": "Table of Contents",
   "title_sidebar": "Contents",
   "toc_cell": false,
   "toc_position": {},
   "toc_section_display": true,
   "toc_window_display": false
  },
  "toc-autonumbering": true,
  "toc-showcode": false,
  "toc-showmarkdowntxt": false,
  "toc-showtags": false,
  "varInspector": {
   "cols": {
    "lenName": 16,
    "lenType": 16,
    "lenVar": 40
   },
   "kernels_config": {
    "python": {
     "delete_cmd_postfix": "",
     "delete_cmd_prefix": "del ",
     "library": "var_list.py",
     "varRefreshCmd": "print(var_dic_list())"
    },
    "r": {
     "delete_cmd_postfix": ") ",
     "delete_cmd_prefix": "rm(",
     "library": "var_list.r",
     "varRefreshCmd": "cat(var_dic_list()) "
    }
   },
   "types_to_exclude": [
    "module",
    "function",
    "builtin_function_or_method",
    "instance",
    "_Feature"
   ],
   "window_display": false
  }
 },
 "nbformat": 4,
 "nbformat_minor": 2
}
